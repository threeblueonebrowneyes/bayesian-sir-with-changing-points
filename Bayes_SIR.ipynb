{
 "cells": [
  {
   "cell_type": "markdown",
   "metadata": {
    "tags": []
   },
   "source": [
    "# Bayes analysis of SIR model with changing points"
   ]
  },
  {
   "cell_type": "markdown",
   "metadata": {
    "tags": []
   },
   "source": [
    "## Libraries"
   ]
  },
  {
   "cell_type": "code",
   "execution_count": 1,
   "metadata": {},
   "outputs": [],
   "source": [
    "# load libraries\n",
    "import numpy as np\n",
    "import matplotlib.pyplot as plt\n",
    "from scipy.special import gamma as gamma_func\n",
    "from tqdm.notebook import tqdm\n",
    "\n",
    "from utils import *\n",
    "from mcmc import *\n",
    "from clustering import *\n"
   ]
  },
  {
   "cell_type": "markdown",
   "metadata": {},
   "source": [
    "# Bayesian SIR model with change points\n",
    "\n",
    "In epidemiology, the susceptible-infected-removed (SIR) model is the most popular approach to analize the transmission of infectious diseases. During the COVID-19 pandemic this model has been used with the assumption of constant transmission rate and removal rate. This assumption is unrealistic because both individual actions for self-protection and government policies would decrease the transmission rate. In this work we are going to try to replicate the work presented in Gu et al. [^1], implementig a stochastic SIR model with change points. In this model the time invariance property of the transmission and removal rate is relaxed in order to take into account the effect of societal changes.  \n",
    "\n",
    "[^1]:Gu, J., Yin, G. Bayesian SIR model with change points with application to the Omicron wave in Singapore. Sci Rep 12, 20864 (2022). https://doi.org/10.1038/s41598-022-25473-y\n",
    "\n",
    "## The SIR model \n",
    "Given a closed population of $N$ individuals and three possible states, susceptible (S),\n",
    "infectious (I) and removed (R, either recovered or dead), each individual is assumed to be in one state at any time. Let $S(t)$, $I(t)$ and $R(t)$ denote the number of susceptible,\n",
    "infectious and removed individuals in the population at time point t (t ≥ 0) respectively. The SIR model defines the flow of individuals accordingly to the following set of ordinary differential equations: \n",
    "\n",
    "$$\n",
    "\\tag{1}\n",
    "\\begin{equation}\n",
    "\\begin{cases}\n",
    " \\frac{d S(t)}{dt} = -\\beta S(t)P(t), \\\\\n",
    "\\\\\n",
    " \\frac{d I(t)}{dt} = \\beta S(t)P(t) - \\gamma I(t), \\\\\n",
    "\\\\\n",
    "\\frac{R(t)}{dt} = \\gamma I(t),\n",
    "\\end{cases}\n",
    "\\end{equation}\n",
    "$$\n",
    "\n",
    "with $P(t) = I(t)/N$, and $\\beta, \\gamma$ beeing the transmittion rate and removal rate parameters respectively. \n",
    "\n",
    "\n",
    "## The stochastic SIR model with change points\n",
    "\n",
    "Let $\\Delta I = (\\Delta I_1, \\dots, \\Delta I_T)^T$ and $\\Delta R = (\\Delta R_1, \\dots, \\Delta R_T)^T$ be the sequences of daily reported numbers of newly infected cases and removed cases respectevely. . Given the initial state of the population $(S_0 , I_0 , R_0)$, for $ t = 1, \\dots, T$ the discrete-time stochastic SIR model with change points is defined by the following set of equations:\n",
    "$$\n",
    "\\tag{2}\n",
    "\\begin{equation}\n",
    "\\begin{cases}\n",
    " \\Delta I_t \\sim Binomial(S_{t-1}, 1-exp(-\\beta_t P_{t-1})), \n",
    " \\\\\n",
    " \\Delta R_t \\sim Binomial(I_{t-1}, \\gamma_t), \n",
    " \\\\\n",
    " S_t = S_{t-1} - \\Delta I_t,\n",
    " \\\\\n",
    " I_t = I_{t-1} + \\Delta I_t - \\Delta R_t,\n",
    " \\\\\n",
    " R_t = R_{t-1} + \\Delta R_t,\n",
    "\\end{cases}\n",
    "\\end{equation}\n",
    "$$\n",
    "\n",
    "As described before, this implementation of the SIR model allows for time-varying parameters $\\beta_t \\in (0, \\inf)$ and $\\gamma_t \\in (0, 1)$. The assumption of the model needed to understand the first two equations are:\n",
    "1. Assuming that the removal of different infectious individuals are mutually independent, the number of infectious individuals being removed at day t $\\Delta R_t$ follows $Binomial(I_{t-1}, \\gamma_t)$;\n",
    "2. For each susceptible individual at time $t-1$, the number of in person contacts with other individuals at day $t$, $N_{contact, t}$, follows a $Poisson(\\lambda_t)$;\n",
    "3. Given $N_{contact, t}$, the number of contact with infectious individuals at day $t$ follows a $Binomial(N_{contact, t} , P_{t−1})$;\n",
    "4. The probability of trasmission for each in person contact with infectous individuals is $q_t$. \n",
    "\n",
    "As a result the last three points, the probability for a supsceptible individual getting infected at day $t$ is $1-exp(-\\lambda_t q_t P_{t-1}) = 1-exp(-\\beta_t P_{t-1})$, with the reparametrization $\\beta_t = \\lambda_t q_t$. \n",
    "\n",
    "The models introduce a latent binary vector $\\delta = (\\delta_1, \\dots, \\delta_T)^T $, where $\\delta_t =1$ indicates that day $t$ is a change point, incorporating the information of a signifcant change of $\\beta_t$ and $\\gamma_t$. The index of the stage that contains day $t$ is $\\eta_t = \\sum_{u=1}^t \\delta_u$, and its stage vector is $\\eta = (\\eta_1, \\dots, \\eta_T)^T $. The study is partitioned into $K = \\sum_{u=1}^T \\delta_u$ stages. Within each stage, parameters $(\\beta_t , \\gamma_t )$ are assumed to be homogeneous with the hierarchical priors,\n",
    "\n",
    "$$\n",
    "\\tag{3}\n",
    "\\begin{equation}\n",
    "\\begin{split}\n",
    "\n",
    "\\beta_t | \\delta, b &\\sim Exp(b_{\\eta_t}), \n",
    "\\\\\n",
    "\\gamma_t | \\delta, r &\\sim Exp(r_{\\eta_t}, 1),\n",
    "\\\\\n",
    "b_1, \\dots, b_K  &\\overset{\\text{i.i.d}}{\\sim} Gamma(0.1, 0.1),\n",
    "\\\\\n",
    "r_1, \\dots, r_K  &\\overset{\\text{i.i.d}}{\\sim} Gamma(0.1, 0.1),\n",
    "\\\\\n",
    "\\delta_1, \\dots, \\delta_T &\\overset{\\text{i.i.d}}{\\sim} Bernoulli(p),\n",
    "\n",
    "\\end{split}\n",
    "\\end{equation}\n",
    "$$\n",
    "\n",
    "which are denoted as $\\pi(\\beta_t| \\delta, b), \\pi(\\gamma_t|\\delta, r), \\pi(b_k), \\pi(r_k), \\pi(\\gamma)$ respectevely, with $b = (b_1, \\dots, b_K)^T$ and $r = (r_1, \\dots, r_K)^T$.\n",
    "The expected transmission rate and the expected removal rate in stage $k (k = 1, . . . , K )$ are $1/b_k$ and $r_k/(1 + r_k)$, respectively. The hyperparameter $p$ expresses one’s prior belief on how often a change point\n",
    "occurs in a pandemic wave, because $p$ is the probability of each time point beeing a change point. We fixed $p=0.01$.\n",
    "\n",
    "## Bayesian analysis with MCMC\n",
    "To make Baysian inference on parameters $\\delta, b, r, \\beta = (\\beta_1, \\dots, \\beta_T), \\gamma = (\\gamma_1, \\dots, \\gamma_T)$ we draw samples from the posterior distribution:\n",
    "$$\n",
    "\\tag{4}\n",
    "\\begin{equation}\n",
    "\\begin{split}\n",
    "\n",
    "\\pi (\\delta, b, r, \\beta,\\gamma|S_0, I_0, R_0, \\Delta I, \\Delta R) &\\sim \\pi(\\delta) \\prod_{k=1}^K \\pi(b_k) \\prod_{t=1}^T \\{ \\pi(\\beta_t|\\delta, b)  \\mathbb{P}(\\Delta I_t|S_{t-1}, I_{t-1}, \\beta_t) \\} , \n",
    "\\\\\n",
    "&\\times \\prod_{k=1}^K \\pi(r_k) \\prod_{t=1}^T \\{ \\pi(\\gamma_t|\\delta, r) \\mathbb{P}(\\Delta R_t| I_{t-1}, \\gamma_t)   \\}\n",
    "\n",
    "\\end{split}\n",
    "\\end{equation}\n",
    "$$\n",
    "where the $\\pi(\\cdot)$ on the right side represent priors, and $\\mathbb{P}(\\Delta I_t|S_{t-1}, I_{t-1}, \\beta_t) \\}$ and $\\mathbb{P}(\\Delta R_t| I_{t-1}, \\gamma_t)$ represent the binomial likelihood funciton described in eq $(2)$. We indicate with the sampled value considered in the MCMC algorithm with a supscript $(g)$. At each iteration Gibbs sampling is used as follows:\n",
    "\n",
    "- update $\\delta$: given current values $\\beta^{(g)}$ and $\\gamma^{(g)}$, $\\delta$ is updated via an $add-delete-swap$ algorithm. Initializing $\\delta^{*} =  \\delta^{(g)}$, an operation is selected with the following probabilities: \n",
    "$$\n",
    "\\tag{5}\n",
    "\\begin{equation}\n",
    "(p_{add}, p_{delete}, p_{swap}) =\n",
    "\\begin{cases}\n",
    "\\begin{split}\n",
    " (1, 0, 0) \\quad &\\text{if $K^{(g)}=1$},  \n",
    " \\\\\n",
    " (0, 1, 0) \\quad &\\text{if $K^{(g)}=T$}, \n",
    " \\\\\n",
    "(1/3, 1/3, 1/3) \\quad &\\text{otherwise},\n",
    "\\end{split}\n",
    "\\end{cases}\n",
    "\\end{equation}\n",
    "$$ \n",
    "where $K^{(g)} =  \\sum_{t=1}^T \\delta^{(g)}_t$.  If the $add$ (or $delete$) operation is selected, we randomly select a $\\delta_t^{*}$ which is 0 (or 1) and update its value as 1 (or 0). If the $swap$ operation is selected, we randomly select a pair of $(\\delta_t^{*}, \\delta_{t-1}^{*})$ with different values and exchange their values. Given the candidate $\\delta^{*}$, we compute the Metropolis–Hasting ratio as:\n",
    "\n",
    "$$\n",
    "\\tag{6}\n",
    "\\begin{equation}\n",
    "m_{\\text{MH}} = \\frac{\\pi(\\beta^{(g)} \\gamma^{(g)}|\\delta^{*})}{\\pi(\\beta^{(g)} \\gamma^{(g)}|\\delta^{(g)})} \\cdot \\frac{\\pi(\\delta^{*})}{\\pi(\\delta^{(g)})} \\cdot \\frac{J(\\delta^{(g)}|\\delta^{*})}{J(\\delta^{*}|\\delta^{(g)})}\n",
    "\\end{equation}\n",
    "$$\n",
    "where we can derive the first two factor from the priors in the equation $(3)$ as:\n",
    "\n",
    "$$\n",
    "\\tag{7}\n",
    "\\begin{equation}\n",
    "\\frac{\\pi(\\delta^{*})}{\\pi(\\delta^{(g)})} = \\left( \\frac{p}{1-p} \\right)^{\\sum_{t=1}^T (\\delta_t^{*} - \\delta_t^{g})},\n",
    "\\end{equation}\n",
    "$$\n",
    "\n",
    "$$\n",
    "\\tag{8}\n",
    "\\begin{equation}\n",
    "\\pi(\\beta^{(g)} \\gamma^{(g)}|\\delta)  = \\left[\\frac{(0.1)^{0.2}}{\\Gamma(0.1)^2}\\right]^K\\prod_{k=1}^{K} {\\frac{\\Gamma(0.1+\\sum_{t=1}^{T}\\mathbb{I}(\\eta_{t}=k))^2 \\hspace{2mm} \\exp{\\left(-{\\sum_{t=1}^{T}\\mathbb{I}(\\eta_{t}=k) \\log{\\gamma_t}}\\right)}}{\\left(0.1+\\sum_{t=1}^T{\\beta_t\\mathbb{I}(\\eta_{t}=k)}\\right)^{0.1+\\sum\\mathbb{I}(\\eta_{t}=k)} \\left(0.1-\\sum_{t=1}^T{\\mathbb{I}(\\eta_{t}=k)\\log{\\gamma_t}}\\right)^{0.1+\\sum{\\mathbb{I}(\\eta_{t}=k)}}} }\n",
    "\\end{equation}\n",
    "$$\n",
    "and the proposal of the Metropolis-Hasting algorithm is \n",
    "\n",
    "$$\n",
    "\\tag{9}\n",
    "\\begin{equation}\n",
    "\\frac{J(\\delta^{*}|\\delta^{(g)})}{J(\\delta^{(*)}|\\delta^{(g)})} = \n",
    "\\begin{cases}\n",
    "\\begin{split}\n",
    " 1 \\quad &\\text{if $\\sum_{t=1}^T \\delta_t^{*} = \\sum_{t=1}^T \\delta_t^{(g)}$},  \n",
    " \\\\\n",
    "3/(T-1) \\quad &\\text{if $(\\sum_{t=1}^T \\delta_t^{*},\\sum_{t=1}^T \\delta_t^{(g)})=(1, 2)$ or $(T, T-1)$},\n",
    " \\\\\n",
    "(T-1)/3 \\quad &\\text{if $(\\sum_{t=1}^T \\delta_t^{*},\\sum_{t=1}^T \\delta_t^{(g)}) \\in \\{(2, 3), (3, 4), \\dots, (T-2, T-1)\\}$},\n",
    "\\\\\n",
    "\\left(T-\\sum_{t=1}^T \\delta_t^{(g)}\\right)/\\left(\\sum_{t=1}^T \\delta_t^{*} -1\\right) \\quad &\\text{if $(\\sum_{t=1}^T \\delta_t^{*},\\sum_{t=1}^T \\delta_t^{(g)}) \\in \\{(2, 3), (3, 4), \\dots, (T-2, T-1)\\}$}.\n",
    "\\end{split}\n",
    "\\end{cases}\n",
    "\\end{equation}\n",
    "$$\n",
    "\n",
    "we then obtain the updated value $\\delta^{(g+1)}$ as:\n",
    "$$\n",
    "\\tag{10}\n",
    "\\begin{equation}\n",
    "\\delta^{(g+1)} = \n",
    "\\begin{cases}\n",
    "\\begin{split}\n",
    "\\delta^{*} \\quad &\\text{with probability min(1, $m_{MH}$) },  \n",
    " \\\\\n",
    " \\delta^{(g)} \\quad &\\text{with probability 1-min(1, $m_{MH}$)}.\n",
    "\\end{split}\n",
    "\\end{cases}\n",
    "\\end{equation}\n",
    "$$\n",
    "\n",
    "Corresponditely we update $K^{(g+1)}$ and $\\eta^{(g+1)}$.\n",
    "\n",
    "- update $b$ and $r$:  Given current values $\\beta^{(g)}$ and $\\gamma^{(g)}$, $\\delta^{(g+1)}$ we sample $b_k^{(g+1)}$ and $r_k^{(g+1)}$ from:\n",
    "$$\n",
    "\\tag{11}\n",
    "\\begin{equation}\n",
    "\\begin{split}\n",
    "b_k &\\sim Gamma \\left( 0.1 + \\sum_{t=1}^T \\mathbb{I}(\\eta_t^{(g+1)} = k), 0.1 +\\sum_{t=1}^T \\beta_t^{(g)} \\mathbb{I}(\\eta_t^{(g+1)} = k)  \\right)\n",
    "\\\\\n",
    "r_k &\\sim Gamma \\left( 0.1 + \\sum_{t=1}^T \\mathbb{I}(\\eta_t^{(g+1)} = k), 0.1 +\\sum_{t=1}^T -log \\gamma_t^{(g)} \\mathbb{I}(\\eta_t^{(g+1)} = k)   \\right)\n",
    "\\end{split}\n",
    "\\end{equation}\n",
    "$$\n",
    "for $k =1, \\dots, K^{(g+1)} $.\n",
    "\n",
    "- Update $\\beta$ and $\\gamma$: Given current values $b^{(g+1)}$ and $r^{(g+1)}$, $\\delta^{(g+1)}$ we sample $\\beta_t^{(g+1)}$ and $\\gamma_t^{(g+1)}$ from posterior densities:\n",
    "$$\n",
    "\\tag{12}\n",
    "\\begin{equation}\n",
    "\\begin{split}\n",
    "\\pi(\\beta_t|S_{t-1}, \\Delta I_t, b_{\\eta_t^{(g+1)}}^{(g+1)}) &\\propto \\{1-exp(-\\beta_t P_{t-1})\\}^{\\Delta I_t} exp\\{-\\beta_t P_{t-1}(S_{t-1}-\\Delta I_{t})\\} \\pi(\\beta_t|b_{\\eta_t^{(g+1)}}^{(g+1)}),\n",
    "\\\\\n",
    "\\pi(\\gamma_t|I_{t-1}, \\Delta R_t, r_{\\eta_t^{(g+1)}}^{(g+1)}) &\\propto \\gamma_t^{\\Delta R_t} (1-\\gamma_t)^{I_{t-1}-\\Delta R_t} \\pi(\\gamma_t|r_{\\eta_t^{(g+1)}}^{(g+1)}),\n",
    "\\\\\n",
    "\\end{split}\n",
    "\\end{equation}\n",
    "$$\n",
    "for $t=1, \\dots, T$.\n",
    "\n",
    "## Changing points estimate \n",
    "Since the main interest lies in detection of change points, we aggregate $\\delta^{(1)}, \\dots , \\delta^{(G)}$ to obtain a point estimate $\\hat{\\delta}$ (or the corresponding $\\hat{\\eta}$). As the indicator vector $\\delta$ is a binary vector with $2^{T−1}$ possible values in total, its posterior mean does not imply a partition of the study period and thus is difficult to interpret. Taking the sequential structure of $\\delta$ into consideration, we interpret each $\\delta^{(g)}$ (or the corresponding $\\eta^{(g)}$) as a cluster of time points $1, \\dots, T$ and obtain $\\hat{\\delta}$ by solving a clustering aggregation problem as follows:\n",
    "\n",
    "- For each pair of time point $t$ and $t'$ $(1 \\leq t < t' \\leq T)$, we estimate the posterior probability that no change points exist in the priod $\\{t+1, \\dots, t' \\}$ as \n",
    "\n",
    "$$\n",
    "\\tag{13}\n",
    "\\begin{equation}\n",
    "\\hat{q}_{tt'} = \\frac{1}{G} \\sum_{g=1}^G \\mathbb{I}(\\eta_t^{(g)} = \\eta_{t'}^{(g)})\n",
    "\\end{equation}\n",
    "$$\n",
    "\n",
    "- The Bayes estimator for $\\hat{\\delta}$ is then obtain as\n",
    "\n",
    "$$\n",
    "\\tag{14}\n",
    "\\begin{equation}\n",
    "\\hat{\\delta} = \\arg \\min_{\\delta} \\sum_{1 \\leq t < t' \\leq T} \\left| \\mathbb{I}(\\eta_t = \\eta_{t'}\\right) - \\hat{q}_{tt'}|\n",
    "\\end{equation}\n",
    "$$\n",
    "\n",
    "Based on $\\hat{\\delta}$, it is also possible to compute probability regions of change points. Let $\\hat{\\tau}_k = \\min \\{ t: \\sum_{u=1}^t \\hat{\\delta}_t\\ \\geq k \\} $ denotate the $k$-th estimated change point ($k=1, \\dots, \\hat{K}$). The (1-$\\alpha$) highest posterior density (HPD) interval of the $k$-th change point is computed as $\\left[ \\hat{\\tau}_{lk}, \\hat{\\tau}_{uk} \\right]$ where:\n",
    "\n",
    "\n",
    "$$\n",
    "\\tag{15}\n",
    "\\begin{equation}\n",
    "\\hat{\\tau}_{lk}, \\hat{\\tau}_{uk} = \\arg \\min_{\\tau_l \\leq \\hat{\\tau}_k \\leq \\tau_u} (\\tau_u -\\tau_l) \\quad \\text{s.t.} \\quad \\frac{1}{G} \\sum_{u=\\tau_l}^{\\tau_{u}} \\sum_{g=1}^{G} \\delta_u^{(g)} \\geq 1 - \\alpha.\n",
    "\\end{equation}\n",
    "$$\n",
    "\n",
    "\n",
    "As the number of stages varies among posterior samples, we use\n",
    "$$\n",
    "\\tag{16}\n",
    "\\begin{equation}\n",
    "\\begin{split}\n",
    "\\hat{\\beta}_t &= \\frac{1}{G} \\sum_{g=1}^G 1/b_{\\eta_t^{(g)}}^{(g)}\n",
    "\\\\\n",
    "\\hat{\\gamma}_t &= \\frac{1}{G} \\sum_{g=1}^G r_{\\eta_t^{(g)}}^{(g)}/(1+r_{\\eta_t^{(g)}}^{(g)})\n",
    "\\end{split}\n",
    "\\end{equation}\n",
    "$$\n",
    "as smoothed estimators of the expected transmission rate and expected removal rate\n",
    "at day t respectively.\n",
    "\n",
    "\n",
    "## Bayesian analysis\n",
    "To quantitatively measure the agreement between the true $\\delta$ (or $\\eta$) and the estimator $\\hat{\\delta}$ (or $\\hat{\\eta}$), we transfer the stage allocation of time points $\\{1, \\dots , T\\}$ to a clustering problem and adopt the adjusted Rand index and the mutual information as evaluation metrics.\n",
    "\n",
    "- Adjusted Rand index (ARI):\n",
    "$$\n",
    "\\tag{17}\n",
    "\\begin{equation}\n",
    "\\text{ARI} = \\frac{ (TP+TN)-\\{(TP+FP)(TP+FN)+(TN+FP)(TN+FN)\\}}{ 1 - \\{(TP+FP)(TP+FN)+(TN+FP)(TN+FN)\\}}\n",
    "\\end{equation}\n",
    "$$\n",
    "\n",
    "where the proportions of the previous terms are:\n",
    "$$\n",
    "\\tag{18}\n",
    "\\begin{equation}\n",
    "\\begin{cases}\n",
    "\\begin{split}\n",
    "TP &= \\frac{2}{T(T-1)}\\sum_{1 \\leq t < t' \\leq T} \\mathbb{I}(\\eta_t = \\eta_{t'},  \\hat{\\eta}_t = \\hat{\\eta}_{t'}),\n",
    "\\\\\n",
    "FP  &= \\frac{2}{T(T-1)}\\sum_{1 \\leq t < t' \\leq T} \\mathbb{I}(\\eta_t \\neq \\eta_{t'},  \\hat{\\eta}_t = \\hat{\\eta}_{t'}),\n",
    "\\\\\n",
    "FN &= \\frac{2}{T(T-1)}\\sum_{1 \\leq t < t' \\leq T} \\mathbb{I}(\\eta_t = \\eta_{t'},  \\hat{\\eta}_t \\neq \\hat{\\eta}_{t'}),\n",
    "\\\\\n",
    "TN &= \\frac{2}{T(T-1)}\\sum_{1 \\leq t < t' \\leq T} \\mathbb{I}(\\eta_t \\neq \\eta_{t'},  \\hat{\\eta}_t \\neq \\hat{\\eta}_{t'}),\n",
    "\\end{split}\n",
    "\\end{cases}\n",
    "\\end{equation}\n",
    "$$\n",
    "\n",
    "The range of ARI is $[0, 1]$, where a larger ARI suggests that $\\hat{\\delta}$ is more similar to $\\delta$ and the maximum possible value is obtained when $\\hat{\\delta} = \\delta$.\n",
    "\n",
    "- Mutual Information (MI):\n",
    "$$\n",
    "\\tag{19}\n",
    "\\begin{equation}\n",
    "\\text{MI} = \\sum_{k=1}^K \\sum_{k'=1}^{\\hat{K}} \\frac{n_{kk'}}{T}log \\left( \\frac{n_{kk'}T}{n_k n_{k'}} \\right), \n",
    "\\end{equation}\n",
    "$$\n",
    "where \n",
    "$$\n",
    "\\tag{20}\n",
    "\\begin{equation}\n",
    "\\begin{cases}\n",
    "\\begin{split}\n",
    "\\hat{K} &= \\sum_{t=1}^T \\hat{\\delta}_t,\n",
    "\\\\\n",
    "n_{kk'}  &= \\sum_{t=1}^T \\mathbb{I}(\\eta_t = k,  \\hat{\\eta}_t = k'),\n",
    "\\\\\n",
    "n_k &= \\sum_{t=1}^T \\mathbb{I}(\\eta_t = k),\n",
    "\\\\\n",
    "n_{k'} &= \\sum_{t=1}^T \\mathbb{I}(\\hat{\\eta}_t = k'),\n",
    "\\end{split}\n",
    "\\end{cases}\n",
    "\\end{equation}\n",
    "$$\n",
    "\n",
    "The range of $MI$ is $[0, \\sum_{k=1}^K n_k /T \\times log(T/n_k)]$, where a larger MI suggests that $\\hat{\\delta}$ is more similar to $\\delta$ and the maximum possible value is obtained when $\\hat{\\delta}$ = $\\delta$."
   ]
  },
  {
   "cell_type": "markdown",
   "metadata": {
    "tags": []
   },
   "source": [
    "## Simulations"
   ]
  },
  {
   "cell_type": "markdown",
   "metadata": {
    "tags": []
   },
   "source": [
    "### Ground Truth"
   ]
  },
  {
   "cell_type": "code",
   "execution_count": 2,
   "metadata": {},
   "outputs": [],
   "source": [
    "# setting the ground truths and the scenarios\n",
    "gt_changing_points = [1, 26, 51, 76]\n",
    "\n",
    "\n",
    "gt_total_time = 100\n",
    "\n",
    "\n",
    "gt_delta = np.zeros(gt_total_time)\n",
    "gt_delta[np.array(gt_changing_points)-1]=1\n",
    "gt_eta = np.cumsum(gt_delta)\n",
    "gt_K = np.sum(gt_delta)\n",
    "\n",
    "\n",
    "gt_betas = [0.10, 0.4, 0.2, 0.05]\n",
    "gt_gammas = [0.01, 0.08, 0.15, 0.25]\n",
    "\n",
    "\n",
    "gt_total_population = 1_000_000\n",
    "gt_init_infected = 50\n",
    "\n",
    "#bool to save or not the simulations\n",
    "save_npz = True\n",
    "\n",
    "\n",
    "gt_changing_points_tmp = gt_changing_points.copy()\n",
    "gt_changing_points_tmp.append(gt_total_time + 1)\n",
    "\n",
    "#Compute the number of days for which a parameter hold its value\n",
    "gt_days = np.array(gt_changing_points_tmp[1:]) - np.array(gt_changing_points_tmp[:-1]) \n",
    "\n",
    "\n",
    "#Generate arrays where each element of hte first vector \n",
    "#is repeated a number of time equal to the element of the second.\n",
    "gt_beta_time = np.repeat(gt_betas, gt_days) \n",
    "gt_gamma_time = np.repeat(gt_gammas, gt_days) "
   ]
  },
  {
   "cell_type": "markdown",
   "metadata": {
    "tags": []
   },
   "source": [
    "### Vector Initializazion"
   ]
  },
  {
   "cell_type": "code",
   "execution_count": 3,
   "metadata": {},
   "outputs": [],
   "source": [
    "# setting the lvectors for the simulations\n",
    "S = np.zeros(gt_total_time + 1)\n",
    "I = np.zeros(gt_total_time + 1)\n",
    "R = np.zeros(gt_total_time + 1)\n",
    "P = np.zeros(gt_total_time + 1)\n",
    "N = np.zeros(gt_total_time + 1)\n",
    "\n",
    "#initial conditions\n",
    "N[0] = gt_total_population\n",
    "S[0] = N[0] - gt_init_infected\n",
    "I[0] = gt_init_infected\n",
    "R[0] = 0\n",
    "P[0] = I[0] / N[0]"
   ]
  },
  {
   "cell_type": "markdown",
   "metadata": {
    "tags": []
   },
   "source": [
    "### Simulation"
   ]
  },
  {
   "cell_type": "code",
   "execution_count": 4,
   "metadata": {},
   "outputs": [],
   "source": [
    "# generate the simulation as in equation (2)\n",
    "for t in range(1, gt_total_time + 1):\n",
    "    D_I = np.random.binomial(S[t - 1], 1 - np.exp(-gt_beta_time[t - 1] * P[t - 1]))\n",
    "    D_R = np.random.binomial(I[t - 1], gt_gamma_time[t - 1])\n",
    "\n",
    "    S[t] = S[t - 1] - D_I\n",
    "    I[t] = I[t - 1] + D_I - D_R\n",
    "    R[t] = R[t - 1] + D_R\n",
    "    N[t] = S[t] + I[t] + R[t]\n",
    "    P[t] = I[t] / N[t]"
   ]
  },
  {
   "cell_type": "code",
   "execution_count": 5,
   "metadata": {},
   "outputs": [],
   "source": [
    "# save the simulation\n",
    "if save_npz:\n",
    "    np.savez(\n",
    "        \"gt_data.npz\",\n",
    "        S=S,\n",
    "        I=I,\n",
    "        R=R,\n",
    "    )"
   ]
  },
  {
   "cell_type": "code",
   "execution_count": 6,
   "metadata": {},
   "outputs": [],
   "source": [
    "# load the simulation data\n",
    "simulation = np.load('gt_data.npz')"
   ]
  },
  {
   "cell_type": "markdown",
   "metadata": {
    "tags": []
   },
   "source": [
    "### Population Plot"
   ]
  },
  {
   "cell_type": "code",
   "execution_count": 7,
   "metadata": {},
   "outputs": [
    {
     "data": {
      "image/png": "[encoded data removed]",
      "text/plain": [
       "<Figure size 640x480 with 1 Axes>"
      ]
     },
     "metadata": {},
     "output_type": "display_data"
    }
   ],
   "source": [
    "# plot the data\n",
    "plot_population_data(S, R, I, gt_changing_points)"
   ]
  },
  {
   "cell_type": "markdown",
   "metadata": {
    "tags": []
   },
   "source": [
    "## MCMC algorithm"
   ]
  },
  {
   "cell_type": "markdown",
   "metadata": {
    "tags": []
   },
   "source": [
    "### Data preparation"
   ]
  },
  {
   "cell_type": "code",
   "execution_count": 8,
   "metadata": {
    "tags": []
   },
   "outputs": [],
   "source": [
    "# reshape and prepare the data\n",
    "S = simulation[\"S\"]\n",
    "R = simulation[\"R\"]\n",
    "I = simulation[\"I\"]\n",
    "\n",
    "T = gt_total_time"
   ]
  },
  {
   "cell_type": "code",
   "execution_count": 9,
   "metadata": {
    "tags": []
   },
   "outputs": [],
   "source": [
    "#Save initial conditions\n",
    "S_0 = S[0]\n",
    "I_0 = I[0]\n",
    "R_0 = R[0]\n",
    "N_0 = S_0 + I_0 + R_0\n",
    "P_0 = I_0 / N_0"
   ]
  },
  {
   "cell_type": "code",
   "execution_count": 10,
   "metadata": {
    "tags": []
   },
   "outputs": [],
   "source": [
    "S = S[1:]\n",
    "R = R[1:]\n",
    "I = I[1:]\n",
    "\n",
    "P = I / N_0"
   ]
  },
  {
   "cell_type": "code",
   "execution_count": 11,
   "metadata": {
    "tags": []
   },
   "outputs": [
    {
     "name": "stdout",
     "output_type": "stream",
     "text": [
      "Modified length:  (100,)\n",
      "T:  100\n"
     ]
    }
   ],
   "source": [
    "delta_R = R[1:] - R[:-1]\n",
    "delta_R = np.concatenate([[R[0] - R_0], delta_R])\n",
    "\n",
    "delta_I = S[:-1] - S[1:]\n",
    "delta_I = np.concatenate([[S_0 - S[0]], delta_I])\n",
    "\n",
    "print(\"Modified length: \", R.shape)\n",
    "print(\"T: \", T)"
   ]
  },
  {
   "cell_type": "markdown",
   "metadata": {
    "tags": []
   },
   "source": [
    "### MCMC hyper-parameter"
   ]
  },
  {
   "cell_type": "code",
   "execution_count": 12,
   "metadata": {},
   "outputs": [],
   "source": [
    "N = 15_000  # n samplings\n",
    "burnin = 5000\n",
    "thinning = 10\n",
    "p = 0.01"
   ]
  },
  {
   "cell_type": "markdown",
   "metadata": {},
   "source": [
    "### Algorithm parameters"
   ]
  },
  {
   "cell_type": "code",
   "execution_count": 13,
   "metadata": {},
   "outputs": [],
   "source": [
    "betas = np.zeros([N, T])\n",
    "gammas = np.zeros([N, T])\n",
    "bs = np.zeros([N, T])\n",
    "rs = np.zeros([N, T])\n",
    "deltas = np.zeros([N, T])"
   ]
  },
  {
   "cell_type": "code",
   "execution_count": 14,
   "metadata": {},
   "outputs": [],
   "source": [
    "# init following eq (3) hierarchical priors\n",
    "delta_0 = np.random.binomial(1, p, size=T) \n",
    "delta_0[0] = 1\n",
    "K_0 = np.sum(delta_0) # Number of Changeing points\n",
    "eta_0 = np.cumsum(delta_0) #Number of Changing points up to time t\n",
    "\n",
    "# vectors of K elements\n",
    "r_0 = np.random.gamma(shape=0.1, scale=10, size=K_0)\n",
    "b_0 = np.random.gamma(shape=0.1, scale=10, size=K_0)\n",
    "\n",
    "r_0 = r_0[eta_0-1]\n",
    "b_0 = b_0[eta_0-1]\n",
    "\n",
    "beta_0 = np.random.exponential(1./b_0)\n",
    "gamma_0 = np.random.beta(r_0, 1)"
   ]
  },
  {
   "cell_type": "code",
   "execution_count": 15,
   "metadata": {},
   "outputs": [],
   "source": [
    "delta = delta_0.copy()\n",
    "beta = beta_0.copy()\n",
    "gamma = gamma_0.copy()\n",
    "r = r_0.copy()\n",
    "b = b_0.copy()"
   ]
  },
  {
   "cell_type": "markdown",
   "metadata": {},
   "source": [
    "### MCMC"
   ]
  },
  {
   "cell_type": "code",
   "execution_count": 16,
   "metadata": {},
   "outputs": [],
   "source": [
    "#MCMC  \n",
    "K = np.sum(delta)\n",
    "eta = np.cumsum(delta)\n",
    "for n in range(N):\n",
    "\n",
    "    #eq (5)\n",
    "    delta_ = propose_delta(delta, T)\n",
    "    #eqs (6-10\n",
    "    delta = accept_delta(delta, delta_, beta, gamma, T, p)\n",
    "\n",
    "    #eq (11)\n",
    "    b = update_b(delta, beta)\n",
    "    r = update_r(delta, gamma)\n",
    "\n",
    "    #eqs (12)\n",
    "    beta = update_beta(b, T, S_0, P_0, S, P, delta_I)\n",
    "    gamma = update_gamma(r, T, I_0, I, delta_R)\n",
    "\n",
    "    #saving the samples\n",
    "    betas[n, :] = beta\n",
    "    gammas[n, :] = gamma\n",
    "    deltas[n, :] = delta\n",
    "    rs[n, :] = r\n",
    "    bs[n, :] = b"
   ]
  },
  {
   "cell_type": "markdown",
   "metadata": {},
   "source": [
    "## Analysis of data"
   ]
  },
  {
   "cell_type": "code",
   "execution_count": 17,
   "metadata": {},
   "outputs": [],
   "source": [
    "beta_samples = betas[burnin::thinning, :]\n",
    "delta_samples = deltas[burnin::thinning, :]\n",
    "b_samples = bs[burnin::thinning, :]\n",
    "r_samples = rs[burnin::thinning, :]\n",
    "gamma_samples = gammas[burnin::thinning, :]\n",
    "eta_samples = np.cumsum(delta_samples, axis=1)\n",
    "\n",
    "n_samples = eta_samples.shape[0]\n",
    "\n",
    "#eq (13)\n",
    "q = np.zeros((T, T))\n",
    "for n in range(n_samples):\n",
    "    q += (eta_samples[n, :] == (eta_samples[n, :])[:, None]).astype(int)\n",
    "q = q / n_samples"
   ]
  },
  {
   "cell_type": "code",
   "execution_count": 18,
   "metadata": {},
   "outputs": [
    {
     "data": {
      "text/plain": [
       "<matplotlib.colorbar.Colorbar at 0x79a004bfa7c0>"
      ]
     },
     "execution_count": 18,
     "metadata": {},
     "output_type": "execute_result"
    },
    {
     "data": {
      "image/png": "[encoded data removed]",
      "text/plain": [
       "<Figure size 640x480 with 2 Axes>"
      ]
     },
     "metadata": {},
     "output_type": "display_data"
    }
   ],
   "source": [
    "import matplotlib.colors as col\n",
    "plt.imshow(q, norm = 'log')\n",
    "plt.colorbar(label=r\"$q_{tt'}$\")\n"
   ]
  },
  {
   "cell_type": "markdown",
   "metadata": {},
   "source": [
    "### Clustering"
   ]
  },
  {
   "cell_type": "code",
   "execution_count": 19,
   "metadata": {},
   "outputs": [],
   "source": [
    "#eq (14)\n",
    "delta_hat = np.array([0] * T)\n",
    "delta_hat[0] = 1\n",
    "\n",
    "\n",
    "eta_hat = np.cumsum(delta_hat)\n",
    "\n",
    "continue_add = True\n",
    "continue_swap = True"
   ]
  },
  {
   "cell_type": "code",
   "execution_count": 20,
   "metadata": {},
   "outputs": [],
   "source": [
    "delta_final = clustering(delta_hat, eta_hat, q, T, continue_add, continue_swap)"
   ]
  },
  {
   "cell_type": "markdown",
   "metadata": {},
   "source": [
    "### Changing points "
   ]
  },
  {
   "cell_type": "code",
   "execution_count": 21,
   "metadata": {},
   "outputs": [],
   "source": [
    "eta_final= np.cumsum(delta_final)\n",
    "K_final= np.sum(delta_final)\n",
    "\n",
    "tau_final= np.where(delta_final==1)[0]"
   ]
  },
  {
   "cell_type": "code",
   "execution_count": 22,
   "metadata": {},
   "outputs": [
    {
     "data": {
      "text/plain": [
       "array([ 0, 10, 24, 75])"
      ]
     },
     "execution_count": 22,
     "metadata": {},
     "output_type": "execute_result"
    }
   ],
   "source": [
    "tau_final"
   ]
  },
  {
   "cell_type": "code",
   "execution_count": 23,
   "metadata": {},
   "outputs": [
    {
     "data": {
      "text/plain": [
       "<matplotlib.lines.Line2D at 0x79a0011b14c0>"
      ]
     },
     "execution_count": 23,
     "metadata": {},
     "output_type": "execute_result"
    },
    {
     "data": {
      "image/png": "[encoded data removed]",
      "text/plain": [
       "<Figure size 640x480 with 1 Axes>"
      ]
     },
     "metadata": {},
     "output_type": "display_data"
    }
   ],
   "source": [
    "plt.plot(delta_final)\n",
    "plt.axvline(25)\n",
    "plt.axvline(75)\n",
    "plt.axvline(50)"
   ]
  },
  {
   "cell_type": "markdown",
   "metadata": {},
   "source": [
    "### Confidence intervals"
   ]
  },
  {
   "cell_type": "code",
   "execution_count": 24,
   "metadata": {},
   "outputs": [],
   "source": [
    "alpha=0.05"
   ]
  },
  {
   "cell_type": "code",
   "execution_count": 25,
   "metadata": {},
   "outputs": [],
   "source": [
    "def constraint_lhs(deltas, tau_l, tau_u):\n",
    "    n_samples = deltas.shape[0]\n",
    "    sum_tau = np.sum(deltas[:, tau_l:tau_u]) / n_samples\n",
    "    return sum_tau"
   ]
  },
  {
   "cell_type": "code",
   "execution_count": 26,
   "metadata": {},
   "outputs": [],
   "source": [
    "def possible_taus(tau_k, delta_tau):\n",
    "    lower= tau_k\n",
    "    upper= tau_k +delta_tau\n",
    "    possible=[]\n",
    "    for i in range(delta_tau+1):\n",
    "        if upper<=T and lower>=0:\n",
    "            possible.append((lower, upper))\n",
    "            lower-=1\n",
    "            upper-=1\n",
    "    return possible\n",
    "\n",
    "# possible_taus(4, 4)"
   ]
  },
  {
   "cell_type": "code",
   "execution_count": 27,
   "metadata": {},
   "outputs": [],
   "source": [
    "ci_tau = []\n",
    "for tau_k in tau_final:\n",
    "    for delta_tau in range(2, T):\n",
    "        candidate = []\n",
    "        possible_taus_list = possible_taus(tau_k, delta_tau)\n",
    "        for tau_l, tau_u in possible_taus_list:\n",
    "            sum_tau = constraint_lhs(delta_samples, tau_l, tau_u)\n",
    "            if sum_tau >= 1 - alpha:\n",
    "                candidate.append([sum_tau, tau_l, tau_u])\n",
    "        if len(candidate) > 0:\n",
    "            break\n",
    "\n",
    "    if len(candidate) == 0:\n",
    "        ci_tau.append(np.array([0, T]))\n",
    "    else:\n",
    "        candidate = np.array(candidate)\n",
    "        index_max_candidate = np.argmax(candidate[:, 0])\n",
    "        ci_tau.append(candidate[index_max_candidate, 1:])"
   ]
  },
  {
   "cell_type": "markdown",
   "metadata": {},
   "source": [
    "### Final Beta and Gamma"
   ]
  },
  {
   "cell_type": "code",
   "execution_count": 28,
   "metadata": {},
   "outputs": [],
   "source": [
    "sum_beta = np.zeros(T)\n",
    "sum_gamma = np.zeros(T)\n",
    "n_smaples_reduced = delta_samples.shape[0]\n",
    "for g in range(n_smaples_reduced):\n",
    "    sum_beta += 1 / b_samples[g, :]\n",
    "    sum_gamma+= r_samples[g, :]/(1+r_samples[g, :])\n",
    "beta_final = sum_beta / n_smaples_reduced\n",
    "gamma_final = sum_gamma / n_smaples_reduced"
   ]
  },
  {
   "cell_type": "code",
   "execution_count": 29,
   "metadata": {},
   "outputs": [
    {
     "data": {
      "text/plain": [
       "<matplotlib.legend.Legend at 0x79a000fb8c40>"
      ]
     },
     "execution_count": 29,
     "metadata": {},
     "output_type": "execute_result"
    },
    {
     "data": {
      "image/png": "[encoded data removed]",
      "text/plain": [
       "<Figure size 1500x500 with 2 Axes>"
      ]
     },
     "metadata": {},
     "output_type": "display_data"
    }
   ],
   "source": [
    "fig = plt.figure(figsize=(15, 5))\n",
    "ax = fig.add_subplot(121)\n",
    "ax.plot(beta_final, label=r'smooth $\\beta$')\n",
    "ax.plot(np.mean(beta_samples, axis=0), label=r'$\\beta$')\n",
    "ax.set_xlabel('Time')\n",
    "ax.legend()\n",
    "\n",
    "ax = fig.add_subplot(122)\n",
    "ax.plot(gamma_final, label=r'smooth $\\gamma$')\n",
    "ax.plot(np.mean(gamma_samples, axis=0), label=r'$\\gamma$')\n",
    "ax.set_xlabel('Time')\n",
    "ax.legend()"
   ]
  },
  {
   "cell_type": "markdown",
   "metadata": {},
   "source": [
    "## Bayesian analysis     "
   ]
  },
  {
   "cell_type": "markdown",
   "metadata": {},
   "source": [
    "#### Plots"
   ]
  },
  {
   "cell_type": "code",
   "execution_count": 30,
   "metadata": {},
   "outputs": [],
   "source": [
    "posterior_frequency = np.sum(delta_samples[:, 1:], axis = 0)/n_samples"
   ]
  },
  {
   "cell_type": "code",
   "execution_count": 31,
   "metadata": {},
   "outputs": [
    {
     "data": {
      "text/plain": [
       "Text(0.5, 0, 'Time[Days]')"
      ]
     },
     "execution_count": 31,
     "metadata": {},
     "output_type": "execute_result"
    },
    {
     "data": {
      "image/png": "[encoded data removed]",
      "text/plain": [
       "<Figure size 640x480 with 1 Axes>"
      ]
     },
     "metadata": {},
     "output_type": "display_data"
    }
   ],
   "source": [
    "plt.plot(posterior_frequency, 'o-')\n",
    "for gt in gt_changing_points[1:]:\n",
    "    plt.axvline(gt, linestyle = '--', c = 'k')\n",
    "\n",
    "\n",
    "\n",
    "plt.xlabel('Time[Days]')"
   ]
  },
  {
   "cell_type": "markdown",
   "metadata": {},
   "source": [
    "#### Changing Points"
   ]
  },
  {
   "cell_type": "code",
   "execution_count": 32,
   "metadata": {},
   "outputs": [],
   "source": [
    "K_final = np.sum(delta_final)"
   ]
  },
  {
   "cell_type": "code",
   "execution_count": 33,
   "metadata": {},
   "outputs": [
    {
     "data": {
      "text/plain": [
       "array([ 0, 10, 24, 75])"
      ]
     },
     "execution_count": 33,
     "metadata": {},
     "output_type": "execute_result"
    }
   ],
   "source": [
    "tau_final"
   ]
  },
  {
   "cell_type": "code",
   "execution_count": 34,
   "metadata": {},
   "outputs": [
    {
     "data": {
      "text/plain": [
       "[array([0., 2.]), array([ 6., 11.]), array([10., 26.]), array([71., 78.])]"
      ]
     },
     "execution_count": 34,
     "metadata": {},
     "output_type": "execute_result"
    }
   ],
   "source": [
    "ci_tau"
   ]
  },
  {
   "cell_type": "markdown",
   "metadata": {},
   "source": [
    "### Metrics"
   ]
  },
  {
   "cell_type": "markdown",
   "metadata": {},
   "source": [
    "#### ARI"
   ]
  },
  {
   "cell_type": "code",
   "execution_count": 35,
   "metadata": {},
   "outputs": [],
   "source": [
    "TP = 0\n",
    "FP = 0\n",
    "FN = 0\n",
    "TN = 0\n",
    "for i in range(T):\n",
    "    for j in range(i+1, T):\n",
    "        TP = TP + int(eta_final[i]==eta_final[j] and gt_eta[i]==gt_eta[j])\n",
    "        FP = FP + int(eta_final[i]!=eta_final[j] and gt_eta[i]==gt_eta[j])\n",
    "        FN = FN + int(eta_final[i]==eta_final[j] and gt_eta[i]!=gt_eta[j])\n",
    "        TN = TN + int(eta_final[i]!=eta_final[j] and gt_eta[i]!=gt_eta[j])\n",
    "\n",
    "TP = TP*2/(T*(T-1))\n",
    "FP = FP*2/(T*(T-1))\n",
    "FN = FN*2/(T*(T-1))\n",
    "TN = TN*2/(T*(T-1))"
   ]
  },
  {
   "cell_type": "code",
   "execution_count": 36,
   "metadata": {},
   "outputs": [
    {
     "name": "stdout",
     "output_type": "stream",
     "text": [
      "ARI: 0.5969106235532198\n"
     ]
    }
   ],
   "source": [
    "ARI = (TP + TN - ((TP+FP)*(TP+FN)+(TN+FP)*(TN+FN)))/(1-((TP+FP)*(TP+FN) + (TN+FP)*(TN+FN)))\n",
    "print('ARI:', ARI)"
   ]
  },
  {
   "cell_type": "markdown",
   "metadata": {},
   "source": [
    "#### Mutual information  (NON sono definiti k1 e k2)"
   ]
  },
  {
   "cell_type": "code",
   "execution_count": 37,
   "metadata": {},
   "outputs": [],
   "source": [
    "MI = 0\n",
    "\n",
    "\n",
    "for k1 in range(int(K_final)):\n",
    "    for k2 in range(int(K_final)):\n",
    "        n_k1 = np.sum(gt_eta == k1)\n",
    "        n_k2 = np.sum(eta_final == k2)\n",
    "        n_k1k2 = np.sum((gt_eta == k1) & (eta_final == k2))\n",
    "        if n_k1k2 > 0:\n",
    "            MI += n_k1k2/T * (np.log(T * n_k1k2) - np.log(n_k1 * n_k2))"
   ]
  },
  {
   "cell_type": "code",
   "execution_count": 38,
   "metadata": {},
   "outputs": [
    {
     "name": "stdout",
     "output_type": "stream",
     "text": [
      "MI: 0.6439276105846123\n"
     ]
    }
   ],
   "source": [
    "print('MI:', MI)"
   ]
  }
 ],
 "metadata": {
  "kernelspec": {
   "display_name": "glv",
   "language": "python",
   "name": "glv"
  },
  "language_info": {
   "codemirror_mode": {
    "name": "ipython",
    "version": 3
   },
   "file_extension": ".py",
   "mimetype": "text/x-python",
   "name": "python",
   "nbconvert_exporter": "python",
   "pygments_lexer": "ipython3",
   "version": "3.9.18"
  },
  "widgets": {
   "application/vnd.jupyter.widget-state+json": {
    "state": {
     "38def901187549d79bfadfe2ae8891e6": {
      "model_module": "@jupyter-widgets/controls",
      "model_module_version": "2.0.0",
      "model_name": "HTMLStyleModel",
      "state": {
       "description_width": "",
       "font_size": null,
       "text_color": null
      }
     },
     "3bc5a3bae4d14cffb612b29ad7b380c9": {
      "model_module": "@jupyter-widgets/base",
      "model_module_version": "2.0.0",
      "model_name": "LayoutModel",
      "state": {}
     },
     "40316535bcf54f348c11d5a00e1d7471": {
      "model_module": "@jupyter-widgets/controls",
      "model_module_version": "2.0.0",
      "model_name": "FloatProgressModel",
      "state": {
       "bar_style": "success",
       "layout": "IPY_MODEL_3bc5a3bae4d14cffb612b29ad7b380c9",
       "max": 15000,
       "style": "IPY_MODEL_a960ffb953f14112a66fdd2aa79e46e5",
       "value": 15000
      }
     },
     "515245bf4039475a97d5fe45371f1b38": {
      "model_module": "@jupyter-widgets/controls",
      "model_module_version": "2.0.0",
      "model_name": "HTMLModel",
      "state": {
       "layout": "IPY_MODEL_c24f0492e3ae42b18a93fae8b4cb2591",
       "style": "IPY_MODEL_74c22d4229e0497ab1e604180d32ce34",
       "value": " 15000/15000 [00:24&lt;00:00, 657.46it/s]"
      }
     },
     "5e7e8d4b761f4de49877d3fafdc0acb9": {
      "model_module": "@jupyter-widgets/controls",
      "model_module_version": "2.0.0",
      "model_name": "HBoxModel",
      "state": {
       "children": [
        "IPY_MODEL_e9670352bc9d4d6fb336756ab8416ebc",
        "IPY_MODEL_40316535bcf54f348c11d5a00e1d7471",
        "IPY_MODEL_515245bf4039475a97d5fe45371f1b38"
       ],
       "layout": "IPY_MODEL_8e3be2cb48db47a89d84300de734be84"
      }
     },
     "74c22d4229e0497ab1e604180d32ce34": {
      "model_module": "@jupyter-widgets/controls",
      "model_module_version": "2.0.0",
      "model_name": "HTMLStyleModel",
      "state": {
       "description_width": "",
       "font_size": null,
       "text_color": null
      }
     },
     "8e3be2cb48db47a89d84300de734be84": {
      "model_module": "@jupyter-widgets/base",
      "model_module_version": "2.0.0",
      "model_name": "LayoutModel",
      "state": {}
     },
     "a960ffb953f14112a66fdd2aa79e46e5": {
      "model_module": "@jupyter-widgets/controls",
      "model_module_version": "2.0.0",
      "model_name": "ProgressStyleModel",
      "state": {
       "description_width": ""
      }
     },
     "bfd956d608ea4c5d84454d9f155572f5": {
      "model_module": "@jupyter-widgets/base",
      "model_module_version": "2.0.0",
      "model_name": "LayoutModel",
      "state": {}
     },
     "c24f0492e3ae42b18a93fae8b4cb2591": {
      "model_module": "@jupyter-widgets/base",
      "model_module_version": "2.0.0",
      "model_name": "LayoutModel",
      "state": {}
     },
     "e9670352bc9d4d6fb336756ab8416ebc": {
      "model_module": "@jupyter-widgets/controls",
      "model_module_version": "2.0.0",
      "model_name": "HTMLModel",
      "state": {
       "layout": "IPY_MODEL_bfd956d608ea4c5d84454d9f155572f5",
       "style": "IPY_MODEL_38def901187549d79bfadfe2ae8891e6",
       "value": "100%"
      }
     }
    },
    "version_major": 2,
    "version_minor": 0
   }
  }
 },
 "nbformat": 4,
 "nbformat_minor": 4
}
