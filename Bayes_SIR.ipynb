{
 "cells": [
  {
   "cell_type": "markdown",
   "metadata": {
    "tags": []
   },
   "source": [
    "#### Information Theory and Inference Final Project\n",
    "\n",
    "# Bayesian analysis of SIR model with changing points\n",
    "\n",
    "### Bertola Tommaso, Di Prima Giacomo, Viterbo Giuseppe, Zenari Marco\n",
    "\n"
   ]
  },
  {
   "cell_type": "markdown",
   "metadata": {
    "tags": []
   },
   "source": [
    "## Libraries"
   ]
  },
  {
   "cell_type": "code",
   "execution_count": 1,
   "metadata": {},
   "outputs": [],
   "source": [
    "# load libraries\n",
    "import numpy as np\n",
    "import matplotlib.pyplot as plt\n",
    "from scipy.special import gamma as gamma_func\n",
    "from tqdm.notebook import tqdm\n",
    "import pandas as pd\n",
    "\n",
    "from utils import *\n",
    "from mcmc import *\n",
    "from clustering import *\n",
    "from regional_data_extractor import *"
   ]
  },
  {
   "cell_type": "code",
   "execution_count": 3,
   "metadata": {},
   "outputs": [],
   "source": [
    "np.random.seed(2097012)"
   ]
  },
  {
   "cell_type": "markdown",
   "metadata": {
    "tags": []
   },
   "source": [
    "# Bayesian SIR model with change points\n",
    "\n",
    "In epidemiology, the susceptible-infected-removed (SIR) model is the most popular approach to analize the transmission of infectious diseases. During the COVID-19 pandemic this model has been used with the assumption of constant transmission rate and removal rate. This assumption is unrealistic because both individual actions for self-protection and government policies would decrease the transmission rate. In this work we are going to try to replicate the work presented in Gu et al. [^1], implementig a stochastic SIR model with change points. In this model the time invariance property of the transmission and removal rate is relaxed in order to take into account the effect of societal changes.  \n",
    "\n",
    "[^1]:Gu, J., Yin, G. Bayesian SIR model with change points with application to the Omicron wave in Singapore. Sci Rep 12, 20864 (2022). https://doi.org/10.1038/s41598-022-25473-y\n",
    "\n",
    "## The SIR model \n",
    "Given a closed population of $N$ individuals and three possible states, susceptible (S),\n",
    "infectious (I) and removed (R, either recovered or dead), each individual is assumed to be in one state at any time. Let $S(t)$, $I(t)$ and $R(t)$ denote the number of susceptible,\n",
    "infectious and removed individuals in the population at time point t (t ≥ 0) respectively. The SIR model defines the flow of individuals accordingly to the following set of ordinary differential equations: \n",
    "\n",
    "$$\n",
    "\\tag{1}\n",
    "\\begin{equation}\n",
    "\\begin{cases}\n",
    " \\frac{d S(t)}{dt} = -\\beta S(t)P(t), \\\\\n",
    "\\\\\n",
    " \\frac{d I(t)}{dt} = \\beta S(t)P(t) - \\gamma I(t), \\\\\n",
    "\\\\\n",
    "\\frac{dR(t)}{dt} = \\gamma I(t),\n",
    "\\end{cases}\n",
    "\\end{equation}\n",
    "$$\n",
    "\n",
    "with $P(t) = I(t)/N$, and $\\beta, \\gamma$ beeing the transmittion rate and removal rate parameters respectively. \n",
    "\n",
    "\n",
    "## The stochastic SIR model with change points\n",
    "\n",
    "Let $\\Delta I = (\\Delta I_1, \\dots, \\Delta I_T)^T$ and $\\Delta R = (\\Delta R_1, \\dots, \\Delta R_T)^T$ be the sequences of daily reported numbers of newly infected cases and removed cases respectevely. . Given the initial state of the population $(S_0 , I_0 , R_0)$, for $ t = 1, \\dots, T$ the discrete-time stochastic SIR model with change points is defined by the following set of equations:\n",
    "$$\n",
    "\\tag{2}\n",
    "\\begin{equation}\n",
    "\\begin{cases}\n",
    " \\Delta I_t \\sim Binomial(S_{t-1}, 1-exp(-\\beta_t P_{t-1})), \n",
    " \\\\\n",
    " \\Delta R_t \\sim Binomial(I_{t-1}, \\gamma_t), \n",
    " \\\\\n",
    " S_t = S_{t-1} - \\Delta I_t,\n",
    " \\\\\n",
    " I_t = I_{t-1} + \\Delta I_t - \\Delta R_t,\n",
    " \\\\\n",
    " R_t = R_{t-1} + \\Delta R_t,\n",
    "\\end{cases}\n",
    "\\end{equation}\n",
    "$$\n",
    "\n",
    "As described before, this implementation of the SIR model allows for time-varying parameters $\\beta_t \\in (0, \\inf)$ and $\\gamma_t \\in (0, 1)$. The assumption of the model needed to understand the first two equations are:\n",
    "1. Assuming that the removal of different infectious individuals are mutually independent, the number of infectious individuals being removed at day t $\\Delta R_t$ follows $Binomial(I_{t-1}, \\gamma_t)$;\n",
    "2. For each susceptible individual at time $t-1$, the number of in person contacts with other individuals at day $t$, $N_{contact, t}$, follows a $Poisson(\\lambda_t)$;\n",
    "3. Given $N_{contact, t}$, the number of contact with infectious individuals at day $t$ follows a $Binomial(N_{contact, t} , P_{t−1})$;\n",
    "4. The probability of trasmission for each in person contact with infectous individuals is $q_t$. \n",
    "\n",
    "As a result the last three points, the probability for a supsceptible individual getting infected at day $t$ is $1-exp(-\\lambda_t q_t P_{t-1}) = 1-exp(-\\beta_t P_{t-1})$, with the reparametrization $\\beta_t = \\lambda_t q_t$. \n",
    "\n",
    "The models introduce a latent binary vector $\\delta = (\\delta_1, \\dots, \\delta_T)^T $, where $\\delta_t =1$ indicates that day $t$ is a change point, incorporating the information of a signifcant change of $\\beta_t$ and $\\gamma_t$. The index of the stage that contains day $t$ is $\\eta_t = \\sum_{u=1}^t \\delta_u$, and its stage vector is $\\eta = (\\eta_1, \\dots, \\eta_T)^T $. The study is partitioned into $K = \\sum_{u=1}^T \\delta_u$ stages. Within each stage, parameters $(\\beta_t , \\gamma_t )$ are assumed to be homogeneous with the hierarchical priors,\n",
    "\n",
    "$$\n",
    "\\tag{3}\n",
    "\\begin{equation}\n",
    "\\begin{split}\n",
    "\n",
    "\\beta_t | \\delta, b &\\sim Exp(b_{\\eta_t}), \n",
    "\\\\\n",
    "\\gamma_t | \\delta, r &\\sim Beta(r_{\\eta_t}, 1),\n",
    "\\\\\n",
    "b_1, \\dots, b_K  &\\overset{\\text{i.i.d}}{\\sim} Gamma(0.1, 0.1),\n",
    "\\\\\n",
    "r_1, \\dots, r_K  &\\overset{\\text{i.i.d}}{\\sim} Gamma(0.1, 0.1),\n",
    "\\\\\n",
    "\\delta_1, \\dots, \\delta_T &\\overset{\\text{i.i.d}}{\\sim} Bernoulli(p),\n",
    "\n",
    "\\end{split}\n",
    "\\end{equation}\n",
    "$$\n",
    "\n",
    "which are denoted as $\\pi(\\beta_t| \\delta, b), \\pi(\\gamma_t|\\delta, r), \\pi(b_k), \\pi(r_k), \\pi(\\gamma)$ respectevely, with $b = (b_1, \\dots, b_K)^T$ and $r = (r_1, \\dots, r_K)^T$.\n",
    "The expected transmission rate and the expected removal rate in stage $k (k = 1, . . . , K )$ are $1/b_k$ and $r_k/(1 + r_k)$, respectively. The hyperparameter $p$ expresses one’s prior belief on how often a change point\n",
    "occurs in a pandemic wave, because $p$ is the probability of each time point beeing a change point. We fixed $p=0.01$.\n",
    "\n",
    "## Bayesian analysis with MCMC\n",
    "To make Baysian inference on parameters $\\delta, b, r, \\beta = (\\beta_1, \\dots, \\beta_T), \\gamma = (\\gamma_1, \\dots, \\gamma_T)$ we draw samples from the posterior distribution:\n",
    "$$\n",
    "\\tag{4}\n",
    "\\begin{equation}\n",
    "\\begin{split}\n",
    "\n",
    "\\pi (\\delta, b, r, \\beta,\\gamma|S_0, I_0, R_0, \\Delta I, \\Delta R) &\\propto \\pi(\\delta) \\prod_{k=1}^K \\pi(b_k) \\prod_{t=1}^T \\{ \\pi(\\beta_t|\\delta, b)  \\mathbb{P}(\\Delta I_t|S_{t-1}, I_{t-1}, \\beta_t) \\} , \n",
    "\\\\\n",
    "&\\times \\prod_{k=1}^K \\pi(r_k) \\prod_{t=1}^T \\{ \\pi(\\gamma_t|\\delta, r) \\mathbb{P}(\\Delta R_t| I_{t-1}, \\gamma_t)   \\}\n",
    "\n",
    "\\end{split}\n",
    "\\end{equation}\n",
    "$$\n",
    "where the $\\pi(\\cdot)$ on the right side represent priors, and $\\mathbb{P}(\\Delta I_t|S_{t-1}, I_{t-1}, \\beta_t) \\}$ and $\\mathbb{P}(\\Delta R_t| I_{t-1}, \\gamma_t)$ represent the binomial likelihood funciton described in eq $(2)$. We indicate with the sampled value considered in the MCMC algorithm with a supscript $(g)$. At each iteration Gibbs sampling is used as follows:\n",
    "\n",
    "- update $\\delta$: given current values $\\beta^{(g)}$ and $\\gamma^{(g)}$, $\\delta$ is updated via an $add-delete-swap$ algorithm. Initializing $\\delta^{*} =  \\delta^{(g)}$, an operation is selected with the following probabilities: \n",
    "$$\n",
    "\\tag{5}\n",
    "\\begin{equation}\n",
    "(p_{add}, p_{delete}, p_{swap}) =\n",
    "\\begin{cases}\n",
    "\\begin{split}\n",
    " (1, 0, 0) \\quad &\\text{if $K^{(g)}=1$},  \n",
    " \\\\\n",
    " (0, 1, 0) \\quad &\\text{if $K^{(g)}=T$}, \n",
    " \\\\\n",
    "(1/3, 1/3, 1/3) \\quad &\\text{otherwise},\n",
    "\\end{split}\n",
    "\\end{cases}\n",
    "\\end{equation}\n",
    "$$ \n",
    "where $K^{(g)} =  \\sum_{t=1}^T \\delta^{(g)}_t$.  If the $add$ (or $delete$) operation is selected, we randomly select a $\\delta_t^{*}$ which is 0 (or 1) and update its value as 1 (or 0). If the $swap$ operation is selected, we randomly select a pair of $(\\delta_t^{*}, \\delta_{t-1}^{*})$ with different values and exchange their values. Given the candidate $\\delta^{*}$, we compute the Metropolis–Hasting ratio as:\n",
    "\n",
    "$$\n",
    "\\tag{6}\n",
    "\\begin{equation}\n",
    "m_{\\text{MH}} = \\frac{\\pi(\\beta^{(g)} \\gamma^{(g)}|\\delta^{*})}{\\pi(\\beta^{(g)} \\gamma^{(g)}|\\delta^{(g)})} \\cdot \\frac{\\pi(\\delta^{*})}{\\pi(\\delta^{(g)})} \\cdot \\frac{J(\\delta^{(g)}|\\delta^{*})}{J(\\delta^{*}|\\delta^{(g)})}\n",
    "\\end{equation}\n",
    "$$\n",
    "where we can derive the first two factor from the priors in the equation $(3)$ as:\n",
    "\n",
    "$$\n",
    "\\tag{7}\n",
    "\\begin{equation}\n",
    "\\frac{\\pi(\\delta^{*})}{\\pi(\\delta^{(g)})} = \\left( \\frac{p}{1-p} \\right)^{\\sum_{t=1}^T (\\delta_t^{*} - \\delta_t^{g})},\n",
    "\\end{equation}\n",
    "$$\n",
    "\n",
    "$$\n",
    "\\tag{8}\n",
    "\\begin{equation}\n",
    "\\pi(\\beta^{(g)} \\gamma^{(g)}|\\delta)  = \\left[\\frac{(0.1)^{0.2}}{\\Gamma(0.1)^2}\\right]^K\\prod_{k=1}^{K} {\\frac{\\Gamma(0.1+\\sum_{t=1}^{T}\\mathbb{I}(\\eta_{t}=k))^2 \\hspace{2mm} \\exp{\\left(-{\\sum_{t=1}^{T}\\mathbb{I}(\\eta_{t}=k) \\log{\\gamma_t}}\\right)}}{\\left(0.1+\\sum_{t=1}^T{\\beta_t\\mathbb{I}(\\eta_{t}=k)}\\right)^{0.1+\\sum\\mathbb{I}(\\eta_{t}=k)} \\left(0.1-\\sum_{t=1}^T{\\mathbb{I}(\\eta_{t}=k)\\log{\\gamma_t}}\\right)^{0.1+\\sum{\\mathbb{I}(\\eta_{t}=k)}}} }\n",
    "\\end{equation}\n",
    "$$\n",
    "and the proposal of the Metropolis-Hasting algorithm is \n",
    "\n",
    "$$\n",
    "\\tag{9}\n",
    "\\begin{equation}\n",
    "\\frac{J(\\delta^{*}|\\delta^{(g)})}{J(\\delta^{(*)}|\\delta^{(g)})} = \n",
    "\\begin{cases}\n",
    "\\begin{split}\n",
    " 1 \\quad &\\text{if $\\sum_{t=1}^T \\delta_t^{*} = \\sum_{t=1}^T \\delta_t^{(g)}$},  \n",
    " \\\\\n",
    "3/(T-1) \\quad &\\text{if $(\\sum_{t=1}^T \\delta_t^{*},\\sum_{t=1}^T \\delta_t^{(g)})=(1, 2)$ or $(T, T-1)$},\n",
    " \\\\\n",
    "(T-1)/3 \\quad &\\text{if $(\\sum_{t=1}^T \\delta_t^{*},\\sum_{t=1}^T \\delta_t^{(g)}) = (2,1) $ or $ (T-1, T)$},\n",
    "\\\\\n",
    " \\left(\\sum_{t=1}^T \\delta_t^{(g)}-1\\right)/\\left(T-\\sum_{t=1}^T \\delta_t^{*} \\right)\\quad &\\text{if $(\\sum_{t=1}^T \\delta_t^{*},\\sum_{t=1}^T \\delta_t^{(g)}) \\in \\{(2, 3), (3, 4), \\dots, (T-2, T-1)\\}$},\n",
    "\\\\\n",
    "\\left(T-\\sum_{t=1}^T \\delta_t^{(g)}\\right)/\\left(\\sum_{t=1}^T \\delta_t^{*} -1\\right) \\quad &\\text{if $(\\sum_{t=1}^T \\delta_t^{*},\\sum_{t=1}^T \\delta_t^{(g)}) \\in \\{(3, 2), (4, 3), \\dots, (T-1, T-2)\\}$}.\n",
    "\\end{split}\n",
    "\\end{cases}\n",
    "\\end{equation}\n",
    "$$\n",
    "\n",
    "we then obtain the updated value $\\delta^{(g+1)}$ as:\n",
    "$$\n",
    "\\tag{10}\n",
    "\\begin{equation}\n",
    "\\delta^{(g+1)} = \n",
    "\\begin{cases}\n",
    "\\begin{split}\n",
    "\\delta^{*} \\quad &\\text{with probability min(1, $m_{MH}$) },  \n",
    " \\\\\n",
    " \\delta^{(g)} \\quad &\\text{with probability 1-min(1, $m_{MH}$)}.\n",
    "\\end{split}\n",
    "\\end{cases}\n",
    "\\end{equation}\n",
    "$$\n",
    "\n",
    "Corresponditely we update $K^{(g+1)}$ and $\\eta^{(g+1)}$.\n",
    "\n",
    "- update $b$ and $r$:  Given current values $\\beta^{(g)}$ and $\\gamma^{(g)}$, $\\delta^{(g+1)}$ we sample $b_k^{(g+1)}$ and $r_k^{(g+1)}$ from:\n",
    "$$\n",
    "\\tag{11}\n",
    "\\begin{equation}\n",
    "\\begin{split}\n",
    "b_k &\\sim Gamma \\left( 0.1 + \\sum_{t=1}^T \\mathbb{I}(\\eta_t^{(g+1)} = k), 0.1 +\\sum_{t=1}^T \\beta_t^{(g)} \\mathbb{I}(\\eta_t^{(g+1)} = k)  \\right)\n",
    "\\\\\n",
    "r_k &\\sim Gamma \\left( 0.1 + \\sum_{t=1}^T \\mathbb{I}(\\eta_t^{(g+1)} = k), 0.1 +\\sum_{t=1}^T -log \\gamma_t^{(g)} \\mathbb{I}(\\eta_t^{(g+1)} = k)   \\right)\n",
    "\\end{split}\n",
    "\\end{equation}\n",
    "$$\n",
    "for $k =1, \\dots, K^{(g+1)} $.\n",
    "\n",
    "- Update $\\beta$ and $\\gamma$: Given current values $b^{(g+1)}$ and $r^{(g+1)}$, $\\delta^{(g+1)}$ we sample $\\beta_t^{(g+1)}$ and $\\gamma_t^{(g+1)}$ from posterior densities:\n",
    "$$\n",
    "\\tag{12}\n",
    "\\begin{equation}\n",
    "\\begin{split}\n",
    "\\pi(\\beta_t|S_{t-1}, \\Delta I_t, b_{\\eta_t^{(g+1)}}^{(g+1)}) &\\propto \\{1-exp(-\\beta_t P_{t-1})\\}^{\\Delta I_t} exp\\{-\\beta_t P_{t-1}(S_{t-1}-\\Delta I_{t})\\} \\pi(\\beta_t|b_{\\eta_t^{(g+1)}}^{(g+1)}),\n",
    "\\\\\n",
    "\\pi(\\gamma_t|I_{t-1}, \\Delta R_t, r_{\\eta_t^{(g+1)}}^{(g+1)}) &\\propto \\gamma_t^{\\Delta R_t} (1-\\gamma_t)^{I_{t-1}-\\Delta R_t} \\pi(\\gamma_t|r_{\\eta_t^{(g+1)}}^{(g+1)}),\n",
    "\\\\\n",
    "\\end{split}\n",
    "\\end{equation}\n",
    "$$\n",
    "for $t=1, \\dots, T$.\n",
    "\n",
    "## Changing points estimate \n",
    "Since the main interest lies in detection of change points, we aggregate $\\delta^{(1)}, \\dots , \\delta^{(G)}$ to obtain a point estimate $\\hat{\\delta}$ (or the corresponding $\\hat{\\eta}$). As the indicator vector $\\delta$ is a binary vector with $2^{T−1}$ possible values in total, its posterior mean does not imply a partition of the study period and thus is difficult to interpret. Taking the sequential structure of $\\delta$ into consideration, we interpret each $\\delta^{(g)}$ (or the corresponding $\\eta^{(g)}$) as a cluster of time points $1, \\dots, T$ and obtain $\\hat{\\delta}$ by solving a clustering aggregation problem as follows:\n",
    "\n",
    "- For each pair of time point $t$ and $t'$ $(1 \\leq t < t' \\leq T)$, we estimate the posterior probability that no change points exist in the priod $\\{t+1, \\dots, t' \\}$ as \n",
    "\n",
    "$$\n",
    "\\tag{13}\n",
    "\\begin{equation}\n",
    "\\hat{q}_{tt'} = \\frac{1}{G} \\sum_{g=1}^G \\mathbb{I}(\\eta_t^{(g)} = \\eta_{t'}^{(g)})\n",
    "\\end{equation}\n",
    "$$\n",
    "\n",
    "- The Bayes estimator for $\\hat{\\delta}$ is then obtain as\n",
    "\n",
    "$$\n",
    "\\tag{14}\n",
    "\\begin{equation}\n",
    "\\hat{\\delta} = \\arg \\min_{\\delta} \\sum_{1 \\leq t < t' \\leq T} \\left| \\mathbb{I}(\\eta_t = \\eta_{t'}\\right) - \\hat{q}_{tt'}|\n",
    "\\end{equation}\n",
    "$$\n",
    "\n",
    "Based on $\\hat{\\delta}$, it is also possible to compute probability regions of change points. Let $\\hat{\\tau}_k = \\min \\{ t: \\sum_{u=1}^t \\hat{\\delta}_t\\ \\geq k \\} $ denotate the $k$-th estimated change point ($k=1, \\dots, \\hat{K}$). The (1-$\\alpha$) highest posterior density (HPD) interval of the $k$-th change point is computed as $\\left[ \\hat{\\tau}_{lk}, \\hat{\\tau}_{uk} \\right]$ where:\n",
    "\n",
    "\n",
    "$$\n",
    "\\tag{15}\n",
    "\\begin{equation}\n",
    "\\hat{\\tau}_{lk}, \\hat{\\tau}_{uk} = \\arg \\min_{\\tau_l \\leq \\hat{\\tau}_k \\leq \\tau_u} (\\tau_u -\\tau_l) \\quad \\text{s.t.} \\quad \\frac{1}{G} \\sum_{u=\\tau_l}^{\\tau_{u}} \\sum_{g=1}^{G} \\delta_u^{(g)} \\geq 1 - \\alpha.\n",
    "\\end{equation}\n",
    "$$\n",
    "\n",
    "\n",
    "As the number of stages varies among posterior samples, we use\n",
    "$$\n",
    "\\tag{16}\n",
    "\\begin{equation}\n",
    "\\begin{split}\n",
    "\\hat{\\beta}_t &= \\frac{1}{G} \\sum_{g=1}^G 1/b_{\\eta_t^{(g)}}^{(g)}\n",
    "\\\\\n",
    "\\hat{\\gamma}_t &= \\frac{1}{G} \\sum_{g=1}^G r_{\\eta_t^{(g)}}^{(g)}/(1+r_{\\eta_t^{(g)}}^{(g)})\n",
    "\\end{split}\n",
    "\\end{equation}\n",
    "$$\n",
    "as smoothed estimators of the expected transmission rate and expected removal rate\n",
    "at day t respectively.\n",
    "\n",
    "\n",
    "## Bayesian analysis\n",
    "To quantitatively measure the agreement between the true $\\delta$ (or $\\eta$) and the estimator $\\hat{\\delta}$ (or $\\hat{\\eta}$), we transfer the stage allocation of time points $\\{1, \\dots , T\\}$ to a clustering problem and adopt the adjusted Rand index and the mutual information as evaluation metrics.\n",
    "\n",
    "- Adjusted Rand index (ARI):\n",
    "$$\n",
    "\\tag{17}\n",
    "\\begin{equation}\n",
    "\\text{ARI} = \\frac{ (TP+TN)-\\{(TP+FP)(TP+FN)+(TN+FP)(TN+FN)\\}}{ 1 - \\{(TP+FP)(TP+FN)+(TN+FP)(TN+FN)\\}}\n",
    "\\end{equation}\n",
    "$$\n",
    "\n",
    "where the proportions of the previous terms are:\n",
    "$$\n",
    "\\tag{18}\n",
    "\\begin{equation}\n",
    "\\begin{cases}\n",
    "\\begin{split}\n",
    "TP &= \\frac{2}{T(T-1)}\\sum_{1 \\leq t < t' \\leq T} \\mathbb{I}(\\eta_t = \\eta_{t'},  \\hat{\\eta}_t = \\hat{\\eta}_{t'}),\n",
    "\\\\\n",
    "FP  &= \\frac{2}{T(T-1)}\\sum_{1 \\leq t < t' \\leq T} \\mathbb{I}(\\eta_t \\neq \\eta_{t'},  \\hat{\\eta}_t = \\hat{\\eta}_{t'}),\n",
    "\\\\\n",
    "FN &= \\frac{2}{T(T-1)}\\sum_{1 \\leq t < t' \\leq T} \\mathbb{I}(\\eta_t = \\eta_{t'},  \\hat{\\eta}_t \\neq \\hat{\\eta}_{t'}),\n",
    "\\\\\n",
    "TN &= \\frac{2}{T(T-1)}\\sum_{1 \\leq t < t' \\leq T} \\mathbb{I}(\\eta_t \\neq \\eta_{t'},  \\hat{\\eta}_t \\neq \\hat{\\eta}_{t'}),\n",
    "\\end{split}\n",
    "\\end{cases}\n",
    "\\end{equation}\n",
    "$$\n",
    "\n",
    "The range of ARI is $[0, 1]$, where a larger ARI suggests that $\\hat{\\delta}$ is more similar to $\\delta$ and the maximum possible value is obtained when $\\hat{\\delta} = \\delta$.\n",
    "\n",
    "- Mutual Information (MI):\n",
    "$$\n",
    "\\tag{19}\n",
    "\\begin{equation}\n",
    "\\text{MI} = \\sum_{k=1}^K \\sum_{k'=1}^{\\hat{K}} \\frac{n_{kk'}}{T}log \\left( \\frac{n_{kk'}T}{n_k n_{k'}} \\right), \n",
    "\\end{equation}\n",
    "$$\n",
    "where \n",
    "$$\n",
    "\\tag{20}\n",
    "\\begin{equation}\n",
    "\\begin{cases}\n",
    "\\begin{split}\n",
    "\\hat{K} &= \\sum_{t=1}^T \\hat{\\delta}_t,\n",
    "\\\\\n",
    "n_{kk'}  &= \\sum_{t=1}^T \\mathbb{I}(\\eta_t = k,  \\hat{\\eta}_t = k'),\n",
    "\\\\\n",
    "n_k &= \\sum_{t=1}^T \\mathbb{I}(\\eta_t = k),\n",
    "\\\\\n",
    "n_{k'} &= \\sum_{t=1}^T \\mathbb{I}(\\hat{\\eta}_t = k'),\n",
    "\\end{split}\n",
    "\\end{cases}\n",
    "\\end{equation}\n",
    "$$\n",
    "\n",
    "The range of $MI$ is $[0, \\sum_{k=1}^K n_k /T \\times log(T/n_k)]$, where a larger MI suggests that $\\hat{\\delta}$ is more similar to $\\delta$ and the maximum possible value is obtained when $\\hat{\\delta}$ = $\\delta$."
   ]
  },
  {
   "cell_type": "markdown",
   "metadata": {
    "tags": []
   },
   "source": [
    "## Simulations\n",
    "\n",
    "The following code is used to generate data according to the SIR model with changing points. Using simulated data allow us to test the algorithm and validate the methodology knowing the ground truth. "
   ]
  },
  {
   "cell_type": "markdown",
   "metadata": {
    "tags": []
   },
   "source": [
    "### Ground Truth\n",
    "In the SIR model the number of infected tend to zero, which is a problem since the mcmc is unstable for $I(t) = 0$. For this reason we choose a short span of time for the simulation."
   ]
  },
  {
   "cell_type": "code",
   "execution_count": 4,
   "metadata": {},
   "outputs": [],
   "source": [
    "# setting the ground truths and the scenarios\n",
    "gt_changing_points = [1, 15, 30, 45]\n",
    "\n",
    "\n",
    "gt_total_time = 60\n",
    "\n",
    "\n",
    "gt_delta = np.zeros(gt_total_time)\n",
    "gt_delta[np.array(gt_changing_points)-1]=1\n",
    "gt_eta = np.cumsum(gt_delta)\n",
    "gt_K = np.sum(gt_delta)\n",
    "\n",
    "\n",
    "gt_betas = [0.10, 0.7, 0.3, 0.1] \n",
    "gt_gammas = [0.01, 0.10, 0.15, 0.25]\n",
    "\n",
    "\n",
    "\n",
    "gt_total_population = 1_000_000\n",
    "gt_init_infected = 50\n",
    "\n",
    "#bool to save or not the simulations\n",
    "save_npz = True\n",
    "\n",
    "gt_changing_points_tmp = gt_changing_points.copy()\n",
    "gt_changing_points_tmp.append(gt_total_time + 1)\n",
    "\n",
    "#Compute the number of days for which a parameter hold its value\n",
    "gt_days = np.array(gt_changing_points_tmp[1:]) - np.array(gt_changing_points_tmp[:-1]) \n",
    "\n",
    "\n",
    "#Generate arrays where each element of the first vector \n",
    "#is repeated a number of time equal to the element of the second.\n",
    "gt_beta_time = np.repeat(gt_betas, gt_days) \n",
    "gt_gamma_time = np.repeat(gt_gammas, gt_days) "
   ]
  },
  {
   "cell_type": "markdown",
   "metadata": {
    "tags": []
   },
   "source": [
    "### Vector Initializazion"
   ]
  },
  {
   "cell_type": "code",
   "execution_count": 5,
   "metadata": {},
   "outputs": [],
   "source": [
    "# setting the lvectors for the simulations\n",
    "S = np.zeros(gt_total_time + 1)\n",
    "I = np.zeros(gt_total_time + 1)\n",
    "R = np.zeros(gt_total_time + 1)\n",
    "P = np.zeros(gt_total_time + 1)\n",
    "N = np.zeros(gt_total_time + 1)\n",
    "\n",
    "#initial conditions\n",
    "N[0] = gt_total_population\n",
    "S[0] = N[0] - gt_init_infected\n",
    "I[0] = gt_init_infected\n",
    "R[0] = 0\n",
    "P[0] = I[0] / N[0]"
   ]
  },
  {
   "cell_type": "markdown",
   "metadata": {
    "tags": []
   },
   "source": [
    "### Simulation"
   ]
  },
  {
   "cell_type": "code",
   "execution_count": 6,
   "metadata": {},
   "outputs": [],
   "source": [
    "# generate the simulation as in equation (2)\n",
    "for t in range(1, gt_total_time + 1):\n",
    "    D_I = np.random.binomial(S[t - 1], 1 - np.exp(-gt_beta_time[t - 1] * P[t - 1]))\n",
    "    D_R = np.random.binomial(I[t - 1], gt_gamma_time[t - 1])\n",
    "\n",
    "    S[t] = S[t - 1] - D_I\n",
    "    I[t] = I[t - 1] + D_I - D_R\n",
    "    R[t] = R[t - 1] + D_R\n",
    "    N[t] = S[t] + I[t] + R[t]\n",
    "    P[t] = I[t] / N[t]"
   ]
  },
  {
   "cell_type": "code",
   "execution_count": 7,
   "metadata": {},
   "outputs": [],
   "source": [
    "# save the simulation\n",
    "if save_npz:\n",
    "    np.savez(\n",
    "        \"gt_data.npz\",\n",
    "        S=S,\n",
    "        I=I,\n",
    "        R=R,\n",
    "    )"
   ]
  },
  {
   "cell_type": "code",
   "execution_count": 8,
   "metadata": {},
   "outputs": [],
   "source": [
    "# load the simulation data\n",
    "simulation = np.load('gt_data.npz')"
   ]
  },
  {
   "cell_type": "markdown",
   "metadata": {
    "tags": []
   },
   "source": [
    "### Population Plot"
   ]
  },
  {
   "cell_type": "code",
   "execution_count": 9,
   "metadata": {},
   "outputs": [
    {
     "data": {
      "image/png": "[encoded data removed]",
      "text/plain": [
       "<Figure size 640x480 with 1 Axes>"
      ]
     },
     "metadata": {},
     "output_type": "display_data"
    }
   ],
   "source": [
    "# plot the data\n",
    "plot_population_data(S, R, I, gt_changing_points)"
   ]
  },
  {
   "cell_type": "markdown",
   "metadata": {
    "tags": []
   },
   "source": [
    "## MCMC algorithm\n",
    "\n",
    "In the following code we implement the MCMC algorithm developed in [^1]. "
   ]
  },
  {
   "cell_type": "markdown",
   "metadata": {
    "tags": []
   },
   "source": [
    "### Data preparation"
   ]
  },
  {
   "cell_type": "code",
   "execution_count": 10,
   "metadata": {
    "tags": []
   },
   "outputs": [],
   "source": [
    "# reshape and prepare the data\n",
    "S = simulation[\"S\"]\n",
    "R = simulation[\"R\"]\n",
    "I = simulation[\"I\"]\n",
    "\n",
    "T = gt_total_time"
   ]
  },
  {
   "cell_type": "code",
   "execution_count": 11,
   "metadata": {
    "tags": []
   },
   "outputs": [],
   "source": [
    "#Save initial conditions\n",
    "S_0 = S[0]\n",
    "I_0 = I[0]\n",
    "R_0 = R[0]\n",
    "N_0 = S_0 + I_0 + R_0\n",
    "P_0 = I_0 / N_0"
   ]
  },
  {
   "cell_type": "code",
   "execution_count": 12,
   "metadata": {
    "tags": []
   },
   "outputs": [],
   "source": [
    "# To uniform with paper notation\n",
    "S = S[1:]\n",
    "R = R[1:]\n",
    "I = I[1:]\n",
    "\n",
    "P = I / N_0"
   ]
  },
  {
   "cell_type": "code",
   "execution_count": 13,
   "metadata": {
    "tags": []
   },
   "outputs": [
    {
     "name": "stdout",
     "output_type": "stream",
     "text": [
      "Modified length:  (60,)\n",
      "T:  60\n"
     ]
    }
   ],
   "source": [
    "# Computing the deltas\n",
    "delta_R = R[1:] - R[:-1]\n",
    "delta_R = np.concatenate([[R[0] - R_0], delta_R])\n",
    "\n",
    "delta_I = S[:-1] - S[1:]\n",
    "delta_I = np.concatenate([[S_0 - S[0]], delta_I])\n",
    "\n",
    "print(\"Modified length: \", R.shape)\n",
    "print(\"T: \", T)"
   ]
  },
  {
   "cell_type": "markdown",
   "metadata": {
    "tags": []
   },
   "source": [
    "### MCMC hyper-parameters"
   ]
  },
  {
   "cell_type": "code",
   "execution_count": 14,
   "metadata": {},
   "outputs": [],
   "source": [
    "N = 15_000  # n samplings\n",
    "burnin = 5000  # initial discarded samples\n",
    "thinning = 10  # thinning factor\n",
    "p = 0.01  # prior parameter"
   ]
  },
  {
   "cell_type": "markdown",
   "metadata": {},
   "source": [
    "### Algorithm "
   ]
  },
  {
   "cell_type": "code",
   "execution_count": 15,
   "metadata": {},
   "outputs": [],
   "source": [
    "# Vectors to store the samples\n",
    "betas = np.zeros([N, T])\n",
    "gammas = np.zeros([N, T])\n",
    "bs = np.zeros([N, T])\n",
    "rs = np.zeros([N, T])\n",
    "deltas = np.zeros([N, T])"
   ]
  },
  {
   "cell_type": "code",
   "execution_count": 16,
   "metadata": {},
   "outputs": [],
   "source": [
    "# init following eq (3) hierarchical priors\n",
    "delta_0 = np.random.binomial(1, p, size=T) \n",
    "delta_0[0] = 1  #the first day is binded to being a changing point\n",
    "K_0 = np.sum(delta_0) # Number of Changing points\n",
    "eta_0 = np.cumsum(delta_0) #Number of Changing points up to time t\n",
    "\n",
    "# vectors of K elements\n",
    "r_0 = np.random.gamma(shape=0.1, scale=10, size=K_0)\n",
    "b_0 = np.random.gamma(shape=0.1, scale=10, size=K_0)\n",
    "\n",
    "# vectors of T elements\n",
    "r_0 = r_0[eta_0-1]\n",
    "b_0 = b_0[eta_0-1]\n",
    "\n",
    "# priors on beta and gamma\n",
    "beta_0 = np.random.exponential(1./b_0)\n",
    "gamma_0 = np.random.beta(r_0, 1)"
   ]
  },
  {
   "cell_type": "code",
   "execution_count": 17,
   "metadata": {},
   "outputs": [],
   "source": [
    "# initalizing the temporary variables used in the MCMC\n",
    "delta = delta_0.copy()\n",
    "beta = beta_0.copy()\n",
    "gamma = gamma_0.copy()\n",
    "r = r_0.copy()\n",
    "b = b_0.copy()"
   ]
  },
  {
   "cell_type": "markdown",
   "metadata": {},
   "source": [
    "### MCMC"
   ]
  },
  {
   "cell_type": "code",
   "execution_count": 18,
   "metadata": {},
   "outputs": [],
   "source": [
    "#MCMC  \n",
    "K = np.sum(delta)\n",
    "eta = np.cumsum(delta)\n",
    "for n in range(N):\n",
    "\n",
    "    #eq (5)\n",
    "    delta_ = propose_delta(delta, T)\n",
    "    #eqs (6-10)\n",
    "    delta = accept_delta(delta, delta_, beta, gamma, T, p)  #Metropolis algorithm\n",
    "\n",
    "    #Update other parameters with conditional distributions\n",
    "    #eq (11)\n",
    "    b = update_b(delta, beta)\n",
    "    r = update_r(delta, gamma)\n",
    "\n",
    "    #eqs (12)\n",
    "    beta = update_beta(b, T, S_0, P_0, S, P, delta_I)\n",
    "    gamma = update_gamma(r, T, I_0, I, delta_R)\n",
    "\n",
    "    #saving the samples\n",
    "    betas[n, :] = beta\n",
    "    gammas[n, :] = gamma\n",
    "    deltas[n, :] = delta\n",
    "    rs[n, :] = r\n",
    "    bs[n, :] = b"
   ]
  },
  {
   "cell_type": "markdown",
   "metadata": {},
   "source": [
    "## Analysis of data\n",
    "\n",
    "In the following code we implement the analysis of the obtained samples. The goal is to infer the changing points and obtain an estimation of the parameters $\\beta$ and $\\gamma$ in the different regimes."
   ]
  },
  {
   "cell_type": "code",
   "execution_count": 19,
   "metadata": {},
   "outputs": [],
   "source": [
    "#Apply thinning and burnin\n",
    "beta_samples = betas[burnin::thinning, :]\n",
    "delta_samples = deltas[burnin::thinning, :]\n",
    "b_samples = bs[burnin::thinning, :]\n",
    "r_samples = rs[burnin::thinning, :]\n",
    "gamma_samples = gammas[burnin::thinning, :]\n",
    "eta_samples = np.cumsum(delta_samples, axis=1)\n",
    "\n",
    "#Number of remaining samples\n",
    "n_samples = eta_samples.shape[0]\n",
    "\n",
    "#Compute the posterior probability that no change point occurs in the time interval [t+1, ..., t']\n",
    "#eq (13)\n",
    "q = np.zeros((T, T))\n",
    "for n in range(n_samples):\n",
    "    q += (eta_samples[n, :] == (eta_samples[n, :])[:, None]).astype(int)\n",
    "q = q / n_samples"
   ]
  },
  {
   "cell_type": "code",
   "execution_count": 20,
   "metadata": {},
   "outputs": [
    {
     "data": {
      "image/png": "[encoded data removed]",
      "text/plain": [
       "<Figure size 640x480 with 2 Axes>"
      ]
     },
     "metadata": {},
     "output_type": "display_data"
    }
   ],
   "source": [
    "# Representation of q matrix\n",
    "import matplotlib.colors as col\n",
    "plt.imshow(q, norm = 'log')\n",
    "plt.colorbar(label=r\"$q_{tt'}$\")\n",
    "plt.xlabel(r\"$t [days]$\")\n",
    "plt.ylabel(r\"$t' [days]$\")\n",
    "plt.show()"
   ]
  },
  {
   "cell_type": "markdown",
   "metadata": {},
   "source": [
    "### Clustering\n",
    "\n",
    "In this section we estimate the changing points vector $\\delta$ by minimizing the following loss:\n",
    "$$\n",
    "\\begin{equation}\n",
    "LOSS = \\sum_{1 \\leq t < t' \\leq T} \\left| \\mathbb{I}(\\eta_t = \\eta_{t'}\\right) - \\hat{q}_{tt'}|\n",
    "\\end{equation}\n",
    "$$"
   ]
  },
  {
   "cell_type": "code",
   "execution_count": 21,
   "metadata": {},
   "outputs": [],
   "source": [
    "#eq (14)\n",
    "delta_hat = np.array([0] * T)\n",
    "delta_hat[0] = 1\n",
    "\n",
    "\n",
    "eta_hat = np.cumsum(delta_hat)\n",
    "\n",
    "continue_add = True\n",
    "continue_swap = True"
   ]
  },
  {
   "cell_type": "code",
   "execution_count": 22,
   "metadata": {},
   "outputs": [],
   "source": [
    "# We do several attempts and keep the one which yield the lowest loss value\n",
    "delta_final = clustering(delta_hat, eta_hat, q, T, continue_add, continue_swap)"
   ]
  },
  {
   "cell_type": "markdown",
   "metadata": {},
   "source": [
    "### Changing points "
   ]
  },
  {
   "cell_type": "code",
   "execution_count": 23,
   "metadata": {},
   "outputs": [],
   "source": [
    "#Final changing points estimations\n",
    "eta_final= np.cumsum(delta_final)\n",
    "#Final number of changing points\n",
    "K_final= np.sum(delta_final)\n",
    "#Final interval estimates for chaging points\n",
    "tau_final= np.where(delta_final==1)[0]"
   ]
  },
  {
   "cell_type": "code",
   "execution_count": 24,
   "metadata": {},
   "outputs": [
    {
     "name": "stdout",
     "output_type": "stream",
     "text": [
      "Chaging point estimates:  [ 0 14 43]\n"
     ]
    }
   ],
   "source": [
    "print('Chaging point estimates: ', tau_final ) "
   ]
  },
  {
   "cell_type": "markdown",
   "metadata": {},
   "source": [
    "### Confidence intervals\n",
    "We compute a confidence interval of 95% as in equation 15."
   ]
  },
  {
   "cell_type": "code",
   "execution_count": 25,
   "metadata": {},
   "outputs": [],
   "source": [
    "alpha=0.05"
   ]
  },
  {
   "cell_type": "code",
   "execution_count": 26,
   "metadata": {},
   "outputs": [
    {
     "ename": "TypeError",
     "evalue": "possible_taus() takes 2 positional arguments but 3 were given",
     "output_type": "error",
     "traceback": [
      "\u001b[0;31m---------------------------------------------------------------------------\u001b[0m",
      "\u001b[0;31mTypeError\u001b[0m                                 Traceback (most recent call last)",
      "Cell \u001b[0;32mIn[26], line 6\u001b[0m\n\u001b[1;32m      4\u001b[0m \u001b[38;5;28;01mfor\u001b[39;00m delta_tau \u001b[38;5;129;01min\u001b[39;00m \u001b[38;5;28mrange\u001b[39m(\u001b[38;5;241m2\u001b[39m, T):\n\u001b[1;32m      5\u001b[0m     candidate \u001b[38;5;241m=\u001b[39m []\n\u001b[0;32m----> 6\u001b[0m     possible_taus_list \u001b[38;5;241m=\u001b[39m possible_taus(tau_k, delta_tau, T)\n\u001b[1;32m      7\u001b[0m     \u001b[38;5;28;01mfor\u001b[39;00m tau_l, tau_u \u001b[38;5;129;01min\u001b[39;00m possible_taus_list:\n\u001b[1;32m      8\u001b[0m         sum_tau \u001b[38;5;241m=\u001b[39m constraint_lhs(delta_samples, tau_l, tau_u)\n",
      "\u001b[0;31mTypeError\u001b[0m: possible_taus() takes 2 positional arguments but 3 were given"
     ]
    }
   ],
   "source": [
    "#Equation 15\n",
    "ci_tau = []\n",
    "for tau_k in tau_final:\n",
    "    for delta_tau in range(2, T):\n",
    "        candidate = []\n",
    "        possible_taus_list = possible_taus(tau_k, delta_tau, T)\n",
    "        for tau_l, tau_u in possible_taus_list:\n",
    "            sum_tau = constraint_lhs(delta_samples, tau_l, tau_u)\n",
    "            if sum_tau >= 1 - alpha:\n",
    "                candidate.append([sum_tau, tau_l, tau_u])\n",
    "        if len(candidate) > 0:\n",
    "            break\n",
    "\n",
    "    if len(candidate) == 0:\n",
    "        ci_tau.append(np.array([0, T]))\n",
    "    else:\n",
    "        candidate = np.array(candidate)\n",
    "        index_max_candidate = np.argmax(candidate[:, 0])\n",
    "        ci_tau.append(candidate[index_max_candidate, 1:])"
   ]
  },
  {
   "cell_type": "code",
   "execution_count": null,
   "metadata": {},
   "outputs": [],
   "source": [
    "#Lower and upper limits of confidence intervals\n",
    "lower_error = [tau_ - i[0] for i, tau_ in zip(ci_tau[1:], tau_final[1:])]\n",
    "upper_error = [i[1] - tau_ for i, tau_ in zip(ci_tau[1:], tau_final[1:])]\n",
    "\n",
    "fig, ax = plt.subplots(figsize=(6,2))\n",
    "\n",
    "plt.errorbar(x = tau_final[1:],\n",
    "             y = np.ones(len(tau_final[1:])),\n",
    "             xerr = [lower_error, upper_error],\n",
    "             capsize=5,\n",
    "             fmt='o',\n",
    "             label='Estimated Changing Points (C.L. 95%)')\n",
    "i = 0\n",
    "for c_point in gt_changing_points[1:]:\n",
    "    if i == 0:\n",
    "        plt.axvline(x=c_point-1, color=\"black\", linestyle=\"--\", alpha=0.5, label=\"True Changing Points\")\n",
    "        i += 1\n",
    "    else:\n",
    "        plt.axvline(x=c_point-1, color=\"black\", linestyle=\"--\", alpha=0.5) \n",
    "        \n",
    "plt.xlim(1,T)\n",
    "plt.ylim(0,3)\n",
    "plt.legend(loc='upper right')\n",
    "plt.yticks([]);"
   ]
  },
  {
   "cell_type": "markdown",
   "metadata": {
    "tags": []
   },
   "source": [
    "### Final Beta and Gamma"
   ]
  },
  {
   "cell_type": "code",
   "execution_count": null,
   "metadata": {},
   "outputs": [],
   "source": [
    "#Equation 16\n",
    "sum_beta = np.zeros(T)\n",
    "sum_gamma = np.zeros(T)\n",
    "n_smaples_reduced = delta_samples.shape[0]\n",
    "for g in range(n_smaples_reduced):\n",
    "    sum_beta += 1 / b_samples[g, :]\n",
    "    sum_gamma+= r_samples[g, :]/(1+r_samples[g, :])\n",
    "beta_final = sum_beta / n_smaples_reduced\n",
    "gamma_final = sum_gamma / n_smaples_reduced"
   ]
  },
  {
   "cell_type": "code",
   "execution_count": null,
   "metadata": {},
   "outputs": [],
   "source": [
    "fig = plt.figure(figsize=(15, 5))\n",
    "ax = fig.add_subplot(121)\n",
    "ax.plot(beta_final, label=r'Estimation eq. 16')\n",
    "ax.plot(np.mean(beta_samples, axis=0), label=r'$\\langle \\beta \\rangle_{samples}$')\n",
    "ax.step(np.arange(T), gt_beta_time, linestyle ='--', color='k', label='ground truth')\n",
    "ax.set_xlabel('Time [Days]')\n",
    "ax.legend()\n",
    "ax.set_ylabel(r'$\\beta$')\n",
    "\n",
    "\n",
    "ax = fig.add_subplot(122)\n",
    "ax.plot(gamma_final, label=r'Estimation eq. 16')\n",
    "ax.plot(np.mean(gamma_samples, axis=0), label=r'$\\langle \\gamma \\rangle_{samples}$')\n",
    "ax.step(np.arange(T), gt_gamma_time, linestyle ='--', color='k', label='ground truth')\n",
    "ax.set_xlabel('Time [Days]')\n",
    "ax.legend()\n",
    "ax.set_ylabel(r'$\\gamma$')"
   ]
  },
  {
   "cell_type": "markdown",
   "metadata": {},
   "source": [
    "## Bayesian analysis     "
   ]
  },
  {
   "cell_type": "markdown",
   "metadata": {},
   "source": [
    "Probability of having a chaging point at time t"
   ]
  },
  {
   "cell_type": "code",
   "execution_count": null,
   "metadata": {},
   "outputs": [],
   "source": [
    "posterior_frequency = np.sum(delta_samples[:, 1:], axis = 0)/n_samples\n",
    "\n",
    "plt.plot(posterior_frequency, 'o-')\n",
    "for gt in gt_changing_points[1:]:\n",
    "    plt.axvline(gt, linestyle = '--', c = 'k')\n",
    "\n",
    "\n",
    "plt.ylabel(r'$P(\\delta_t = 1)$')\n",
    "plt.xlabel('Time [Days]')\n",
    "plt.xlim(0,T-1)"
   ]
  },
  {
   "cell_type": "markdown",
   "metadata": {},
   "source": [
    "### Metrics"
   ]
  },
  {
   "cell_type": "markdown",
   "metadata": {},
   "source": [
    "#### ARI\n",
    "Equation 17 and 18"
   ]
  },
  {
   "cell_type": "code",
   "execution_count": null,
   "metadata": {},
   "outputs": [],
   "source": [
    "TP = 0\n",
    "FP = 0\n",
    "FN = 0\n",
    "TN = 0\n",
    "for i in range(T):\n",
    "    for j in range(i+1, T):\n",
    "        TP = TP + int(eta_final[i]==eta_final[j] and gt_eta[i]==gt_eta[j])\n",
    "        FP = FP + int(eta_final[i]!=eta_final[j] and gt_eta[i]==gt_eta[j])\n",
    "        FN = FN + int(eta_final[i]==eta_final[j] and gt_eta[i]!=gt_eta[j])\n",
    "        TN = TN + int(eta_final[i]!=eta_final[j] and gt_eta[i]!=gt_eta[j])\n",
    "\n",
    "TP = TP*2/(T*(T-1))\n",
    "FP = FP*2/(T*(T-1))\n",
    "FN = FN*2/(T*(T-1))\n",
    "TN = TN*2/(T*(T-1))"
   ]
  },
  {
   "cell_type": "code",
   "execution_count": null,
   "metadata": {},
   "outputs": [],
   "source": [
    "ARI = (TP + TN - ((TP+FP)*(TP+FN)+(TN+FP)*(TN+FN)))/(1-((TP+FP)*(TP+FN) + (TN+FP)*(TN+FN)))\n",
    "print('ARI:', ARI)"
   ]
  },
  {
   "cell_type": "markdown",
   "metadata": {},
   "source": [
    "#### Mutual information\n",
    "Equation 19 and 20"
   ]
  },
  {
   "cell_type": "code",
   "execution_count": null,
   "metadata": {},
   "outputs": [],
   "source": [
    "MI = 0\n",
    "\n",
    "\n",
    "for k1 in range(int(K_final)):\n",
    "    for k2 in range(int(K_final)):\n",
    "        n_k1 = np.sum(gt_eta == k1)\n",
    "        n_k2 = np.sum(eta_final == k2)\n",
    "        n_k1k2 = np.sum((gt_eta == k1) & (eta_final == k2))\n",
    "        if n_k1k2 > 0:\n",
    "            MI += n_k1k2/T * (np.log(T * n_k1k2) - np.log(n_k1 * n_k2))"
   ]
  },
  {
   "cell_type": "code",
   "execution_count": null,
   "metadata": {},
   "outputs": [],
   "source": [
    "print('MI:', MI)"
   ]
  },
  {
   "cell_type": "markdown",
   "metadata": {},
   "source": [
    "## Estimating Changing Points with Bayesian Blocks\n",
    "Bayesian Blocks is an algorithm tha was developed in order to establish the number of bins to be used in a histogram within the framework of bayesian inference. Its initial aim was to maximize the signal to noise ratio of events collected for an exetend period of time and returning the changing points where the signal would start and end. During the years it has evolved in order to take into account also single point measurements. We deploy the `astropy` implemetation of the algorithm in order to infer the chaging points from the average values of beta and gamma samples [1][2].\n",
    "\n",
    "\n",
    "[1] Scargle, J et al. (1997) https://arxiv.org/abs/astro-ph/9711233\n",
    "\n",
    "[2] Scargle, J et al. (2013) https://ui.adsabs.harvard.edu/abs/2013ApJ…764..167S\n"
   ]
  },
  {
   "cell_type": "code",
   "execution_count": null,
   "metadata": {},
   "outputs": [],
   "source": [
    "import astropy.stats as astro_mecha"
   ]
  },
  {
   "cell_type": "code",
   "execution_count": null,
   "metadata": {},
   "outputs": [],
   "source": [
    "avg_beta = np.mean(beta_samples, axis=0)\n",
    "ch_points_beta = np.ceil(astro_mecha.bayesian_blocks(t=np.arange(T),\n",
    "                                                x = avg_beta,\n",
    "                                                fitness='measures',\n",
    "                                                gamma=0.9)).astype(int)\n",
    "\n",
    "beta_bb = [np.mean(avg_beta[ch_points_beta[i]:ch_points_beta[i+1]]) for i in range(len(ch_points_beta)-1)]\n",
    "beta_bb.append(beta_bb[-1])\n",
    "\n",
    "\n",
    "avg_gamma = np.mean(gamma_samples, axis=0)\n",
    "ch_points_gamma = np.ceil(astro_mecha.bayesian_blocks(t=np.arange(T),\n",
    "                                                x = avg_gamma,\n",
    "                                                fitness='measures',\n",
    "                                                gamma=0.995)).astype(int)\n",
    "\n",
    "gamma_bb = [np.mean(avg_gamma[ch_points_gamma[i]:ch_points_gamma[i+1]]) for i in range(len(ch_points_gamma)-1)]\n",
    "gamma_bb.append(gamma_bb[-1])\n",
    "\n"
   ]
  },
  {
   "cell_type": "code",
   "execution_count": null,
   "metadata": {},
   "outputs": [],
   "source": [
    "fig, ax = plt.subplots(1,2, figsize=(10,5))\n",
    "\n",
    "ax[0].plot(np.arange(T),np.mean(beta_samples, axis=0), label=r'$\\langle \\beta \\rangle_{samples}$')\n",
    "ax[0].step(ch_points_beta, beta_bb, where='post', label='BB Approach')\n",
    "ax[0].step(np.arange(T), gt_beta_time, linestyle ='--', color='k', label='gt')\n",
    "ax[0].legend(loc='upper right')\n",
    "ax[0].set_xlabel(r'Time [Days]')\n",
    "ax[0].set_ylabel(r'$\\beta$')\n",
    "\n",
    "\n",
    "ax[1].plot(np.arange(T),np.mean(gamma_samples, axis=0), label=r'$\\langle \\beta \\rangle_{samples}$')\n",
    "ax[1].step(ch_points_gamma, gamma_bb, where='post', label='BB Approach')\n",
    "ax[1].step(np.arange(T), gt_gamma_time, linestyle ='--', color='k', label='gt')\n",
    "ax[1].legend(loc='upper left')\n",
    "ax[1].set_xlabel(r'Time [Days]')\n",
    "ax[1].set_ylabel(r'$\\gamma$');"
   ]
  },
  {
   "cell_type": "markdown",
   "metadata": {},
   "source": [
    "The main problem with the application of this approach to this particular case, is that the algorithm is greatly sensitive to the value of $\\gamma$ which is a tuning parameter that influece the shape of the prior used for the bayesian blocks."
   ]
  },
  {
   "cell_type": "markdown",
   "metadata": {},
   "source": [
    "## Analysis on Veneto data\n",
    "We replicated the same analysis on the Veneto data, which provided daily obervations at the national and provincial level of infected cases, detailing the number of people infected, in ICU wards, recovered and dead."
   ]
  },
  {
   "cell_type": "code",
   "execution_count": null,
   "metadata": {},
   "outputs": [],
   "source": [
    "# load the Italian covid data\n",
    "italian_data = pd.read_excel(\"ItalianData.xlsx\")\n",
    "\n",
    "# select the region of interest and the starting and ending date\n",
    "sir_data = sir_data_extractor(\n",
    "    italian_data, region=\"Veneto\", start_date=\"2020-10-1\", end_date=\"2021-10-1\"\n",
    ")\n",
    "\n",
    "# crate the dataframw with the right variables for the SIR model\n",
    "sir_dataframe = create_SIR_dataframe(sir_data)\n",
    "\n",
    "# exctract the data into numpy array\n",
    "S = sir_dataframe[\"S\"].values\n",
    "I = sir_dataframe[\"I\"].values\n",
    "R = sir_dataframe[\"R\"].values\n",
    "T = len(sir_dataframe) - 1\n",
    "\n",
    "fig, ax1 = plt.subplots()\n",
    "ax1.plot(S, label=\"S\", color=\"blue\")\n",
    "ax1.set_ylabel(\"Number of S individuals\")\n",
    "ax1.set_ylim(4e6, 6e6)\n",
    "ax2 = ax1.twinx()\n",
    "ax2.plot(I, label=\"I\", color=\"red\")\n",
    "ax2.plot(R, label=\"R\", color=\"green\")\n",
    "ax2.set_ylabel(\"Number of I or R individuals\")\n",
    "plt.xlabel(\"Time\")\n",
    "lines, labels = ax1.get_legend_handles_labels()\n",
    "lines2, labels2 = ax2.get_legend_handles_labels()\n",
    "ax2.legend(lines + lines2, labels + labels2, loc=\"upper right\")\n",
    "plt.show()"
   ]
  },
  {
   "cell_type": "markdown",
   "metadata": {},
   "source": [
    "## MCMC preparation"
   ]
  },
  {
   "cell_type": "code",
   "execution_count": null,
   "metadata": {},
   "outputs": [],
   "source": [
    "#Save initial conditions\n",
    "S_0 = S[0]\n",
    "I_0 = I[0]\n",
    "R_0 = R[0]\n",
    "N_0 = S_0 + I_0 + R_0\n",
    "P_0 = I_0 / N_0\n",
    "\n",
    "S = S[1:]\n",
    "R = R[1:]\n",
    "I = I[1:]\n",
    "\n",
    "P = I / N_0"
   ]
  },
  {
   "cell_type": "code",
   "execution_count": null,
   "metadata": {},
   "outputs": [],
   "source": [
    "delta_R = R[1:] - R[:-1]\n",
    "delta_R = np.concatenate([[R[0] - R_0], delta_R])\n",
    "\n",
    "delta_I = S[:-1] - S[1:]\n",
    "delta_I = np.concatenate([[S_0 - S[0]], delta_I])\n",
    "\n",
    "print(\"Modified length: \", R.shape)\n",
    "print(\"T: \", T)"
   ]
  },
  {
   "cell_type": "markdown",
   "metadata": {},
   "source": [
    "## MCMC hyperparameters"
   ]
  },
  {
   "cell_type": "code",
   "execution_count": null,
   "metadata": {},
   "outputs": [],
   "source": [
    "N = 15_000  # n samplings\n",
    "burnin = 5000\n",
    "thinning = 10\n",
    "p = 0.01"
   ]
  },
  {
   "cell_type": "markdown",
   "metadata": {},
   "source": [
    "## Algorithm parameters"
   ]
  },
  {
   "cell_type": "code",
   "execution_count": null,
   "metadata": {},
   "outputs": [],
   "source": [
    "betas = np.zeros([N, T])\n",
    "gammas = np.zeros([N, T])\n",
    "bs = np.zeros([N, T])\n",
    "rs = np.zeros([N, T])\n",
    "deltas = np.zeros([N, T])"
   ]
  },
  {
   "cell_type": "code",
   "execution_count": null,
   "metadata": {},
   "outputs": [],
   "source": [
    "# init\n",
    "delta_0 = np.random.binomial(1, p, size=T) \n",
    "delta_0[0] = 1\n",
    "K_0 = np.sum(delta_0) # Number of Changeing points\n",
    "eta_0 = np.cumsum(delta_0) #Number of Changing points up to time t\n",
    "\n",
    "# vectors of K elements\n",
    "r_0 = np.random.gamma(shape=0.1, scale=10, size=K_0)\n",
    "b_0 = np.random.gamma(shape=0.1, scale=10, size=K_0)\n",
    "\n",
    "r_0 = r_0[eta_0-1]\n",
    "b_0 = b_0[eta_0-1]\n",
    "\n",
    "beta_0 = np.random.exponential(1/b_0)\n",
    "gamma_0 = np.random.beta(r_0, 1)"
   ]
  },
  {
   "cell_type": "code",
   "execution_count": null,
   "metadata": {},
   "outputs": [],
   "source": [
    "delta = delta_0.copy()\n",
    "beta = beta_0.copy()\n",
    "gamma = gamma_0.copy()\n",
    "r = r_0.copy()\n",
    "b = b_0.copy()"
   ]
  },
  {
   "cell_type": "markdown",
   "metadata": {},
   "source": [
    "## Simulation"
   ]
  },
  {
   "cell_type": "code",
   "execution_count": null,
   "metadata": {},
   "outputs": [],
   "source": [
    "K = np.sum(delta)\n",
    "eta = np.cumsum(delta)\n",
    "for n in tqdm(range(N)):\n",
    "\n",
    "    delta_ = propose_delta(delta, T)\n",
    "    delta = accept_delta(delta, delta_, beta, gamma, T, p)\n",
    "\n",
    "    b = update_b(delta, beta)\n",
    "    r = update_r(delta, gamma)\n",
    "\n",
    "    beta = update_beta(delta, T, S_0, P_0, S, P, delta_I)\n",
    "    gamma = update_gamma(r, T, I_0, I, delta_R)\n",
    "\n",
    "    betas[n, :] = beta\n",
    "    gammas[n, :] = gamma\n",
    "    deltas[n, :] = delta\n",
    "    rs[n, :] = r\n",
    "    bs[n, :] = b"
   ]
  },
  {
   "cell_type": "markdown",
   "metadata": {},
   "source": [
    "## Analysis of data"
   ]
  },
  {
   "cell_type": "code",
   "execution_count": null,
   "metadata": {},
   "outputs": [],
   "source": [
    "beta_samples = betas[burnin::thinning, :]\n",
    "delta_samples = deltas[burnin::thinning, :]\n",
    "b_samples = bs[burnin::thinning, :]\n",
    "r_samples = rs[burnin::thinning, :]\n",
    "gamma_samples = gammas[burnin::thinning, :]\n",
    "eta_samples = np.cumsum(delta_samples, axis=1)\n",
    "\n",
    "n_samples = eta_samples.shape[0]\n",
    "q = np.zeros((T, T))\n",
    "for n in range(n_samples):\n",
    "    q += (eta_samples[n, :] == (eta_samples[n, :])[:, None]).astype(int)\n",
    "q = q / n_samples"
   ]
  },
  {
   "cell_type": "code",
   "execution_count": null,
   "metadata": {},
   "outputs": [],
   "source": [
    "plt.imshow(q, norm = 'log')\n",
    "plt.show()\n"
   ]
  },
  {
   "cell_type": "code",
   "execution_count": null,
   "metadata": {},
   "outputs": [],
   "source": []
  },
  {
   "cell_type": "markdown",
   "metadata": {},
   "source": [
    "### Clustering"
   ]
  },
  {
   "cell_type": "code",
   "execution_count": null,
   "metadata": {},
   "outputs": [],
   "source": [
    "delta_hat = np.array([0] * T)\n",
    "delta_hat[0] = 1\n",
    "\n",
    "\n",
    "eta_hat = np.cumsum(delta_hat)\n",
    "\n",
    "continue_add = True\n",
    "continue_swap = True"
   ]
  },
  {
   "cell_type": "code",
   "execution_count": null,
   "metadata": {},
   "outputs": [],
   "source": [
    "delta_final = clustering(delta_hat, eta_hat, q, T, continue_add, continue_swap)"
   ]
  },
  {
   "cell_type": "markdown",
   "metadata": {},
   "source": [
    "### Changing points "
   ]
  },
  {
   "cell_type": "code",
   "execution_count": null,
   "metadata": {},
   "outputs": [],
   "source": [
    "eta_final= np.cumsum(delta_final)\n",
    "K_final= np.sum(delta_final)\n",
    "\n",
    "tau_final= np.where(delta_final==1)[0]"
   ]
  },
  {
   "cell_type": "code",
   "execution_count": null,
   "metadata": {},
   "outputs": [],
   "source": [
    "tau_final"
   ]
  },
  {
   "cell_type": "code",
   "execution_count": null,
   "metadata": {},
   "outputs": [],
   "source": [
    "plt.plot(delta_final)\n"
   ]
  },
  {
   "cell_type": "markdown",
   "metadata": {},
   "source": [
    "### Confidence intervals"
   ]
  },
  {
   "cell_type": "code",
   "execution_count": null,
   "metadata": {},
   "outputs": [],
   "source": [
    "alpha=0.05"
   ]
  },
  {
   "cell_type": "code",
   "execution_count": null,
   "metadata": {},
   "outputs": [],
   "source": [
    "ci_tau = []\n",
    "for tau_k in tau_final:\n",
    "    for delta_tau in range(2, T):\n",
    "        candidate = []\n",
    "        possible_taus_list = possible_taus(tau_k, delta_tau)\n",
    "        for tau_l, tau_u in possible_taus_list:\n",
    "            sum_tau = constraint_lhs(delta_samples, tau_l, tau_u)\n",
    "            if sum_tau >= 1 - alpha:\n",
    "                candidate.append([sum_tau, tau_l, tau_u])\n",
    "        if len(candidate) > 0:\n",
    "            break\n",
    "\n",
    "    if len(candidate) == 0:\n",
    "        ci_tau.append(np.array([0, T]))\n",
    "    else:\n",
    "        candidate = np.array(candidate)\n",
    "        index_max_candidate = np.argmax(candidate[:, 0])\n",
    "        ci_tau.append(candidate[index_max_candidate, 1:])"
   ]
  },
  {
   "cell_type": "markdown",
   "metadata": {},
   "source": [
    "### Final Beta and Gamma"
   ]
  },
  {
   "cell_type": "code",
   "execution_count": null,
   "metadata": {},
   "outputs": [],
   "source": [
    "sum_beta = np.zeros(T)\n",
    "sum_gamma = np.zeros(T)\n",
    "n_smaples_reduced = delta_samples.shape[0]\n",
    "for g in range(n_smaples_reduced):\n",
    "    sum_beta += 1 / b_samples[g, :]\n",
    "    sum_gamma+= r_samples[g, :]/(1+r_samples[g, :])\n",
    "beta_final = sum_beta / n_smaples_reduced\n",
    "gamma_final = sum_gamma / n_smaples_reduced"
   ]
  },
  {
   "cell_type": "code",
   "execution_count": null,
   "metadata": {},
   "outputs": [],
   "source": [
    "fig = plt.figure(figsize=(15, 5))\n",
    "ax = fig.add_subplot(121)\n",
    "ax.plot(beta_final, label=r'smooth $\\beta$')\n",
    "ax.plot(np.mean(beta_samples, axis=0), label=r'$\\beta$')\n",
    "ax.legend()\n",
    "\n",
    "ax = fig.add_subplot(122)\n",
    "ax.plot(gamma_final, label=r'smooth $\\gamma$')\n",
    "ax.plot(np.mean(gamma_samples, axis=0), label=r'$\\gamma$')\n",
    "ax.legend()"
   ]
  },
  {
   "cell_type": "markdown",
   "metadata": {},
   "source": [
    "## Bayesian analysis     "
   ]
  },
  {
   "cell_type": "code",
   "execution_count": null,
   "metadata": {},
   "outputs": [],
   "source": [
    "posterior_frequency = np.sum(delta_samples[:, 1:], axis = 0)/n_samples"
   ]
  },
  {
   "cell_type": "code",
   "execution_count": null,
   "metadata": {},
   "outputs": [],
   "source": [
    "plt.plot(posterior_frequency, 'o-')\n",
    "plt.xlabel('Time[Days]')"
   ]
  },
  {
   "cell_type": "markdown",
   "metadata": {},
   "source": [
    "#### Changing Points"
   ]
  },
  {
   "cell_type": "code",
   "execution_count": null,
   "metadata": {},
   "outputs": [],
   "source": [
    "K_final = np.sum(delta_final)"
   ]
  },
  {
   "cell_type": "code",
   "execution_count": null,
   "metadata": {},
   "outputs": [],
   "source": [
    "tau_final"
   ]
  },
  {
   "cell_type": "code",
   "execution_count": null,
   "metadata": {},
   "outputs": [],
   "source": [
    "ci_tau"
   ]
  },
  {
   "cell_type": "markdown",
   "metadata": {},
   "source": [
    "### Metrics"
   ]
  },
  {
   "cell_type": "markdown",
   "metadata": {},
   "source": [
    "#### ARI"
   ]
  },
  {
   "cell_type": "code",
   "execution_count": null,
   "metadata": {},
   "outputs": [],
   "source": [
    "TP = 0\n",
    "FP = 0\n",
    "FN = 0\n",
    "TN = 0\n",
    "for i in range(T):\n",
    "    for j in range(i+1, T):\n",
    "        TP = TP + int(eta_final[i]==eta_final[j] and gt_eta[i]==gt_eta[j])\n",
    "        FP = FP + int(eta_final[i]!=eta_final[j] and gt_eta[i]==gt_eta[j])\n",
    "        FN = FN + int(eta_final[i]==eta_final[j] and gt_eta[i]!=gt_eta[j])\n",
    "        TN = TN + int(eta_final[i]!=eta_final[j] and gt_eta[i]!=gt_eta[j])\n",
    "\n",
    "TP = TP*2/(T*(T-1))\n",
    "FP = FP*2/(T*(T-1))\n",
    "FN = FN*2/(T*(T-1))\n",
    "TN = TN*2/(T*(T-1))"
   ]
  },
  {
   "cell_type": "code",
   "execution_count": null,
   "metadata": {},
   "outputs": [],
   "source": [
    "ARI = (TP + TN - ((TP+FP)*(TP+FN)+(TN+FP)*(TN+FN)))/(1-((TP+FP)*(TP+FN) + (TN+FP)*(TN+FN)))\n",
    "print('ARI:', ARI)"
   ]
  },
  {
   "cell_type": "markdown",
   "metadata": {},
   "source": [
    "#### Mutual information"
   ]
  },
  {
   "cell_type": "code",
   "execution_count": null,
   "metadata": {},
   "outputs": [],
   "source": [
    "MI = 0\n",
    "\n",
    "\n",
    "for k1 in range(int(K_final)):\n",
    "    for k2 in range(int(K_final)):\n",
    "        n_k1 = np.sum(gt_eta == k1)\n",
    "        n_k2 = np.sum(eta_final == k2)\n",
    "        n_k1k2 = np.sum((gt_eta == k1) & (eta_final == k2))\n",
    "        if n_k1k2 > 0:\n",
    "            MI += n_k1k2/T * (np.log(T * n_k1k2) - np.log(n_k1 * n_k2))"
   ]
  },
  {
   "cell_type": "code",
   "execution_count": null,
   "metadata": {},
   "outputs": [],
   "source": [
    "print('MI:', MI)"
   ]
  }
 ],
 "metadata": {
  "kernelspec": {
   "display_name": "base",
   "language": "python",
   "name": "python3"
  },
  "language_info": {
   "codemirror_mode": {
    "name": "ipython",
    "version": 3
   },
   "file_extension": ".py",
   "mimetype": "text/x-python",
   "name": "python",
   "nbconvert_exporter": "python",
   "pygments_lexer": "ipython3",
   "version": "3.11.5"
  },
  "widgets": {
   "application/vnd.jupyter.widget-state+json": {
    "state": {},
    "version_major": 2,
    "version_minor": 0
   }
  }
 },
 "nbformat": 4,
 "nbformat_minor": 4
}
