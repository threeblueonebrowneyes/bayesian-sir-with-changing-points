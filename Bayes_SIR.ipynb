{
 "cells": [
  {
   "cell_type": "markdown",
   "metadata": {},
   "source": [
    "# Bayes analysis of SIR model with changing points"
   ]
  },
  {
   "cell_type": "code",
   "execution_count": 1,
   "metadata": {},
   "outputs": [],
   "source": [
    "# load libraries\n",
    "import numpy as np\n",
    "import matplotlib.pyplot as plt\n",
    "from scipy.special import gamma as gamma_func"
   ]
  },
  {
   "cell_type": "code",
   "execution_count": null,
   "metadata": {},
   "outputs": [],
   "source": [
    "# setting the ground truths and the scenarios\n",
    "gt_changing_points = [1, 26, 51, 76]\n",
    "\n",
    "gt_total_time = 100\n",
    "\n",
    "gt_betas = [0.3, 0.4, 0.25, 0.2]\n",
    "gt_gammas = [0.05, 0.15, 0.2, 0.25]\n",
    "\n",
    "gt_total_population = 1_000_000\n",
    "gt_init_infected = 50\n",
    "\n",
    "save_npz = True\n",
    "\n",
    "gt_changing_points_tmp = gt_changing_points.copy()\n",
    "gt_changing_points_tmp.append(gt_total_time + 1)\n",
    "gt_days = np.array(gt_changing_points_tmp[1:]) - np.array(gt_changing_points_tmp[:-1])\n",
    "gt_beta_time = np.concatenate(\n",
    "    [[beta_val] * days for beta_val, days in zip(gt_betas, gt_days)]\n",
    ")\n",
    "gt_gamma_time = np.concatenate(\n",
    "    [[gamma_val] * days for gamma_val, days in zip(gt_gammas, gt_days)]\n",
    ")"
   ]
  },
  {
   "cell_type": "code",
   "execution_count": null,
   "metadata": {},
   "outputs": [],
   "source": [
    "# setting the lvectors for the simulations\n",
    "S = np.zeros(gt_total_time + 1)\n",
    "I = np.zeros(gt_total_time + 1)\n",
    "R = np.zeros(gt_total_time + 1)\n",
    "P = np.zeros(gt_total_time + 1)\n",
    "N = np.zeros(gt_total_time + 1)\n",
    "\n",
    "N[0] = gt_total_population\n",
    "S[0] = N[0] - gt_init_infected\n",
    "I[0] = gt_init_infected\n",
    "R[0] = 0\n",
    "P[0] = I[0] / N[0]"
   ]
  },
  {
   "cell_type": "code",
   "execution_count": null,
   "metadata": {},
   "outputs": [],
   "source": [
    "# generate the simulation\n",
    "for i in range(1, gt_total_time + 1):\n",
    "    delta_i = np.random.binomial(\n",
    "        S[i - 1], 1 - np.exp(-gt_beta_time[i - 1] * P[i - 1]))\n",
    "    delta_r = np.random.binomial(I[i - 1], gt_gamma_time[i - 1])\n",
    "\n",
    "    S[i] = S[i - 1] - delta_i\n",
    "    I[i] = I[i - 1] + delta_i - delta_r\n",
    "    R[i] = R[i - 1] + delta_r\n",
    "    N[i] = S[i] + I[i] + R[i]\n",
    "    P[i] = I[i] / N[i]\n",
    "\n",
    "# save the simulation\n",
    "if save_npz:\n",
    "    np.savez(\n",
    "        \"gt_data.npz\",\n",
    "        S=S,\n",
    "        I=I,\n",
    "        R=R,\n",
    "    )"
   ]
  },
  {
   "cell_type": "code",
   "execution_count": null,
   "metadata": {},
   "outputs": [],
   "source": [
    "# load the simulation data\n",
    "simulation = np.load('gt_data.npz')"
   ]
  },
  {
   "cell_type": "code",
   "execution_count": null,
   "metadata": {},
   "outputs": [],
   "source": [
    "# plot the data\n",
    "def plot_population_data(S, R, I, gt_changing_points):\n",
    "    \"\"\"\n",
    "    Plots the population data for susceptible (S), recovered (R), and infected (I) individuals over time.\n",
    "\n",
    "    Parameters:\n",
    "    S (array-like): Array of susceptible population counts over time.\n",
    "    R (array-like): Array of recovered population counts over time.\n",
    "    I (array-like): Array of infected population counts over time.\n",
    "\n",
    "    Returns:\n",
    "    None\n",
    "    \"\"\"\n",
    "    plt.plot(S, label=\"S\")\n",
    "    plt.plot(I, label=\"I\")\n",
    "    plt.plot(R, label=\"R\")\n",
    "    for c_point in gt_changing_points:\n",
    "        plt.axvline(x=c_point, color=\"black\", linestyle=\"--\", alpha=0.5)\n",
    "    plt.xlabel(\"Time\")\n",
    "    plt.ylabel(\"Population\")\n",
    "    plt.legend()\n",
    "    plt.show()\n",
    "\n",
    "\n",
    "plot_population_data(S, R, I, gt_changing_points)"
   ]
  },
  {
   "cell_type": "markdown",
   "metadata": {},
   "source": [
    "# MCMC algorithm"
   ]
  },
  {
   "cell_type": "markdown",
   "metadata": {},
   "source": [
    "## Data preparation"
   ]
  },
  {
   "cell_type": "code",
   "execution_count": 2,
   "metadata": {},
   "outputs": [
    {
     "name": "stdout",
     "output_type": "stream",
     "text": [
      "Original length (101,)\n",
      "Modified length (100,)\n",
      "T 100\n"
     ]
    }
   ],
   "source": [
    "# reshape and prepare the data\n",
    "R = simulation[\"R\"]\n",
    "S = simulation[\"S\"]\n",
    "I = simulation[\"I\"]\n",
    "\n",
    "T = R.shape[0] - 1\n",
    "S_0 = S[0]\n",
    "I_0 = I[0]\n",
    "R_0 = R[0]\n",
    "N_0 = S_0 + I_0 + R_0\n",
    "S = S[1:]\n",
    "R = R[1:]\n",
    "I = I[1:]\n",
    "\n",
    "P_0 = I_0 / N_0\n",
    "P = I / N_0\n",
    "\n",
    "delta_R = R[1:] - R[:-1]\n",
    "delta_R = np.concatenate([[R[0] - R_0], delta_R])\n",
    "\n",
    "delta_I = S[:-1] - S[1:]\n",
    "delta_I = np.concatenate([[S_0 - S[0]], delta_I])\n",
    "\n",
    "print(\"Modified length\", R.shape)\n",
    "print(\"T\", T)"
   ]
  },
  {
   "cell_type": "code",
   "execution_count": 4,
   "metadata": {},
   "outputs": [],
   "source": [
    "# mcmc hyperparameters\n",
    "N = 5000  # n samplings\n",
    "burnin = 500\n",
    "thinning = 10\n",
    "p = 0.01"
   ]
  },
  {
   "cell_type": "markdown",
   "metadata": {},
   "source": [
    "## Algorithm parameters"
   ]
  },
  {
   "cell_type": "code",
   "execution_count": 5,
   "metadata": {},
   "outputs": [],
   "source": [
    "betas = np.zeros([N, T])\n",
    "gammas = np.zeros([N, T])\n",
    "bs = np.zeros([N, T])\n",
    "rs = np.zeros([N, T])\n",
    "deltas = np.zeros([N, T])"
   ]
  },
  {
   "cell_type": "code",
   "execution_count": 6,
   "metadata": {},
   "outputs": [],
   "source": [
    "# init\n",
    "delta_0 = np.random.binomial(1, p, size=T)\n",
    "delta_0[0] = 1\n",
    "K_0 = np.sum(delta_0)\n",
    "eta_0 = np.cumsum(delta_0)\n",
    "\n",
    "# vectors of K elements\n",
    "r_0 = np.random.gamma(shape=0.1, scale=10, size=K_0)\n",
    "b_0 = np.random.gamma(shape=0.1, scale=10, size=K_0)\n",
    "\n",
    "r_0 = r_0[eta_0-1]\n",
    "b_0 = b_0[eta_0-1]\n",
    "\n",
    "beta_0 = np.random.exponential(1/b_0)\n",
    "gamma_0 = np.random.beta(r_0, 1)"
   ]
  },
  {
   "cell_type": "code",
   "execution_count": 7,
   "metadata": {},
   "outputs": [],
   "source": [
    "delta = delta_0.copy()\n",
    "beta = beta_0.copy()\n",
    "gamma = gamma_0.copy()\n",
    "r = r_0.copy()\n",
    "b = b_0.copy()"
   ]
  },
  {
   "cell_type": "code",
   "execution_count": 8,
   "metadata": {},
   "outputs": [],
   "source": [
    "def add(delta):\n",
    "    _delta = delta.copy()\n",
    "    index = np.random.choice(np.where(_delta == 0)[0])\n",
    "    _delta[index] = 1\n",
    "    return _delta\n",
    "\n",
    "\n",
    "def delete(delta):\n",
    "    _delta = delta.copy()\n",
    "    index = np.random.choice(np.where(_delta[1:] == 1)[0]) + 1\n",
    "    _delta[index] = 0\n",
    "    return _delta\n",
    "\n",
    "\n",
    "def swap(delta):\n",
    "    _delta = delta.copy()\n",
    "    index = np.random.choice(\n",
    "        np.where(_delta[1: T - 1] - _delta[2:T] != 0)[0]) + 1\n",
    "    _delta[index] = 1 - _delta[index]\n",
    "    _delta[index + 1] = 1 - _delta[index + 1]\n",
    "\n",
    "    return _delta"
   ]
  },
  {
   "cell_type": "code",
   "execution_count": 9,
   "metadata": {},
   "outputs": [],
   "source": [
    "def propose_delta(delta):\n",
    "    delta_orig = delta.copy()\n",
    "    _K = np.sum(delta_orig)\n",
    "    if _K == 1:\n",
    "        delta_ = add(delta_orig)\n",
    "    elif _K == T:\n",
    "        delta_ = delete(delta_orig)\n",
    "    else:\n",
    "        rand_choice = np.random.random()\n",
    "        if rand_choice < 1 / 3:\n",
    "            delta_ = add(delta_orig)\n",
    "        elif rand_choice < 2 / 3:\n",
    "            delta_ = delete(delta_orig)\n",
    "        else:\n",
    "            delta_ = swap(delta_orig)\n",
    "\n",
    "    return delta_.copy()"
   ]
  },
  {
   "cell_type": "code",
   "execution_count": 10,
   "metadata": {},
   "outputs": [],
   "source": [
    "def log_j_ratio(sum_candidate, sum_original):\n",
    "    if sum_original == sum_candidate:\n",
    "        return 0  # np.log(1)\n",
    "    elif (sum_candidate, sum_original) == (1, 2) or (sum_candidate, sum_original) == (T, T-1):\n",
    "        return np.log(3/(T-1))\n",
    "    elif (sum_candidate, sum_original) == (2, 1) or (sum_candidate, sum_original) == (T-1, T):\n",
    "        return np.log((T-1)/3)\n",
    "    elif sum_candidate == (sum_original-1):\n",
    "        return np.log((sum_original-1)/(T-sum_candidate))\n",
    "    else:\n",
    "        return np.log((T-sum_original)/(sum_candidate-1))"
   ]
  },
  {
   "cell_type": "code",
   "execution_count": 11,
   "metadata": {},
   "outputs": [],
   "source": [
    "def safe_log(x):\n",
    "    x = np.array(x)\n",
    "    mask = x > 1e-16\n",
    "    output = np.zeros(x.shape)\n",
    "    output[mask] = np.log(x[mask])\n",
    "    output[~mask] = -1000\n",
    "    return output"
   ]
  },
  {
   "cell_type": "code",
   "execution_count": 12,
   "metadata": {},
   "outputs": [],
   "source": [
    "def log_likelihood(delta, beta, gamma):\n",
    "    _delta = delta.copy()\n",
    "    eta = np.cumsum(_delta)\n",
    "    K = np.sum(_delta, dtype=int)\n",
    "\n",
    "    total = 0\n",
    "    for i in range(1, K + 1):\n",
    "        indic = eta == i\n",
    "        _n = np.sum(indic)\n",
    "        _sum_gamma = np.sum(safe_log(gamma[indic]))\n",
    "        _sum_beta = np.sum(beta[indic])\n",
    "        total += 0.2 * safe_log(0.1) - 2 * safe_log(gamma_func(0.1))\n",
    "        total += 2 * safe_log(gamma_func(0.1 + _n)) - _sum_gamma\n",
    "        total += -(0.1 + _n) * (safe_log(0.1 + _sum_beta) +\n",
    "                                safe_log(0.1 - _sum_gamma))\n",
    "\n",
    "    return total"
   ]
  },
  {
   "cell_type": "code",
   "execution_count": 13,
   "metadata": {},
   "outputs": [],
   "source": [
    "def accept_delta(delta_original, delta_candidate, beta, gamma):\n",
    "    exponent = np.sum(delta_candidate - delta_original)\n",
    "    prior_ratio = exponent * np.log(p / (1 - p))\n",
    "    sum_candidate = np.sum(delta_candidate)\n",
    "    sum_original = np.sum(delta_original)\n",
    "    j_ratio = log_j_ratio(sum_candidate, sum_original)\n",
    "    likelihood_ratio = log_likelihood(delta_candidate, beta, gamma) - log_likelihood(\n",
    "        delta_original, beta, gamma\n",
    "    )\n",
    "\n",
    "    mh_log = prior_ratio + likelihood_ratio + j_ratio\n",
    "\n",
    "    prob = min(0, mh_log)\n",
    "\n",
    "    random_num = np.log(np.random.random())\n",
    "\n",
    "    if random_num < prob:\n",
    "        return delta_candidate\n",
    "    else:\n",
    "        return delta_original"
   ]
  },
  {
   "cell_type": "code",
   "execution_count": 14,
   "metadata": {},
   "outputs": [],
   "source": [
    "def update_b(delta, beta):\n",
    "    K = np.sum(delta)\n",
    "    b = np.zeros(K)\n",
    "    eta = np.cumsum(delta)\n",
    "    for k in range(1, K + 1):\n",
    "        b[k - 1] = np.random.gamma(\n",
    "            shape=0.1 + np.sum(eta == k),\n",
    "            scale=1.0 / (0.1 + np.sum(beta[eta == k])),\n",
    "        )\n",
    "\n",
    "    return b[eta - 1]\n",
    "\n",
    "\n",
    "def update_r(delta, gamma):\n",
    "    K = np.sum(delta)\n",
    "    r = np.zeros(K)\n",
    "    eta = np.cumsum(delta)\n",
    "    for k in range(1, K + 1):\n",
    "        r[k - 1] = np.random.gamma(\n",
    "            shape=0.1 + np.sum(eta == k),\n",
    "            scale=1.0 / (0.1 - np.sum(safe_log(gamma[eta == k]))),\n",
    "        )\n",
    "\n",
    "    return r[eta - 1]"
   ]
  },
  {
   "cell_type": "code",
   "execution_count": 15,
   "metadata": {},
   "outputs": [],
   "source": [
    "def update_beta(b):\n",
    "    _beta = np.zeros(T)\n",
    "    for t in range(T):\n",
    "        if t != 0:\n",
    "            y = np.random.beta(\n",
    "                a=S[t - 1] - delta_I[t] + b[t] / P[t - 1] + 1,\n",
    "                b=delta_I[t] + 1,\n",
    "            )\n",
    "            _beta[t] = -safe_log(y) / P[t - 1]\n",
    "        else:\n",
    "            _beta[t] = y = np.random.beta(\n",
    "                a=S_0 - delta_I[t] + b[t] / P_0 + 1,\n",
    "                b=delta_I[t] + 1,\n",
    "            )\n",
    "            _beta[t] = -safe_log(y) / P_0\n",
    "\n",
    "    return _beta"
   ]
  },
  {
   "cell_type": "code",
   "execution_count": 16,
   "metadata": {},
   "outputs": [],
   "source": [
    "def update_gamma( r):\n",
    "    _gamma = np.zeros(T)\n",
    "    for t in range(T):\n",
    "        if t!=0:\n",
    "            _gamma[t] = np.random.beta(\n",
    "                a=delta_R[t] + r[t],\n",
    "                b=1 + I[t-1] - delta_R[t],\n",
    "            )\n",
    "        else:\n",
    "            _gamma[t] = np.random.beta(\n",
    "                a=delta_R[t] + r[t],\n",
    "                b=1 + I_0 - delta_R[t],\n",
    "            )\n",
    "\n",
    "\n",
    "    return _gamma"
   ]
  },
  {
   "cell_type": "code",
   "execution_count": 17,
   "metadata": {},
   "outputs": [],
   "source": [
    "K = np.sum(delta)\n",
    "eta = np.cumsum(delta)\n",
    "for n in range(N):\n",
    "\n",
    "    delta_ = propose_delta(delta)\n",
    "    delta = accept_delta(delta, delta_, beta, gamma)\n",
    "\n",
    "    b = update_b(delta, beta)\n",
    "    r = update_r(delta, gamma)\n",
    "\n",
    "    beta = update_beta(delta)\n",
    "    gamma = update_gamma(r)\n",
    "\n",
    "    betas[n, :] = beta\n",
    "    gammas[n, :] = gamma\n",
    "    deltas[n, :] = delta\n",
    "    rs[n, :] = r\n",
    "    bs[n, :] = b"
   ]
  },
  {
   "cell_type": "markdown",
   "metadata": {},
   "source": [
    "## Analysis of data"
   ]
  },
  {
   "cell_type": "code",
   "execution_count": 18,
   "metadata": {},
   "outputs": [
    {
     "data": {
      "text/plain": [
       "[<matplotlib.lines.Line2D at 0x11fe91f50>]"
      ]
     },
     "execution_count": 18,
     "metadata": {},
     "output_type": "execute_result"
    },
    {
     "data": {
      "image/png": "[encoded data removed]",
      "text/plain": [
       "<Figure size 640x480 with 1 Axes>"
      ]
     },
     "metadata": {},
     "output_type": "display_data"
    }
   ],
   "source": [
    "plt.plot(np.mean(betas[burnin::thinning,:],axis=0))"
   ]
  },
  {
   "cell_type": "code",
   "execution_count": 19,
   "metadata": {},
   "outputs": [],
   "source": [
    "beta_samples = betas[burnin::thinning, :]\n",
    "delta_samples = deltas[burnin::thinning, :]\n",
    "eta_samples = np.cumsum(deltas, axis=1)\n",
    "\n",
    "n_samples = eta_samples.shape[0]\n",
    "q = np.zeros((T, T))\n",
    "for n in range(n_samples):\n",
    "    q += (eta_samples[n, :] == (eta_samples[n, :])[:, None]).astype(int)\n",
    "q = q / n_samples"
   ]
  },
  {
   "cell_type": "code",
   "execution_count": 20,
   "metadata": {},
   "outputs": [],
   "source": [
    "np.savez('q_marco', q=q)"
   ]
  },
  {
   "cell_type": "code",
   "execution_count": 21,
   "metadata": {},
   "outputs": [
    {
     "data": {
      "text/plain": [
       "<matplotlib.image.AxesImage at 0x120fb3390>"
      ]
     },
     "execution_count": 21,
     "metadata": {},
     "output_type": "execute_result"
    },
    {
     "data": {
      "image/png": "[encoded data removed]",
      "text/plain": [
       "<Figure size 640x480 with 1 Axes>"
      ]
     },
     "metadata": {},
     "output_type": "display_data"
    }
   ],
   "source": [
    "import matplotlib.colors as col\n",
    "plt.imshow(q, norm=col.LogNorm())\n"
   ]
  },
  {
   "cell_type": "code",
   "execution_count": 22,
   "metadata": {},
   "outputs": [],
   "source": [
    "delta_hat = np.array([0] * T)\n",
    "delta_hat[0] = 1\n",
    "\n",
    "\n",
    "eta_hat = np.cumsum(delta_hat)\n",
    "\n",
    "continue_add = True\n",
    "continue_swap = True\n",
    "\n",
    "\n",
    "\n",
    "def loss(eta, q):\n",
    "    return np.sum(np.abs((eta == eta[:, None]).astype(int) - q))\n",
    "\n",
    "\n"
   ]
  },
  {
   "cell_type": "code",
   "execution_count": 23,
   "metadata": {},
   "outputs": [],
   "source": [
    "iteration = 0\n",
    "current_loss = loss(eta_hat, q)\n",
    "\n",
    "while continue_add or continue_swap:\n",
    "    iteration += 1\n",
    "\n",
    "    all_loss = []\n",
    "    candidate_indexes = range(1, T)\n",
    "    for i in candidate_indexes:\n",
    "\n",
    "        delta_candidate = delta_hat.copy()\n",
    "\n",
    "        delta_candidate[i] = 1 - delta_candidate[i]\n",
    "\n",
    "        eta_candidate = np.cumsum(delta_candidate)\n",
    "\n",
    "        candidate_loss = loss(eta_candidate, q)\n",
    "\n",
    "        all_loss.append(candidate_loss)\n",
    "\n",
    "    if all_loss and (min(all_loss) < current_loss):\n",
    "\n",
    "        index_min = int(candidate_indexes[np.argmin(all_loss)])\n",
    "        delta_hat[index_min] = 1 - delta_hat[index_min]\n",
    "\n",
    "        current_loss = min(all_loss)\n",
    "        continue_add = True\n",
    "    else:\n",
    "        continue_add = False\n",
    "\n",
    "    if np.sum(delta_hat, dtype=int) in range(2, T):\n",
    "        all_loss = []\n",
    "        candidate_indexes = (\n",
    "            np.where((delta_hat[1 : T - 1] - delta_hat[2:T]) != 0)[0] + 1\n",
    "        )\n",
    "        for i in candidate_indexes:\n",
    "            delta_candidate = np.copy(delta_hat)\n",
    "\n",
    "            mask = np.array([0, 1]) + i\n",
    "            delta_candidate[mask] = 1 - delta_candidate[mask]\n",
    "\n",
    "            eta_candidate = np.cumsum(delta_candidate)\n",
    "\n",
    "            candidate_loss = loss(eta_candidate, q)\n",
    "\n",
    "            all_loss.append(candidate_loss)\n",
    "\n",
    "        if all_loss and (min(all_loss) < current_loss):\n",
    "\n",
    "            index_min = candidate_indexes[np.argmin(all_loss)]\n",
    "            index_min = np.array([0, 1]) + index_min\n",
    "\n",
    "            delta_hat[index_min] = 1 - delta_hat[index_min]\n",
    "\n",
    "            current_loss = min(all_loss)\n",
    "\n",
    "            continue_swap = True\n",
    "        else:\n",
    "            continue_swap = False\n",
    "\n",
    "    if iteration > 1000:\n",
    "\n",
    "        continue_add = False\n",
    "        continue_swap = False\n",
    "\n",
    "delta_final = delta_hat"
   ]
  },
  {
   "cell_type": "code",
   "execution_count": 24,
   "metadata": {},
   "outputs": [
    {
     "data": {
      "text/plain": [
       "<matplotlib.lines.Line2D at 0x121045890>"
      ]
     },
     "execution_count": 24,
     "metadata": {},
     "output_type": "execute_result"
    },
    {
     "data": {
      "image/png": "[encoded data removed]",
      "text/plain": [
       "<Figure size 640x480 with 1 Axes>"
      ]
     },
     "metadata": {},
     "output_type": "display_data"
    }
   ],
   "source": [
    "plt.plot(delta_final)\n",
    "plt.axvline(25)\n",
    "plt.axvline(75)\n",
    "plt.axvline(50)"
   ]
  }
 ],
 "metadata": {
  "kernelspec": {
   "display_name": "base",
   "language": "python",
   "name": "python3"
  },
  "language_info": {
   "codemirror_mode": {
    "name": "ipython",
    "version": 3
   },
   "file_extension": ".py",
   "mimetype": "text/x-python",
   "name": "python",
   "nbconvert_exporter": "python",
   "pygments_lexer": "ipython3",
   "version": "3.11.5"
  }
 },
 "nbformat": 4,
 "nbformat_minor": 2
}
