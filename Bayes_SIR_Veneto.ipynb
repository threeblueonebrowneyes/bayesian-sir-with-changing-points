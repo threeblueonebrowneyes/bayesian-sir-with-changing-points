{
 "cells": [
  {
   "cell_type": "markdown",
   "metadata": {
    "tags": []
   },
   "source": [
    "# Bayes analysis of SIR model with changing points"
   ]
  },
  {
   "cell_type": "markdown",
   "metadata": {
    "tags": []
   },
   "source": [
    "## Libraries"
   ]
  },
  {
   "cell_type": "code",
   "execution_count": 1,
   "metadata": {},
   "outputs": [
    {
     "name": "stderr",
     "output_type": "stream",
     "text": [
      "/home/vepe/miniconda3/envs/torch/lib/python3.10/site-packages/scipy/__init__.py:146: UserWarning: A NumPy version >=1.16.5 and <1.23.0 is required for this version of SciPy (detected version 1.26.4\n",
      "  warnings.warn(f\"A NumPy version >={np_minversion} and <{np_maxversion}\"\n"
     ]
    }
   ],
   "source": [
    "# load libraries\n",
    "import numpy as np\n",
    "import matplotlib.pyplot as plt\n",
    "from scipy.special import gamma as gamma_func\n",
    "\n",
    "from utils import *\n",
    "from mcmc import *\n",
    "from clustering import *\n",
    "from regional_data_extractor import *\n"
   ]
  },
  {
   "cell_type": "markdown",
   "metadata": {},
   "source": [
    "# Veneto data "
   ]
  },
  {
   "cell_type": "code",
   "execution_count": 2,
   "metadata": {},
   "outputs": [
    {
     "data": {
      "text/plain": [
       "<matplotlib.legend.Legend at 0x7f41fee84370>"
      ]
     },
     "execution_count": 2,
     "metadata": {},
     "output_type": "execute_result"
    },
    {
     "data": {
      "image/png": "[encoded data removed]",
      "text/plain": [
       "<Figure size 640x480 with 1 Axes>"
      ]
     },
     "metadata": {},
     "output_type": "display_data"
    }
   ],
   "source": [
    "#load the Italian covid data\n",
    "italian_data = pd.read_excel('ItalianData.xlsx')\n",
    "\n",
    "#select the region of interest and the starting and ending date\n",
    "sir_data = sir_data_extractor(italian_data, region='Veneto', start_date='2020-10-1', end_date='2021-10-1')\n",
    "\n",
    "#crate the dataframw with the right variables for the SIR model\n",
    "sir_dataframe = create_SIR_dataframe(sir_data)\n",
    "\n",
    "#exctract the data into numpy array\n",
    "S = sir_dataframe['S'].values\n",
    "I = sir_dataframe['I'].values\n",
    "R = sir_dataframe['R'].values\n",
    "T = len(sir_dataframe)\n",
    "\n",
    "plt.plot(S, label='S')\n",
    "plt.plot(I, label='I')\n",
    "plt.plot(R, label='R')\n",
    "plt.xlabel('Time')\n",
    "plt.ylabel('Number of individuals')\n",
    "plt.legend()\n"
   ]
  },
  {
   "cell_type": "markdown",
   "metadata": {
    "tags": []
   },
   "source": [
    "## MCMC algorithm"
   ]
  },
  {
   "cell_type": "markdown",
   "metadata": {
    "tags": []
   },
   "source": [
    "### Data preparation"
   ]
  },
  {
   "cell_type": "code",
   "execution_count": 3,
   "metadata": {
    "tags": []
   },
   "outputs": [],
   "source": [
    "#Save initial conditions\n",
    "S_0 = S[0]\n",
    "I_0 = I[0]\n",
    "R_0 = R[0]\n",
    "N_0 = S_0 + I_0 + R_0\n",
    "P_0 = I_0 / N_0"
   ]
  },
  {
   "cell_type": "code",
   "execution_count": 4,
   "metadata": {
    "tags": []
   },
   "outputs": [],
   "source": [
    "S = S[1:]\n",
    "R = R[1:]\n",
    "I = I[1:]\n",
    "\n",
    "P = I / N_0"
   ]
  },
  {
   "cell_type": "code",
   "execution_count": 5,
   "metadata": {
    "tags": []
   },
   "outputs": [
    {
     "name": "stdout",
     "output_type": "stream",
     "text": [
      "Modified length:  (365,)\n",
      "T:  [  0   1   2   3   4   5   6   7   8   9  10  11  12  13  14  15  16  17\n",
      "  18  19  20  21  22  23  24  25  26  27  28  29  30  31  32  33  34  35\n",
      "  36  37  38  39  40  41  42  43  44  45  46  47  48  49  50  51  52  53\n",
      "  54  55  56  57  58  59  60  61  62  63  64  65  66  67  68  69  70  71\n",
      "  72  73  74  75  76  77  78  79  80  81  82  83  84  85  86  87  88  89\n",
      "  90  91  92  93  94  95  96  97  98  99 100 101 102 103 104 105 106 107\n",
      " 108 109 110 111 112 113 114 115 116 117 118 119 120 121 122 123 124 125\n",
      " 126 127 128 129 130 131 132 133 134 135 136 137 138 139 140 141 142 143\n",
      " 144 145 146 147 148 149 150 151 152 153 154 155 156 157 158 159 160 161\n",
      " 162 163 164 165 166 167 168 169 170 171 172 173 174 175 176 177 178 179\n",
      " 180 181 182 183 184 185 186 187 188 189 190 191 192 193 194 195 196 197\n",
      " 198 199 200 201 202 203 204 205 206 207 208 209 210 211 212 213 214 215\n",
      " 216 217 218 219 220 221 222 223 224 225 226 227 228 229 230 231 232 233\n",
      " 234 235 236 237 238 239 240 241 242 243 244 245 246 247 248 249 250 251\n",
      " 252 253 254 255 256 257 258 259 260 261 262 263 264 265 266 267 268 269\n",
      " 270 271 272 273 274 275 276 277 278 279 280 281 282 283 284 285 286 287\n",
      " 288 289 290 291 292 293 294 295 296 297 298 299 300 301 302 303 304 305\n",
      " 306 307 308 309 310 311 312 313 314 315 316 317 318 319 320 321 322 323\n",
      " 324 325 326 327 328 329 330 331 332 333 334 335 336 337 338 339 340 341\n",
      " 342 343 344 345 346 347 348 349 350 351 352 353 354 355 356 357 358 359\n",
      " 360 361 362 363 364 365]\n"
     ]
    }
   ],
   "source": [
    "delta_R = R[1:] - R[:-1]\n",
    "delta_R = np.concatenate([[R[0] - R_0], delta_R])\n",
    "\n",
    "delta_I = S[:-1] - S[1:]\n",
    "delta_I = np.concatenate([[S_0 - S[0]], delta_I])\n",
    "\n",
    "print(\"Modified length: \", R.shape)\n",
    "print(\"T: \", T)"
   ]
  },
  {
   "cell_type": "markdown",
   "metadata": {
    "tags": []
   },
   "source": [
    "### MCMC hyper-parameter"
   ]
  },
  {
   "cell_type": "code",
   "execution_count": 6,
   "metadata": {},
   "outputs": [],
   "source": [
    "N = 15_000  # n samplings\n",
    "burnin = 5000\n",
    "thinning = 10\n",
    "p = 0.01"
   ]
  },
  {
   "cell_type": "markdown",
   "metadata": {},
   "source": [
    "### Algorithm parameters"
   ]
  },
  {
   "cell_type": "code",
   "execution_count": 7,
   "metadata": {},
   "outputs": [
    {
     "ename": "TypeError",
     "evalue": "only integer scalar arrays can be converted to a scalar index",
     "output_type": "error",
     "traceback": [
      "\u001b[0;31m---------------------------------------------------------------------------\u001b[0m",
      "\u001b[0;31mTypeError\u001b[0m                                 Traceback (most recent call last)",
      "Cell \u001b[0;32mIn[7], line 1\u001b[0m\n\u001b[0;32m----> 1\u001b[0m betas \u001b[38;5;241m=\u001b[39m \u001b[43mnp\u001b[49m\u001b[38;5;241;43m.\u001b[39;49m\u001b[43mzeros\u001b[49m\u001b[43m(\u001b[49m\u001b[43m[\u001b[49m\u001b[43mN\u001b[49m\u001b[43m,\u001b[49m\u001b[43m \u001b[49m\u001b[43mT\u001b[49m\u001b[43m]\u001b[49m\u001b[43m)\u001b[49m\n\u001b[1;32m      2\u001b[0m gammas \u001b[38;5;241m=\u001b[39m np\u001b[38;5;241m.\u001b[39mzeros([N, T])\n\u001b[1;32m      3\u001b[0m bs \u001b[38;5;241m=\u001b[39m np\u001b[38;5;241m.\u001b[39mzeros([N, T])\n",
      "\u001b[0;31mTypeError\u001b[0m: only integer scalar arrays can be converted to a scalar index"
     ]
    }
   ],
   "source": [
    "betas = np.zeros([N, T])\n",
    "gammas = np.zeros([N, T])\n",
    "bs = np.zeros([N, T])\n",
    "rs = np.zeros([N, T])\n",
    "deltas = np.zeros([N, T])"
   ]
  },
  {
   "cell_type": "code",
   "execution_count": 14,
   "metadata": {},
   "outputs": [],
   "source": [
    "# init\n",
    "delta_0 = np.random.binomial(1, p, size=T) \n",
    "delta_0[0] = 1\n",
    "K_0 = np.sum(delta_0) # Number of Changeing points\n",
    "eta_0 = np.cumsum(delta_0) #Number of Changing points up to time t\n",
    "\n",
    "# vectors of K elements\n",
    "r_0 = np.random.gamma(shape=0.1, scale=10, size=K_0)\n",
    "b_0 = np.random.gamma(shape=0.1, scale=10, size=K_0)\n",
    "\n",
    "r_0 = r_0[eta_0-1]\n",
    "b_0 = b_0[eta_0-1]\n",
    "\n",
    "beta_0 = np.random.exponential(1/b_0)\n",
    "gamma_0 = np.random.beta(r_0, 1)"
   ]
  },
  {
   "cell_type": "code",
   "execution_count": 15,
   "metadata": {},
   "outputs": [],
   "source": [
    "delta = delta_0.copy()\n",
    "beta = beta_0.copy()\n",
    "gamma = gamma_0.copy()\n",
    "r = r_0.copy()\n",
    "b = b_0.copy()"
   ]
  },
  {
   "cell_type": "markdown",
   "metadata": {},
   "source": [
    "### Simulation"
   ]
  },
  {
   "cell_type": "code",
   "execution_count": 16,
   "metadata": {},
   "outputs": [],
   "source": [
    "from tqdm.notebook import tqdm"
   ]
  },
  {
   "cell_type": "code",
   "execution_count": 17,
   "metadata": {},
   "outputs": [
    {
     "data": {
      "application/vnd.jupyter.widget-view+json": {
       "model_id": "106f9074cf794747a5cf252d43c7da29",
       "version_major": 2,
       "version_minor": 0
      },
      "text/plain": [
       "  0%|          | 0/15000 [00:00<?, ?it/s]"
      ]
     },
     "metadata": {},
     "output_type": "display_data"
    }
   ],
   "source": [
    "K = np.sum(delta)\n",
    "eta = np.cumsum(delta)\n",
    "for n in tqdm(range(N)):\n",
    "\n",
    "    delta_ = propose_delta(delta, T)\n",
    "    delta = accept_delta(delta, delta_, beta, gamma, T, p)\n",
    "\n",
    "    b = update_b(delta, beta)\n",
    "    r = update_r(delta, gamma)\n",
    "\n",
    "    beta = update_beta(delta, T, S_0, P_0, S, P, delta_I)\n",
    "    gamma = update_gamma(r, T, I_0, I, delta_R)\n",
    "\n",
    "    betas[n, :] = beta\n",
    "    gammas[n, :] = gamma\n",
    "    deltas[n, :] = delta\n",
    "    rs[n, :] = r\n",
    "    bs[n, :] = b"
   ]
  },
  {
   "cell_type": "markdown",
   "metadata": {},
   "source": [
    "## Analysis of data"
   ]
  },
  {
   "cell_type": "code",
   "execution_count": 18,
   "metadata": {},
   "outputs": [],
   "source": [
    "beta_samples = betas[burnin::thinning, :]\n",
    "delta_samples = deltas[burnin::thinning, :]\n",
    "b_samples = bs[burnin::thinning, :]\n",
    "r_samples = rs[burnin::thinning, :]\n",
    "\n",
    "eta_samples = np.cumsum(delta_samples, axis=1)\n",
    "\n",
    "n_samples = eta_samples.shape[0]\n",
    "q = np.zeros((T, T))\n",
    "for n in range(n_samples):\n",
    "    q += (eta_samples[n, :] == (eta_samples[n, :])[:, None]).astype(int)\n",
    "q = q / n_samples"
   ]
  },
  {
   "cell_type": "code",
   "execution_count": 19,
   "metadata": {},
   "outputs": [
    {
     "data": {
      "text/plain": [
       "<matplotlib.image.AxesImage at 0x7f67e9ba3f10>"
      ]
     },
     "execution_count": 19,
     "metadata": {},
     "output_type": "execute_result"
    },
    {
     "data": {
      "image/png": "[encoded data removed]",
      "text/plain": [
       "<Figure size 640x480 with 1 Axes>"
      ]
     },
     "metadata": {},
     "output_type": "display_data"
    }
   ],
   "source": [
    "import matplotlib.colors as col\n",
    "plt.imshow(q, norm = 'log')\n"
   ]
  },
  {
   "cell_type": "markdown",
   "metadata": {},
   "source": [
    "### Clustering"
   ]
  },
  {
   "cell_type": "code",
   "execution_count": 20,
   "metadata": {},
   "outputs": [],
   "source": [
    "delta_hat = np.array([0] * T)\n",
    "delta_hat[0] = 1\n",
    "\n",
    "\n",
    "eta_hat = np.cumsum(delta_hat)\n",
    "\n",
    "continue_add = True\n",
    "continue_swap = True"
   ]
  },
  {
   "cell_type": "code",
   "execution_count": 21,
   "metadata": {},
   "outputs": [],
   "source": [
    "delta_final = clustering(delta_hat, eta_hat, q, T, continue_add, continue_swap)"
   ]
  },
  {
   "cell_type": "markdown",
   "metadata": {},
   "source": [
    "### Changing points "
   ]
  },
  {
   "cell_type": "code",
   "execution_count": 22,
   "metadata": {},
   "outputs": [],
   "source": [
    "eta_final= np.cumsum(delta_final)\n",
    "K_final= np.sum(delta_final)\n",
    "\n",
    "tau_final= np.where(delta_final==1)[0]"
   ]
  },
  {
   "cell_type": "code",
   "execution_count": 23,
   "metadata": {},
   "outputs": [
    {
     "data": {
      "text/plain": [
       "array([ 0,  5, 13, 16, 75])"
      ]
     },
     "execution_count": 23,
     "metadata": {},
     "output_type": "execute_result"
    }
   ],
   "source": [
    "tau_final"
   ]
  },
  {
   "cell_type": "code",
   "execution_count": 24,
   "metadata": {},
   "outputs": [
    {
     "data": {
      "text/plain": [
       "<matplotlib.lines.Line2D at 0x7f67e61e3a60>"
      ]
     },
     "execution_count": 24,
     "metadata": {},
     "output_type": "execute_result"
    },
    {
     "data": {
      "image/png": "[encoded data removed]",
      "text/plain": [
       "<Figure size 640x480 with 1 Axes>"
      ]
     },
     "metadata": {},
     "output_type": "display_data"
    }
   ],
   "source": [
    "plt.plot(delta_final)\n",
    "plt.axvline(25)\n",
    "plt.axvline(75)\n",
    "plt.axvline(50)"
   ]
  },
  {
   "cell_type": "markdown",
   "metadata": {},
   "source": [
    "### Confidence intervals"
   ]
  },
  {
   "cell_type": "code",
   "execution_count": 25,
   "metadata": {},
   "outputs": [],
   "source": [
    "alpha=0.05"
   ]
  },
  {
   "cell_type": "code",
   "execution_count": 26,
   "metadata": {},
   "outputs": [],
   "source": [
    "def constraint_lhs(deltas, tau_l, tau_u):\n",
    "    n_samples = deltas.shape[0]\n",
    "    sum_tau = np.sum(deltas[:, tau_l:tau_u]) / n_samples\n",
    "    return sum_tau"
   ]
  },
  {
   "cell_type": "code",
   "execution_count": 27,
   "metadata": {},
   "outputs": [],
   "source": [
    "def possible_taus(tau_k, delta_tau):\n",
    "    lower= tau_k\n",
    "    upper= tau_k +delta_tau\n",
    "    possible=[]\n",
    "    for i in range(delta_tau+1):\n",
    "        if upper<=T and lower>=0:\n",
    "            possible.append((lower, upper))\n",
    "            lower-=1\n",
    "            upper-=1\n",
    "    return possible\n",
    "\n",
    "# possible_taus(4, 4)"
   ]
  },
  {
   "cell_type": "code",
   "execution_count": 28,
   "metadata": {},
   "outputs": [],
   "source": [
    "ci_tau = []\n",
    "for tau_k in tau_final:\n",
    "    for delta_tau in range(2, T):\n",
    "        candidate = []\n",
    "        possible_taus_list = possible_taus(tau_k, delta_tau)\n",
    "        for tau_l, tau_u in possible_taus_list:\n",
    "            sum_tau = constraint_lhs(delta_samples, tau_l, tau_u)\n",
    "            if sum_tau >= 1 - alpha:\n",
    "                candidate.append([sum_tau, tau_l, tau_u])\n",
    "        if len(candidate) > 0:\n",
    "            break\n",
    "\n",
    "    if len(candidate) == 0:\n",
    "        ci_tau.append(np.array([0, T]))\n",
    "    else:\n",
    "        candidate = np.array(candidate)\n",
    "        index_max_candidate = np.argmax(candidate[:, 0])\n",
    "        ci_tau.append(candidate[index_max_candidate, 1:])"
   ]
  },
  {
   "cell_type": "markdown",
   "metadata": {},
   "source": [
    "### Final Beta and Gamma"
   ]
  },
  {
   "cell_type": "code",
   "execution_count": 29,
   "metadata": {},
   "outputs": [],
   "source": [
    "sum_beta = np.zeros(T)\n",
    "sum_gamma = np.zeros(T)\n",
    "n_smaples_reduced = delta_samples.shape[0]\n",
    "for g in range(n_smaples_reduced):\n",
    "    sum_beta += 1 / b_samples[g, :]\n",
    "    sum_gamma+= r_samples[g, :]/(1+r_samples[g, :])\n",
    "beta_final = sum_beta / n_smaples_reduced\n",
    "gamma_final = sum_gamma / n_smaples_reduced"
   ]
  },
  {
   "cell_type": "code",
   "execution_count": 44,
   "metadata": {},
   "outputs": [
    {
     "data": {
      "text/plain": [
       "<matplotlib.legend.Legend at 0x7f67e4b41db0>"
      ]
     },
     "execution_count": 44,
     "metadata": {},
     "output_type": "execute_result"
    },
    {
     "data": {
      "image/png": "[encoded data removed]",
      "text/plain": [
       "<Figure size 640x480 with 1 Axes>"
      ]
     },
     "metadata": {},
     "output_type": "display_data"
    }
   ],
   "source": [
    "plt.plot(beta_final, label=r'$\\beta$')\n",
    "plt.plot(gamma_final, label=r'$\\gamma$')\n",
    "plt.xlabel('Time')\n",
    "plt.legend()"
   ]
  },
  {
   "cell_type": "markdown",
   "metadata": {},
   "source": [
    "## Bayesian analysis     "
   ]
  },
  {
   "cell_type": "markdown",
   "metadata": {},
   "source": [
    "#### Plots"
   ]
  },
  {
   "cell_type": "code",
   "execution_count": 35,
   "metadata": {},
   "outputs": [],
   "source": [
    "posterior_frequency = np.sum(delta_samples[:, 1:], axis = 0)/n_samples"
   ]
  },
  {
   "cell_type": "code",
   "execution_count": 36,
   "metadata": {},
   "outputs": [
    {
     "data": {
      "text/plain": [
       "Text(0.5, 0, 'Time[Days]')"
      ]
     },
     "execution_count": 36,
     "metadata": {},
     "output_type": "execute_result"
    },
    {
     "data": {
      "image/png": "[encoded data removed]",
      "text/plain": [
       "<Figure size 640x480 with 1 Axes>"
      ]
     },
     "metadata": {},
     "output_type": "display_data"
    }
   ],
   "source": [
    "plt.plot(posterior_frequency, 'o-')\n",
    "for gt in gt_changing_points[1:]:\n",
    "    plt.axvline(gt, linestyle = '--', c = 'k')\n",
    "\n",
    "\n",
    "\n",
    "plt.xlabel('Time[Days]')"
   ]
  },
  {
   "cell_type": "markdown",
   "metadata": {},
   "source": [
    "#### Changing Points"
   ]
  },
  {
   "cell_type": "code",
   "execution_count": 37,
   "metadata": {},
   "outputs": [],
   "source": [
    "K_final = np.sum(delta_final)"
   ]
  },
  {
   "cell_type": "code",
   "execution_count": 38,
   "metadata": {},
   "outputs": [
    {
     "data": {
      "text/plain": [
       "array([ 0,  5, 13, 16, 75])"
      ]
     },
     "execution_count": 38,
     "metadata": {},
     "output_type": "execute_result"
    }
   ],
   "source": [
    "tau_final"
   ]
  },
  {
   "cell_type": "code",
   "execution_count": 39,
   "metadata": {},
   "outputs": [
    {
     "data": {
      "text/plain": [
       "[array([0., 2.]),\n",
       " array([0., 5.]),\n",
       " array([13., 17.]),\n",
       " array([14., 17.]),\n",
       " array([63., 79.])]"
      ]
     },
     "execution_count": 39,
     "metadata": {},
     "output_type": "execute_result"
    }
   ],
   "source": [
    "ci_tau"
   ]
  },
  {
   "cell_type": "markdown",
   "metadata": {},
   "source": [
    "### Metrics"
   ]
  },
  {
   "cell_type": "markdown",
   "metadata": {},
   "source": [
    "#### ARI"
   ]
  },
  {
   "cell_type": "code",
   "execution_count": 40,
   "metadata": {},
   "outputs": [],
   "source": [
    "TP = 0\n",
    "FP = 0\n",
    "FN = 0\n",
    "TN = 0\n",
    "for i in range(T):\n",
    "    for j in range(i+1, T):\n",
    "        TP = TP + int(eta_final[i]==eta_final[j] and gt_eta[i]==gt_eta[j])\n",
    "        FP = FP + int(eta_final[i]!=eta_final[j] and gt_eta[i]==gt_eta[j])\n",
    "        FN = FN + int(eta_final[i]==eta_final[j] and gt_eta[i]!=gt_eta[j])\n",
    "        TN = TN + int(eta_final[i]!=eta_final[j] and gt_eta[i]!=gt_eta[j])\n",
    "\n",
    "TP = TP*2/(T*(T-1))\n",
    "FP = FP*2/(T*(T-1))\n",
    "FN = FN*2/(T*(T-1))\n",
    "TN = TN*2/(T*(T-1))"
   ]
  },
  {
   "cell_type": "code",
   "execution_count": 41,
   "metadata": {},
   "outputs": [
    {
     "name": "stdout",
     "output_type": "stream",
     "text": [
      "ARI: 0.42492347349766413\n"
     ]
    }
   ],
   "source": [
    "ARI = (TP + TN - ((TP+FP)*(TP+FN)+(TN+FP)*(TN+FN)))/(1-((TP+FP)*(TP+FN) + (TN+FP)*(TN+FN)))\n",
    "print('ARI:', ARI)"
   ]
  },
  {
   "cell_type": "markdown",
   "metadata": {},
   "source": [
    "#### Mutual information  (NON sono definiti k1 e k2)"
   ]
  },
  {
   "cell_type": "code",
   "execution_count": 42,
   "metadata": {},
   "outputs": [],
   "source": [
    "MI = 0\n",
    "\n",
    "\n",
    "for k1 in range(int(K_final)):\n",
    "    for k2 in range(int(K_final)):\n",
    "        n_k1 = np.sum(gt_eta == k1)\n",
    "        n_k2 = np.sum(eta_final == k2)\n",
    "        n_k1k2 = np.sum((gt_eta == k1) & (eta_final == k2))\n",
    "        if n_k1k2 > 0:\n",
    "            MI += n_k1k2/T * (np.log(T * n_k1k2) - np.log(n_k1 * n_k2))"
   ]
  },
  {
   "cell_type": "code",
   "execution_count": 43,
   "metadata": {},
   "outputs": [
    {
     "name": "stdout",
     "output_type": "stream",
     "text": [
      "MI: 0.44116180332990373\n"
     ]
    }
   ],
   "source": [
    "print('MI:', MI)"
   ]
  },
  {
   "cell_type": "code",
   "execution_count": null,
   "metadata": {},
   "outputs": [],
   "source": []
  }
 ],
 "metadata": {
  "kernelspec": {
   "display_name": "Python 3 (ipykernel)",
   "language": "python",
   "name": "python3"
  },
  "language_info": {
   "codemirror_mode": {
    "name": "ipython",
    "version": 3
   },
   "file_extension": ".py",
   "mimetype": "text/x-python",
   "name": "python",
   "nbconvert_exporter": "python",
   "pygments_lexer": "ipython3",
   "version": "3.10.13"
  },
  "widgets": {
   "application/vnd.jupyter.widget-state+json": {
    "state": {
     "38def901187549d79bfadfe2ae8891e6": {
      "model_module": "@jupyter-widgets/controls",
      "model_module_version": "2.0.0",
      "model_name": "HTMLStyleModel",
      "state": {
       "description_width": "",
       "font_size": null,
       "text_color": null
      }
     },
     "3bc5a3bae4d14cffb612b29ad7b380c9": {
      "model_module": "@jupyter-widgets/base",
      "model_module_version": "2.0.0",
      "model_name": "LayoutModel",
      "state": {}
     },
     "40316535bcf54f348c11d5a00e1d7471": {
      "model_module": "@jupyter-widgets/controls",
      "model_module_version": "2.0.0",
      "model_name": "FloatProgressModel",
      "state": {
       "bar_style": "success",
       "layout": "IPY_MODEL_3bc5a3bae4d14cffb612b29ad7b380c9",
       "max": 15000,
       "style": "IPY_MODEL_a960ffb953f14112a66fdd2aa79e46e5",
       "value": 15000
      }
     },
     "515245bf4039475a97d5fe45371f1b38": {
      "model_module": "@jupyter-widgets/controls",
      "model_module_version": "2.0.0",
      "model_name": "HTMLModel",
      "state": {
       "layout": "IPY_MODEL_c24f0492e3ae42b18a93fae8b4cb2591",
       "style": "IPY_MODEL_74c22d4229e0497ab1e604180d32ce34",
       "value": " 15000/15000 [00:24&lt;00:00, 657.46it/s]"
      }
     },
     "5e7e8d4b761f4de49877d3fafdc0acb9": {
      "model_module": "@jupyter-widgets/controls",
      "model_module_version": "2.0.0",
      "model_name": "HBoxModel",
      "state": {
       "children": [
        "IPY_MODEL_e9670352bc9d4d6fb336756ab8416ebc",
        "IPY_MODEL_40316535bcf54f348c11d5a00e1d7471",
        "IPY_MODEL_515245bf4039475a97d5fe45371f1b38"
       ],
       "layout": "IPY_MODEL_8e3be2cb48db47a89d84300de734be84"
      }
     },
     "74c22d4229e0497ab1e604180d32ce34": {
      "model_module": "@jupyter-widgets/controls",
      "model_module_version": "2.0.0",
      "model_name": "HTMLStyleModel",
      "state": {
       "description_width": "",
       "font_size": null,
       "text_color": null
      }
     },
     "8e3be2cb48db47a89d84300de734be84": {
      "model_module": "@jupyter-widgets/base",
      "model_module_version": "2.0.0",
      "model_name": "LayoutModel",
      "state": {}
     },
     "a960ffb953f14112a66fdd2aa79e46e5": {
      "model_module": "@jupyter-widgets/controls",
      "model_module_version": "2.0.0",
      "model_name": "ProgressStyleModel",
      "state": {
       "description_width": ""
      }
     },
     "bfd956d608ea4c5d84454d9f155572f5": {
      "model_module": "@jupyter-widgets/base",
      "model_module_version": "2.0.0",
      "model_name": "LayoutModel",
      "state": {}
     },
     "c24f0492e3ae42b18a93fae8b4cb2591": {
      "model_module": "@jupyter-widgets/base",
      "model_module_version": "2.0.0",
      "model_name": "LayoutModel",
      "state": {}
     },
     "e9670352bc9d4d6fb336756ab8416ebc": {
      "model_module": "@jupyter-widgets/controls",
      "model_module_version": "2.0.0",
      "model_name": "HTMLModel",
      "state": {
       "layout": "IPY_MODEL_bfd956d608ea4c5d84454d9f155572f5",
       "style": "IPY_MODEL_38def901187549d79bfadfe2ae8891e6",
       "value": "100%"
      }
     }
    },
    "version_major": 2,
    "version_minor": 0
   }
  }
 },
 "nbformat": 4,
 "nbformat_minor": 4
}
