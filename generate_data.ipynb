{
 "cells": [
  {
   "cell_type": "code",
   "execution_count": 1,
   "metadata": {},
   "outputs": [],
   "source": [
    "# import library\n",
    "import numpy as np\n",
    "import matplotlib.pyplot as plt\n"
   ]
  },
  {
   "cell_type": "code",
   "execution_count": 2,
   "metadata": {},
   "outputs": [],
   "source": [
    "# define global variables and vectors\n",
    "n_steps = 100\n",
    "\n",
    "S = np.zeros(n_steps)\n",
    "I = np.zeros(n_steps)\n",
    "R = np.zeros(n_steps)\n",
    "P = np.zeros(n_steps)\n",
    "N = np.zeros(n_steps)\n",
    "\n",
    "changing_points = [\n",
    "    25,\n",
    "    50,\n",
    "    75,\n",
    "]\n",
    "\n",
    "# # first scenario\n",
    "# betas = np.array([0.3, 0.4, 0.25, 0.2])\n",
    "# gammas = np.array([0.05, 0.15, 0.2, 0.25])\n",
    "\n",
    "N[0] = 1_000_000\n",
    "S[0] = N[0] - 50\n",
    "I[0] = 50\n",
    "R[0] = 0\n",
    "P[0] = I[0] / N[0]"
   ]
  },
  {
   "cell_type": "code",
   "execution_count": 3,
   "metadata": {},
   "outputs": [],
   "source": [
    "beta = np.concatenate(\n",
    "    (\n",
    "        np.ones(\n",
    "            25,\n",
    "        )\n",
    "        * 0.5,\n",
    "        np.ones(\n",
    "            25,\n",
    "        )\n",
    "        * 0.3,\n",
    "        np.ones(\n",
    "            25,\n",
    "        )\n",
    "        * 0.4,\n",
    "        np.ones(\n",
    "            25,\n",
    "        )\n",
    "        * 0.2,\n",
    "    )\n",
    ")"
   ]
  },
  {
   "cell_type": "code",
   "execution_count": 4,
   "metadata": {},
   "outputs": [],
   "source": [
    "gamma = np.concatenate(\n",
    "    (\n",
    "        np.ones(\n",
    "            25,\n",
    "        )\n",
    "        * 0.1,\n",
    "        np.ones(\n",
    "            25,\n",
    "        )\n",
    "        * 0.3,\n",
    "        np.ones(\n",
    "            25,\n",
    "        )\n",
    "        * 0.2,\n",
    "        np.ones(\n",
    "            25,\n",
    "        )\n",
    "        * 0.4,\n",
    "    )\n",
    ")"
   ]
  },
  {
   "cell_type": "code",
   "execution_count": 5,
   "metadata": {},
   "outputs": [],
   "source": [
    "for i in range(1, n_steps):\n",
    "    delta_i = np.random.binomial(S[i - 1], 1 - np.exp(-beta[i] * P[i - 1]))\n",
    "    delta_r = np.random.binomial(I[i - 1], gamma[i])\n",
    "    S[i] = S[i - 1] - delta_i\n",
    "    I[i] = I[i - 1] + delta_i - delta_r\n",
    "    R[i] = R[i - 1] + delta_r\n",
    "    N[i] = S[i] + I[i] + R[i]\n",
    "    P[i] = I[i] / N[i]"
   ]
  },
  {
   "cell_type": "code",
   "execution_count": 6,
   "metadata": {},
   "outputs": [],
   "source": [
    "np.savez(\"scenario_3\", S=S, I=I, R=R, N=N, P=P, beta=beta, gamma=gamma)"
   ]
  },
  {
   "cell_type": "code",
   "execution_count": 7,
   "metadata": {},
   "outputs": [
    {
     "data": {
      "image/png": "[encoded data removed]",
      "text/plain": [
       "<Figure size 640x480 with 1 Axes>"
      ]
     },
     "metadata": {},
     "output_type": "display_data"
    }
   ],
   "source": [
    "def plot_population_data(S, R, I, P):\n",
    "    \"\"\"\n",
    "    Plots the population data for susceptible (S), recovered (R), and infected (I) individuals over time.\n",
    "\n",
    "    Parameters:\n",
    "    S (array-like): Array of susceptible population counts over time.\n",
    "    R (array-like): Array of recovered population counts over time.\n",
    "    I (array-like): Array of infected population counts over time.\n",
    "\n",
    "    Returns:\n",
    "    None\n",
    "    \"\"\"\n",
    "    plt.plot(S, label=\"S\")\n",
    "    plt.plot(R, label=\"R\")\n",
    "    plt.plot(I, label=\"I\")\n",
    "    plt.plot(P, label=\"P\")\n",
    "    plt.xlabel(\"Time\")\n",
    "    plt.ylabel(\"Population\")\n",
    "    plt.legend()\n",
    "    plt.show()\n",
    "\n",
    "\n",
    "plot_population_data(S, R, I, P)"
   ]
  },
  {
   "cell_type": "code",
   "execution_count": 8,
   "metadata": {},
   "outputs": [
    {
     "data": {
      "text/plain": [
       "array([5.00000e-05, 6.40000e-05, 8.90000e-05, 1.24000e-04, 1.80000e-04,\n",
       "       2.49000e-04, 3.60000e-04, 5.34000e-04, 7.36000e-04, 1.02700e-03,\n",
       "       1.43500e-03, 2.01900e-03, 2.80600e-03, 3.92500e-03, 5.46200e-03,\n",
       "       7.50700e-03, 1.05370e-02, 1.45950e-02, 2.02950e-02, 2.81780e-02,\n",
       "       3.88590e-02, 5.30130e-02, 7.22220e-02, 9.69580e-02, 1.28464e-01,\n",
       "       1.21394e-01, 1.13555e-01, 1.05221e-01, 9.71430e-02, 8.88320e-02,\n",
       "       8.05590e-02, 7.26550e-02, 6.52970e-02, 5.82690e-02, 5.20060e-02,\n",
       "       4.61490e-02, 4.09490e-02, 3.62070e-02, 3.20010e-02, 2.82930e-02,\n",
       "       2.46740e-02, 2.14430e-02, 1.87960e-02, 1.63560e-02, 1.43630e-02,\n",
       "       1.24540e-02, 1.07280e-02, 9.40800e-03, 8.19700e-03, 7.05100e-03,\n",
       "       7.21600e-03, 7.41400e-03, 7.63900e-03, 7.87500e-03, 8.00600e-03,\n",
       "       8.26400e-03, 8.33900e-03, 8.48800e-03, 8.73000e-03, 8.81900e-03,\n",
       "       8.98000e-03, 9.09600e-03, 9.27000e-03, 9.47100e-03, 9.64400e-03,\n",
       "       9.81400e-03, 9.97600e-03, 1.02000e-02, 1.03330e-02, 1.04960e-02,\n",
       "       1.05510e-02, 1.04980e-02, 1.05780e-02, 1.06420e-02, 1.07410e-02,\n",
       "       7.54900e-03, 5.34600e-03, 3.74300e-03, 2.62100e-03, 1.85000e-03,\n",
       "       1.31400e-03, 9.54000e-04, 6.65000e-04, 4.70000e-04, 3.14000e-04,\n",
       "       2.21000e-04, 1.53000e-04, 9.50000e-05, 6.70000e-05, 5.20000e-05,\n",
       "       3.80000e-05, 2.50000e-05, 1.90000e-05, 1.30000e-05, 1.20000e-05,\n",
       "       6.00000e-06, 4.00000e-06, 1.00000e-06, 0.00000e+00, 0.00000e+00])"
      ]
     },
     "execution_count": 8,
     "metadata": {},
     "output_type": "execute_result"
    }
   ],
   "source": [
    "P"
   ]
  },
  {
   "cell_type": "code",
   "execution_count": null,
   "metadata": {},
   "outputs": [],
   "source": []
  }
 ],
 "metadata": {
  "kernelspec": {
   "display_name": "base",
   "language": "python",
   "name": "python3"
  },
  "language_info": {
   "codemirror_mode": {
    "name": "ipython",
    "version": 3
   },
   "file_extension": ".py",
   "mimetype": "text/x-python",
   "name": "python",
   "nbconvert_exporter": "python",
   "pygments_lexer": "ipython3",
   "version": "3.11.5"
  }
 },
 "nbformat": 4,
 "nbformat_minor": 2
}
