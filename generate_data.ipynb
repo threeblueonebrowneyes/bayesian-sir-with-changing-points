{
 "cells": [
  {
   "cell_type": "code",
   "execution_count": 1,
   "metadata": {},
   "outputs": [],
   "source": [
    "# import library\n",
    "import numpy as np\n",
    "import matplotlib.pyplot as plt\n"
   ]
  },
  {
   "cell_type": "code",
   "execution_count": 2,
   "metadata": {},
   "outputs": [],
   "source": [
    "# define global variables and vectors\n",
    "n_steps = 100\n",
    "\n",
    "S = np.zeros(n_steps)\n",
    "I = np.zeros(n_steps)\n",
    "R = np.zeros(n_steps)\n",
    "P = np.zeros(n_steps)\n",
    "N = np.zeros(n_steps)\n",
    "\n",
    "changing_points = [\n",
    "    25,\n",
    "    50,\n",
    "    75,\n",
    "]\n",
    "\n",
    "# # first scenario\n",
    "# betas = np.array([0.3, 0.4, 0.25, 0.2])\n",
    "# gammas = np.array([0.05, 0.15, 0.2, 0.25])\n",
    "\n",
    "N[0] = 1_000_000\n",
    "S[0] = N[0] - 50\n",
    "I[0] = 50\n",
    "R[0] = 0\n",
    "P[0] = I[0] / N[0]"
   ]
  },
  {
   "cell_type": "code",
   "execution_count": 3,
   "metadata": {},
   "outputs": [],
   "source": [
    "beta = np.concatenate(\n",
    "    (\n",
    "        np.ones(\n",
    "            25,\n",
    "        )\n",
    "        * 0.5,\n",
    "        np.ones(\n",
    "            25,\n",
    "        )\n",
    "        * 0.3,\n",
    "        np.ones(\n",
    "            25,\n",
    "        )\n",
    "        * 0.4,\n",
    "        np.ones(\n",
    "            25,\n",
    "        )\n",
    "        * 0.2,\n",
    "    )\n",
    ")"
   ]
  },
  {
   "cell_type": "code",
   "execution_count": 4,
   "metadata": {},
   "outputs": [],
   "source": [
    "gamma = np.concatenate(\n",
    "    (\n",
    "        np.ones(\n",
    "            25,\n",
    "        )\n",
    "        * 0.1,\n",
    "        np.ones(\n",
    "            25,\n",
    "        )\n",
    "        * 0.3,\n",
    "        np.ones(\n",
    "            25,\n",
    "        )\n",
    "        * 0.2,\n",
    "        np.ones(\n",
    "            25,\n",
    "        )\n",
    "        * 0.4,\n",
    "    )\n",
    ")"
   ]
  },
  {
   "cell_type": "code",
   "execution_count": 5,
   "metadata": {},
   "outputs": [],
   "source": [
    "for i in range(1, n_steps):\n",
    "    delta_i = np.random.binomial(S[i - 1], 1 - np.exp(-beta[i] * P[i - 1]))\n",
    "    delta_r = np.random.binomial(I[i - 1], gamma[i])\n",
    "    S[i] = S[i - 1] - delta_i\n",
    "    I[i] = I[i - 1] + delta_i - delta_r\n",
    "    R[i] = R[i - 1] + delta_r\n",
    "    N[i] = S[i] + I[i] + R[i]\n",
    "    P[i] = I[i] / N[i]"
   ]
  },
  {
   "cell_type": "code",
   "execution_count": 6,
   "metadata": {},
   "outputs": [],
   "source": [
    "np.savez(\"scenario_3\", S=S, I=I, R=R, N=N, P=P, beta=beta, gamma=gamma)"
   ]
  },
  {
   "cell_type": "code",
   "execution_count": 7,
   "metadata": {},
   "outputs": [
    {
     "data": {
      "image/png": "[encoded data removed]",
      "text/plain": [
       "<Figure size 640x480 with 1 Axes>"
      ]
     },
     "metadata": {},
     "output_type": "display_data"
    }
   ],
   "source": [
    "def plot_population_data(S, R, I):\n",
    "    \"\"\"\n",
    "    Plots the population data for susceptible (S), recovered (R), and infected (I) individuals over time.\n",
    "\n",
    "    Parameters:\n",
    "    S (array-like): Array of susceptible population counts over time.\n",
    "    R (array-like): Array of recovered population counts over time.\n",
    "    I (array-like): Array of infected population counts over time.\n",
    "\n",
    "    Returns:\n",
    "    None\n",
    "    \"\"\"\n",
    "    plt.plot(S, label=\"S\")\n",
    "    plt.plot(R, label=\"R\")\n",
    "    plt.plot(I, label=\"I\")\n",
    "    plt.xlabel(\"Time\")\n",
    "    plt.ylabel(\"Population\")\n",
    "    plt.legend()\n",
    "    plt.show()\n",
    "\n",
    "\n",
    "plot_population_data(S, R, I)"
   ]
  }
 ],
 "metadata": {
  "kernelspec": {
   "display_name": "base",
   "language": "python",
   "name": "python3"
  },
  "language_info": {
   "codemirror_mode": {
    "name": "ipython",
    "version": 3
   },
   "file_extension": ".py",
   "mimetype": "text/x-python",
   "name": "python",
   "nbconvert_exporter": "python",
   "pygments_lexer": "ipython3",
   "version": "3.11.5"
  }
 },
 "nbformat": 4,
 "nbformat_minor": 2
}
