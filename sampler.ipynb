{
 "cells": [
  {
   "cell_type": "code",
   "execution_count": 1,
   "metadata": {},
   "outputs": [],
   "source": [
    "import numpy as np\n",
    "from scipy.integrate import quad as sc_quad\n",
    "from scipy.special import gamma as sc_gamma\n",
    "import matplotlib.pyplot as plt"
   ]
  },
  {
   "cell_type": "code",
   "execution_count": 2,
   "metadata": {},
   "outputs": [],
   "source": [
    "filename = \"scenario_1.npz\""
   ]
  },
  {
   "cell_type": "code",
   "execution_count": 3,
   "metadata": {},
   "outputs": [
    {
     "name": "stdout",
     "output_type": "stream",
     "text": [
      "999950.0 50.0 0.0 1000000.0 100\n"
     ]
    }
   ],
   "source": [
    "data = np.load(filename)\n",
    "S = data[\"S\"]\n",
    "I = data[\"I\"]\n",
    "R = data[\"R\"]\n",
    "\n",
    "S_0 = S[0]\n",
    "I_0 = I[0]\n",
    "R_0 = R[0]\n",
    "N_0 = S_0 + I_0 + R_0\n",
    "Delta_I = np.concatenate([[I_0], S[:-1] - S[1:]])\n",
    "Delta_R = np.concatenate([[R_0], R[1:] - R[:-1]])\n",
    "P = I / N_0\n",
    "T = len(S)\n",
    "p = 0.01\n",
    "\n",
    "print(S_0, I_0, R_0, N_0, T)"
   ]
  },
  {
   "cell_type": "code",
   "execution_count": 4,
   "metadata": {},
   "outputs": [],
   "source": [
    "# define the prior distributions\n",
    "\n",
    "\n",
    "def prior_delta(T, p):\n",
    "    # the first element has to be 1\n",
    "    return np.concatenate([[1], np.random.binomial(1, p, size=T - 1)])\n",
    "\n",
    "\n",
    "def prior_r(K: int):\n",
    "    return np.random.gamma(shape=0.1, scale=0.1, size=K)\n",
    "\n",
    "\n",
    "def prior_b(K):\n",
    "    return np.random.gamma(shape=0.1, scale=0.1, size=K)\n",
    "\n",
    "\n",
    "def prior_gamma(delta, r):\n",
    "    eta = np.cumsum(delta)\n",
    "    gamma = np.random.beta(a=r[eta - 1], b=1)\n",
    "    return gamma\n",
    "\n",
    "\n",
    "def prior_beta(delta, b):\n",
    "    eta = np.cumsum(delta)\n",
    "    beta = np.random.exponential(scale=b[eta - 1])\n",
    "    return beta"
   ]
  },
  {
   "cell_type": "code",
   "execution_count": 5,
   "metadata": {},
   "outputs": [],
   "source": [
    "# define the sampling parameters\n",
    "n_samplings = 1000_000\n",
    "\n",
    "delta = np.zeros((n_samplings, T))\n",
    "r = np.zeros((n_samplings, T+1))\n",
    "b = np.zeros((n_samplings, T+1))\n",
    "beta = np.zeros((n_samplings, T))\n",
    "gamma = np.zeros((n_samplings, T))\n",
    "K = np.zeros(n_samplings, dtype=int)\n",
    "eta = np.zeros((n_samplings, T))"
   ]
  },
  {
   "cell_type": "code",
   "execution_count": 6,
   "metadata": {},
   "outputs": [],
   "source": [
    "def init(T, p):\n",
    "    delta_tmp = prior_delta(T, p)\n",
    "    K_0 = np.sum(delta_tmp)\n",
    "    r_temp = prior_r(K_0)\n",
    "    b_temp = prior_b(K_0)\n",
    "\n",
    "    delta[0, :] = delta_tmp\n",
    "    r[0, 0:K_0] = r_temp\n",
    "    b[0, 0:K_0] = b_temp\n",
    "    gamma[0, :] = prior_gamma(delta_tmp, r_temp)\n",
    "    beta[0, :] = prior_beta(delta_tmp, b_temp)\n",
    "    eta[0, :] = np.cumsum(delta_tmp)\n",
    "    K[0] = K_0"
   ]
  },
  {
   "cell_type": "code",
   "execution_count": 7,
   "metadata": {},
   "outputs": [],
   "source": [
    "def mylog(x):\n",
    "    try:\n",
    "        x = np.array(x)\n",
    "        mask = x > 1e-323\n",
    "        output = np.zeros(len(x))\n",
    "        output[mask] = np.log(x[mask])\n",
    "        output[~mask] = -744\n",
    "        return output\n",
    "    except:\n",
    "        return np.log(x) if x > 0 else -744"
   ]
  },
  {
   "cell_type": "code",
   "execution_count": 8,
   "metadata": {},
   "outputs": [],
   "source": [
    "init(T, p)"
   ]
  },
  {
   "cell_type": "code",
   "execution_count": 9,
   "metadata": {},
   "outputs": [],
   "source": [
    "def add(delta_):\n",
    "    index_tmp = np.where(delta_ == 0)[0]\n",
    "    np.random.shuffle(index_tmp)\n",
    "    zero_index = index_tmp[0]\n",
    "    delta_[zero_index] = 1\n",
    "    return delta_\n",
    "\n",
    "\n",
    "def delete(delta_):\n",
    "    index_tmp = np.where(delta_ == 1)[0]\n",
    "    np.random.shuffle(index_tmp)\n",
    "    zero_index = index_tmp[0]\n",
    "    delta_[zero_index] = 0\n",
    "    return delta_\n",
    "\n",
    "\n",
    "def swap(delta_):\n",
    "    tmp = delta_[1:] + delta_[:-1]\n",
    "\n",
    "    index_tmp = np.where(tmp == 1)[0] + 1\n",
    "    np.random.shuffle(index_tmp)\n",
    "    shuffling_index = index_tmp[0]\n",
    "\n",
    "    tmp_value = delta_[shuffling_index - 1]\n",
    "    delta_[shuffling_index - 1] = delta_[shuffling_index]\n",
    "    delta_[shuffling_index] = tmp_value\n",
    "\n",
    "    return delta_"
   ]
  },
  {
   "cell_type": "code",
   "execution_count": 10,
   "metadata": {},
   "outputs": [],
   "source": [
    "def likelihood(beta, gamma, delta, K):\n",
    "    eta = np.cumsum(delta)\n",
    "    sum_1 = 0\n",
    "    for k in range(1, int(K)):\n",
    "        mask_ = eta == k\n",
    "        n = np.sum(mask_)\n",
    "        sum_beta = np.sum(beta[mask_])\n",
    "        sum_gamma = np.sum(mylog(gamma[mask_]))\n",
    "        sum_1 += 0.2 * mylog(0.1) - 2 * mylog(sc_gamma(0.1))\n",
    "        sum_1 += 2 * mylog(sc_gamma(0.1 + n))\n",
    "        sum_1 -= (0.1 + n) * mylog((0.1 + sum_beta) * (0.1 - sum_gamma))\n",
    "    return sum_1"
   ]
  },
  {
   "cell_type": "code",
   "execution_count": 11,
   "metadata": {},
   "outputs": [],
   "source": [
    "def J_ratio(K_g, K_, T):\n",
    "    k_k = (K_, K_g)\n",
    "    if K_ == K_g:\n",
    "        return 1\n",
    "    elif k_k == (1, 2) or k_k == (T, T - 1):\n",
    "        return 3 / (T - 1)\n",
    "    elif k_k == (2, 1) or k_k == (T - 1, T):\n",
    "        return (T - 1) / 3\n",
    "    elif K_g == K_ + 1:\n",
    "        return (K_g - 1) / (T - K_)\n",
    "    elif K_g == K_ - 1:\n",
    "        return (T - K_) / (K_g - 1)\n",
    "    else:\n",
    "        raise Exception(\"J_ratio is wrong\")"
   ]
  },
  {
   "cell_type": "code",
   "execution_count": 12,
   "metadata": {},
   "outputs": [],
   "source": [
    "for n in range(1, n_samplings):\n",
    "    # load for convenience\n",
    "    beta_g = beta[n - 1, :]\n",
    "    gamma_g = gamma[n - 1, :]\n",
    "    delta_g = delta[n - 1, :]\n",
    "    K_g = K[n - 1]\n",
    "\n",
    "    # propose the move for delta\n",
    "    delta_ = delta_g[:]\n",
    "    if K_g == 1:  # add\n",
    "        delta_ = add(delta_)\n",
    "    elif K_g == T:  # delete\n",
    "        delta_ = delete(delta_)\n",
    "    else:  # random\n",
    "        case = np.random.random()\n",
    "        if case < 1 / 3:\n",
    "            delta_ = add(delta_)\n",
    "        elif case < 2 / 3:\n",
    "            delta_ = delete(delta_)\n",
    "        else:\n",
    "            delta_ = swap(delta_)\n",
    "    K_ = np.sum(delta_)\n",
    "\n",
    "    # metropolis hastings for delta\n",
    "    mh = (\n",
    "        mylog((p / (1 - p)) ** (K_ - K_g))\n",
    "        + likelihood(beta_g, gamma_g, delta_, K_)\n",
    "        - likelihood(beta_g, gamma_g, delta_, K_g)\n",
    "        + mylog(J_ratio(K_g, K_, T))\n",
    "    )\n",
    "\n",
    "    temp_1 = np.log(np.random.random())\n",
    "    if mh > temp_1:\n",
    "        delta[n, :] = delta_\n",
    "        delta_g = delta_\n",
    "\n",
    "    else:\n",
    "        delta[n, :] = delta_g\n",
    "\n",
    "    # updated K and eta\n",
    "    K[n] = int(np.sum(delta[n, :]))\n",
    "    eta[n, :] = np.cumsum(delta[n, :], dtype=int)\n",
    "\n",
    "    # update b and r\n",
    "    for k in range(K[n]):\n",
    "        shape_b = 0.1 + np.sum(eta[n, :] == k)\n",
    "        scale_b = 0.1 + np.sum(beta_g[eta[n, :] == k])\n",
    "\n",
    "        shape_r = shape_b\n",
    "        scale_r = 0.1 + np.sum(-mylog(gamma_g[eta[n, :] == k]))\n",
    "\n",
    "        b[n, k] = np.random.gamma(shape=shape_b, scale=scale_b, size=1)\n",
    "        r[n, k] = np.random.gamma(shape=shape_r, scale=scale_r, size=1)\n",
    "\n",
    "    for t in range(1, T):\n",
    "        y = np.random.beta(\n",
    "            a=(S[t - 1] - Delta_I[t]) + b[n, int(eta[n, t])] + 1, b=Delta_I[t] + 1\n",
    "        )\n",
    "        beta[n, t] = -mylog(y) / P[t - 1]\n",
    "        gamma[n, t] = np.random.beta(\n",
    "            a=Delta_R[t] + r[n, int(eta[n, t])], b=1 + I[t - 1] - Delta_R[t]\n",
    "        )"
   ]
  },
  {
   "cell_type": "code",
   "execution_count": null,
   "metadata": {},
   "outputs": [
    {
     "data": {
      "text/plain": [
       "Text(0, 0.5, 'Beta')"
      ]
     },
     "execution_count": 13,
     "metadata": {},
     "output_type": "execute_result"
    },
    {
     "data": {
      "image/png": "[encoded data removed]",
      "text/plain": [
       "<Figure size 640x480 with 1 Axes>"
      ]
     },
     "metadata": {},
     "output_type": "display_data"
    }
   ],
   "source": [
    "plt.plot(beta[-1, :])\n",
    "plt.axvline(25)\n",
    "plt.axvline(50)\n",
    "plt.axvline(75)\n",
    "plt.axhline(0.3)\n",
    "plt.axhline(0.4)\n",
    "plt.axhline(0.25)\n",
    "plt.axhline(0.2)\n",
    "plt.xlabel(\"Time\")\n",
    "plt.ylabel(\"Beta\")"
   ]
  },
  {
   "cell_type": "code",
   "execution_count": null,
   "metadata": {},
   "outputs": [
    {
     "data": {
      "text/plain": [
       "Text(0, 0.5, 'Gamma')"
      ]
     },
     "execution_count": 14,
     "metadata": {},
     "output_type": "execute_result"
    },
    {
     "data": {
      "image/png": "[encoded data removed]",
      "text/plain": [
       "<Figure size 640x480 with 1 Axes>"
      ]
     },
     "metadata": {},
     "output_type": "display_data"
    }
   ],
   "source": [
    "\n",
    "plt.plot(gamma[-1,:])\n",
    "plt.axvline(25)\n",
    "plt.axvline(50)\n",
    "plt.axvline(75)\n",
    "plt.xlabel(\"Time\")\n",
    "plt.ylabel(\"Gamma\")"
   ]
  }
 ],
 "metadata": {
  "kernelspec": {
   "display_name": "base",
   "language": "python",
   "name": "python3"
  },
  "language_info": {
   "codemirror_mode": {
    "name": "ipython",
    "version": 3
   },
   "file_extension": ".py",
   "mimetype": "text/x-python",
   "name": "python",
   "nbconvert_exporter": "python",
   "pygments_lexer": "ipython3",
   "version": "3.11.5"
  }
 },
 "nbformat": 4,
 "nbformat_minor": 2
}
