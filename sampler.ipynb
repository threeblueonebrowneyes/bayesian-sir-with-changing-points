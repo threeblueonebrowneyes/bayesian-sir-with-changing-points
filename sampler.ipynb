{
 "cells": [
  {
   "cell_type": "code",
   "execution_count": 10,
   "metadata": {},
   "outputs": [],
   "source": [
    "import numpy as np\n",
    "from scipy.integrate import quad\n",
    "from scipy.special import gamma\n"
   ]
  },
  {
   "cell_type": "code",
   "execution_count": 2,
   "metadata": {},
   "outputs": [],
   "source": [
    "filename = \"scenario_1.npz\""
   ]
  },
  {
   "cell_type": "code",
   "execution_count": 3,
   "metadata": {},
   "outputs": [
    {
     "name": "stdout",
     "output_type": "stream",
     "text": [
      "999950.0 50.0 0.0 1000000.0 100\n"
     ]
    }
   ],
   "source": [
    "data = np.load(filename)\n",
    "S = data[\"S\"]\n",
    "I = data[\"I\"]\n",
    "R = data[\"R\"]\n",
    "\n",
    "S_0 = S[0]\n",
    "I_0 = I[0]\n",
    "R_0 = R[0]\n",
    "N_0 = S_0 + I_0 + R_0\n",
    "T = len(S)\n",
    "p = 0.01\n",
    "\n",
    "print(S_0, I_0, R_0, N_0, T)"
   ]
  },
  {
   "cell_type": "code",
   "execution_count": 4,
   "metadata": {},
   "outputs": [],
   "source": [
    "# define the prior distributions\n",
    "\n",
    "\n",
    "def prior_delta(T, p):\n",
    "    # maybe the first element has to be 1\n",
    "    return np.concatenate([[1], np.random.binomial(1, p, size=T - 1)])\n",
    "\n",
    "\n",
    "def prior_r(K: int):\n",
    "    return np.random.gamma(shape=0.1, scale=0.1, size=K)\n",
    "\n",
    "\n",
    "def prior_b(K):\n",
    "    return np.random.gamma(shape=0.1, scale=0.1, size=K)\n",
    "\n",
    "\n",
    "def prior_gamma(delta, r):\n",
    "    eta = np.cumsum(delta)\n",
    "    gamma = np.random.beta(a=r[eta - 1], b=1)\n",
    "    return gamma\n",
    "\n",
    "\n",
    "def prior_beta(delta, b):\n",
    "    eta = np.cumsum(delta)\n",
    "    beta = np.random.exponential(scale=b[eta - 1])\n",
    "    return beta"
   ]
  },
  {
   "cell_type": "code",
   "execution_count": 5,
   "metadata": {},
   "outputs": [],
   "source": [
    "# define the sampling parameters\n",
    "n_samplings = 2\n",
    "\n",
    "delta = np.zeros((n_samplings, T))\n",
    "r = np.zeros((n_samplings, T))\n",
    "b = np.zeros((n_samplings, T))\n",
    "beta = np.zeros((n_samplings, T))\n",
    "gamma = np.zeros((n_samplings, T))"
   ]
  },
  {
   "cell_type": "code",
   "execution_count": 6,
   "metadata": {},
   "outputs": [],
   "source": [
    "def init(T, p):\n",
    "    delta_tmp = prior_delta(T, p)\n",
    "    K = np.sum(delta_tmp)\n",
    "    r_temp = prior_r(K)\n",
    "    b_temp = prior_b(K)\n",
    "\n",
    "    delta[0, :] = delta_tmp\n",
    "    r[0, 0:K] = r_temp\n",
    "    b[0, 0:K] = b_temp\n",
    "    gamma[0, :] = prior_gamma(delta_tmp, r_temp)\n",
    "    beta[0, :] = prior_beta(delta_tmp, b_temp)\n",
    "    "
   ]
  },
  {
   "cell_type": "code",
   "execution_count": 9,
   "metadata": {},
   "outputs": [],
   "source": [
    "init(T, p)\n",
    "# print(delta[0])\n",
    "# print(beta[0])"
   ]
  },
  {
   "cell_type": "code",
   "execution_count": null,
   "metadata": {},
   "outputs": [],
   "source": [
    "def add(delta_):\n",
    "    zero_index = np.random.shuffle(np.where(delta_ == 0)[0])[0]\n",
    "    delta_[zero_index] = 1\n",
    "    return delta_\n",
    "\n",
    "\n",
    "def delete(delta_):\n",
    "    zero_index = np.random.shuffle(np.where(delta_ == 1)[0])[0]\n",
    "    delta_[zero_index] = 0\n",
    "    return delta_\n",
    "\n",
    "\n",
    "def swap(delta_):\n",
    "    tmp = delta_[1:] + delta_[:-1]\n",
    "    shuffling_index = np.random.shuffle(np.where(tmp == 1)[0] + 1)[0]\n",
    "\n",
    "    tmp_value = delta_[shuffling_index - 1]\n",
    "    delta_[shuffling_index - 1] = delta_[shuffling_index]\n",
    "    delta_[shuffling_index] = tmp_value\n",
    "\n",
    "    return delta_"
   ]
  },
  {
   "cell_type": "code",
   "execution_count": null,
   "metadata": {},
   "outputs": [],
   "source": [
    "for n in range(1, n_samplings):\n",
    "    delta_g = delta[n - 1, :]\n",
    "    K_g = np.sum(delta_g)\n",
    "    delta_ = delta_g\n",
    "    if K_g == 1:  # add\n",
    "        delta_ = add(delta_)\n",
    "    elif K_g == T:  # delete\n",
    "        delta_ = delete(delta_)\n",
    "    else:  # random\n",
    "        case = np.random.random()\n",
    "        if case < 1 / 3:\n",
    "            delta_ = add(delta_)\n",
    "        elif case < 2 / 3:\n",
    "            delta_ = delete(delta_)\n",
    "        else:\n",
    "            delta_ = swap(delta_)\n",
    "    K_ = np.sum(delta_)\n",
    "    mh_delta = (p / (1 - p)) ** (K_ - K_g)"
   ]
  },
  {
   "cell_type": "code",
   "execution_count": null,
   "metadata": {},
   "outputs": [],
   "source": [
    "def likelihood(beta, gamma, delta, K):\n",
    "\n",
    "    eta = np.cumsum(delta)\n",
    "    fac_1 = 1\n",
    "    for k in range(1, K):\n",
    "        t_indexes = np.where(eta == k)[0]"
   ]
  },
  {
   "cell_type": "code",
   "execution_count": null,
   "metadata": {},
   "outputs": [],
   "source": [
    "def integrand_1(x, beta_):\n",
    "    return (\n",
    "        0.1**0.1 * x ** (-0.9) * np.exp(-0.1 * x) / gamma(0.1) * x * np.exp(-beta_ * x)\n",
    "    )"
   ]
  }
 ],
 "metadata": {
  "kernelspec": {
   "display_name": "base",
   "language": "python",
   "name": "python3"
  },
  "language_info": {
   "codemirror_mode": {
    "name": "ipython",
    "version": 3
   },
   "file_extension": ".py",
   "mimetype": "text/x-python",
   "name": "python",
   "nbconvert_exporter": "python",
   "pygments_lexer": "ipython3",
   "version": "3.11.5"
  }
 },
 "nbformat": 4,
 "nbformat_minor": 2
}
